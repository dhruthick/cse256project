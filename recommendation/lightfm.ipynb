{
  "nbformat": 4,
  "nbformat_minor": 0,
  "metadata": {
    "colab": {
      "provenance": [],
      "include_colab_link": true
    },
    "kernelspec": {
      "name": "python3",
      "display_name": "Python 3"
    },
    "language_info": {
      "name": "python"
    }
  },
  "cells": [
    {
      "cell_type": "markdown",
      "metadata": {
        "id": "view-in-github",
        "colab_type": "text"
      },
      "source": [
        "<a href=\"https://colab.research.google.com/github/dhruthick/cse256project/blob/main/recommendation/lightfm.ipynb\" target=\"_parent\"><img src=\"https://colab.research.google.com/assets/colab-badge.svg\" alt=\"Open In Colab\"/></a>"
      ]
    },
    {
      "cell_type": "markdown",
      "source": [
        "## Setup and Imports"
      ],
      "metadata": {
        "id": "T8xx7Y-3MzV5"
      }
    },
    {
      "cell_type": "code",
      "source": [
        "!pip install lightfm"
      ],
      "metadata": {
        "colab": {
          "base_uri": "https://localhost:8080/"
        },
        "id": "Y5ANMAaDadHj",
        "outputId": "a806526c-fe86-4ba0-ab81-b37a263cd35e"
      },
      "execution_count": null,
      "outputs": [
        {
          "output_type": "stream",
          "name": "stdout",
          "text": [
            "Looking in indexes: https://pypi.org/simple, https://us-python.pkg.dev/colab-wheels/public/simple/\n",
            "Collecting lightfm\n",
            "  Downloading lightfm-1.17.tar.gz (316 kB)\n",
            "\u001b[2K     \u001b[90m━━━━━━━━━━━━━━━━━━━━━━━━━━━━━━━━━━━━━━\u001b[0m \u001b[32m316.4/316.4 kB\u001b[0m \u001b[31m13.6 MB/s\u001b[0m eta \u001b[36m0:00:00\u001b[0m\n",
            "\u001b[?25h  Preparing metadata (setup.py) ... \u001b[?25l\u001b[?25hdone\n",
            "Requirement already satisfied: numpy in /usr/local/lib/python3.10/dist-packages (from lightfm) (1.22.4)\n",
            "Requirement already satisfied: scipy>=0.17.0 in /usr/local/lib/python3.10/dist-packages (from lightfm) (1.10.1)\n",
            "Requirement already satisfied: requests in /usr/local/lib/python3.10/dist-packages (from lightfm) (2.27.1)\n",
            "Requirement already satisfied: scikit-learn in /usr/local/lib/python3.10/dist-packages (from lightfm) (1.2.2)\n",
            "Requirement already satisfied: urllib3<1.27,>=1.21.1 in /usr/local/lib/python3.10/dist-packages (from requests->lightfm) (1.26.15)\n",
            "Requirement already satisfied: certifi>=2017.4.17 in /usr/local/lib/python3.10/dist-packages (from requests->lightfm) (2022.12.7)\n",
            "Requirement already satisfied: charset-normalizer~=2.0.0 in /usr/local/lib/python3.10/dist-packages (from requests->lightfm) (2.0.12)\n",
            "Requirement already satisfied: idna<4,>=2.5 in /usr/local/lib/python3.10/dist-packages (from requests->lightfm) (3.4)\n",
            "Requirement already satisfied: joblib>=1.1.1 in /usr/local/lib/python3.10/dist-packages (from scikit-learn->lightfm) (1.2.0)\n",
            "Requirement already satisfied: threadpoolctl>=2.0.0 in /usr/local/lib/python3.10/dist-packages (from scikit-learn->lightfm) (3.1.0)\n",
            "Building wheels for collected packages: lightfm\n",
            "  Building wheel for lightfm (setup.py) ... \u001b[?25l\u001b[?25hdone\n",
            "  Created wheel for lightfm: filename=lightfm-1.17-cp310-cp310-linux_x86_64.whl size=867268 sha256=5d50845611e0e13e9bc54c51601ff513a5c425a2c17037787ea6b15a0547a20f\n",
            "  Stored in directory: /root/.cache/pip/wheels/4f/9b/7e/0b256f2168511d8fa4dae4fae0200fdbd729eb424a912ad636\n",
            "Successfully built lightfm\n",
            "Installing collected packages: lightfm\n",
            "Successfully installed lightfm-1.17\n"
          ]
        }
      ]
    },
    {
      "cell_type": "code",
      "source": [
        "from google.colab import drive\n",
        "drive.mount('/content/drive')"
      ],
      "metadata": {
        "colab": {
          "base_uri": "https://localhost:8080/"
        },
        "id": "d_ZitQ0wHoMs",
        "outputId": "8d764b3b-bad2-48af-e872-8eb442e4e9dc"
      },
      "execution_count": null,
      "outputs": [
        {
          "output_type": "stream",
          "name": "stdout",
          "text": [
            "Mounted at /content/drive\n"
          ]
        }
      ]
    },
    {
      "cell_type": "code",
      "execution_count": null,
      "metadata": {
        "id": "esGR3UvVLG2h"
      },
      "outputs": [],
      "source": [
        "import pandas as pd\n",
        "import numpy as np\n",
        "import math\n",
        "\n",
        "import joblib\n",
        "\n",
        "import scipy.sparse as sp\n",
        "from tqdm import tqdm\n",
        "\n",
        "from lightfm import LightFM\n",
        "\n",
        "from sklearn.preprocessing import LabelEncoder\n",
        "from sklearn.feature_extraction.text import CountVectorizer\n",
        "\n",
        "import csv\n",
        "from collections import defaultdict"
      ]
    },
    {
      "cell_type": "markdown",
      "source": [
        "## Read data"
      ],
      "metadata": {
        "id": "D7sIQYJLM6i0"
      }
    },
    {
      "cell_type": "code",
      "source": [
        "data_path='/content/drive/MyDrive/cse256/project/data/'\n",
        "models_path='/content/drive/MyDrive/cse256/project/models/'\n",
        "all_interactions=pd.read_csv(data_path+'all_interactions.csv').drop('pid',axis=1)\n",
        "interactions_train=pd.read_csv(data_path+'interactions_train.csv').drop('pid',axis=1)\n",
        "interactions_val=pd.read_csv(data_path+'interactions_val.csv').drop('pid',axis=1)"
      ],
      "metadata": {
        "id": "34QXN1oQLTN7"
      },
      "execution_count": null,
      "outputs": []
    },
    {
      "cell_type": "code",
      "source": [
        "playlist_info=pd.read_csv(data_path+'playlists.csv')\n",
        "train_pids=np.unique(interactions_train.gen_pid)\n",
        "playlist_info=playlist_info[playlist_info.pid.isin(train_pids)]"
      ],
      "metadata": {
        "id": "o_1qlhkpdYBX"
      },
      "execution_count": null,
      "outputs": []
    },
    {
      "cell_type": "markdown",
      "source": [
        "## Necessary data structures"
      ],
      "metadata": {
        "id": "uajbwyKdM8ax"
      }
    },
    {
      "cell_type": "code",
      "source": [
        "num_playlists=len(np.unique(interactions_train.gen_pid))\n",
        "num_tracks=len(np.unique(all_interactions.tid))"
      ],
      "metadata": {
        "id": "XM7JAC7NUkHy"
      },
      "execution_count": null,
      "outputs": []
    },
    {
      "cell_type": "code",
      "source": [
        "playlistsPerTrack = defaultdict(set)\n",
        "tracksPerPlaylist = defaultdict(set)\n",
        "trackNames={}\n",
        "track_id2artist_uri={}\n",
        "track_id2album_uri={}\n",
        "artist_count=defaultdict(int)\n",
        "album_count=defaultdict(int)\n",
        "for pid,tid,track_name,artist,album_uri,artist_uri in tqdm(interactions_train[['gen_pid','tid','track_name','artist_name','album_uri','artist_uri']].values.tolist()):\n",
        "    playlistsPerTrack[tid].add(pid)\n",
        "    tracksPerPlaylist[pid].add(tid)\n",
        "    trackNames[tid] = (track_name, artist)\n",
        "    track_id2artist_uri[tid]=artist_uri\n",
        "    track_id2album_uri[tid]=album_uri\n",
        "    artist_count[artist_uri]+=1\n",
        "    album_count[album_uri]+=1"
      ],
      "metadata": {
        "id": "qGMewK6c55PM"
      },
      "execution_count": null,
      "outputs": []
    },
    {
      "cell_type": "code",
      "source": [
        "playlists_info={}\n",
        "for pid, ptracks in interactions_train.groupby('gen_pid'):\n",
        "    track_ids= ptracks.tid.values.tolist()\n",
        "    album_uris=ptracks.album_uri.tolist()\n",
        "    artist_uris=ptracks.artist_uri.tolist()\n",
        "    playlists_info[pid]={\n",
        "        'tracks':track_ids,\n",
        "        'albums':album_uris,\n",
        "        'artists':artist_uris\n",
        "    }"
      ],
      "metadata": {
        "id": "JwEyoSV4I05K"
      },
      "execution_count": null,
      "outputs": []
    },
    {
      "cell_type": "markdown",
      "source": [
        "## Playlist name as a feature"
      ],
      "metadata": {
        "id": "KQ7GmkUlNDwH"
      }
    },
    {
      "cell_type": "code",
      "source": [
        "playlist_names=playlist_info.set_index('pid').name\n",
        "playlist_names=playlist_names.reindex(np.arange(num_playlists)).fillna('')\n",
        "vectorizer = CountVectorizer(max_features=20000)\n",
        "user_features = vectorizer.fit_transform(playlist_names)"
      ],
      "metadata": {
        "id": "PAvJk-URe7Sl"
      },
      "execution_count": null,
      "outputs": []
    },
    {
      "cell_type": "code",
      "source": [
        "user_features = sp.hstack([sp.eye(num_playlists), user_features])"
      ],
      "metadata": {
        "id": "_NTDJxLTfpYd"
      },
      "execution_count": null,
      "outputs": []
    },
    {
      "cell_type": "markdown",
      "source": [
        "## Setup interaction matrix"
      ],
      "metadata": {
        "id": "vw71o1UsNgYk"
      }
    },
    {
      "cell_type": "code",
      "source": [
        "X_train=sp.coo_matrix(\n",
        "    (np.ones(len(interactions_train)), (interactions_train.gen_pid,interactions_train.tid)),\n",
        "    shape=(num_playlists,num_tracks)\n",
        ")"
      ],
      "metadata": {
        "id": "d5-ztJ9VViWS"
      },
      "execution_count": null,
      "outputs": []
    },
    {
      "cell_type": "markdown",
      "source": [
        "## Functions to evaluate recommendations"
      ],
      "metadata": {
        "id": "KFrI2u78KS0F"
      }
    },
    {
      "cell_type": "code",
      "source": [
        "def get_scores(pid,N):\n",
        "  all_tracks=np.unique(all_interactions.tid)\n",
        "  ptracks=tracksPerPlaylist[pid]\n",
        "  pred_tracks=[t for t in all_tracks if t not in ptracks]\n",
        "  scores=model.predict(user_ids=[pid for i in range(len(pred_tracks))],\n",
        "                item_ids=pred_tracks)\n",
        "  scores=[(scores[i],pred_tracks[i]) for i in range(len(pred_tracks))]\n",
        "  scores.sort(reverse=True)\n",
        "  return scores[:N]\n"
      ],
      "metadata": {
        "id": "4inBpsrsgHSd"
      },
      "execution_count": null,
      "outputs": []
    },
    {
      "cell_type": "code",
      "source": [
        "def evaluate_playlist(pid,N):\n",
        "  relevantTracks=set(interactions_val[interactions_val['gen_pid']==pid].tid.values)\n",
        "  scores=get_scores(pid,N)\n",
        "  recommendedTracks=set([t[1] for t in scores])\n",
        "  rprc=len(recommendedTracks.intersection(relevantTracks))/len(relevantTracks)\n",
        "  dcg=0\n",
        "  for i in range(len(scores)):\n",
        "    if scores[i][1] in relevantTracks:\n",
        "      dcg+=math.log(2)/math.log(i+2)\n",
        "  ndcg=dcg/len(relevantTracks)\n",
        "  rec_click=int(N/10)+1\n",
        "  for i in range(0,int(N/10)):\n",
        "    recommendedTracks=set([t[1] for t in scores[i*10:(i*10+10)]])\n",
        "    if len(recommendedTracks.intersection(relevantTracks))>0:\n",
        "      rec_click=i+1\n",
        "      break\n",
        "  return rprc,ndcg,rec_click"
      ],
      "metadata": {
        "id": "y_xBSLV8iPbU"
      },
      "execution_count": null,
      "outputs": []
    },
    {
      "cell_type": "code",
      "source": [
        "def evaluate(k,N,print=False):\n",
        "  val_pids=np.unique(interactions_val.gen_pid)\n",
        "  rprcs,ndcgs,rec_clicks=[],[],[]\n",
        "  for pid in tqdm(val_pids[:k]):\n",
        "    rprc,ndcg,rec_click=evaluate_playlist(pid,N=N)\n",
        "    rprcs.append(rprc)\n",
        "    ndcgs.append(ndcg)\n",
        "    rec_clicks.append(rec_click)\n",
        "  if print:\n",
        "    print(f'\\nAverage R-Precision: {np.average(rprcs)}')\n",
        "    print(f'Average NDCG: {np.average(ndcgs)}')\n",
        "    print(f'Average Recommendation Clicks: {np.average(rec_clicks)}')\n",
        "  return np.average(rprcs),np.average(ndcgs),np.average(rec_clicks)"
      ],
      "metadata": {
        "id": "aKmlOwyMi0Kv"
      },
      "execution_count": null,
      "outputs": []
    },
    {
      "cell_type": "markdown",
      "source": [
        "## LightFM training"
      ],
      "metadata": {
        "id": "Bm3r2_wTKXJ_"
      }
    },
    {
      "cell_type": "code",
      "source": [
        "best_arprc=0\n",
        "model = LightFM(no_components=200, loss='warp', learning_rate=0.02, max_sampled=400, random_state=1, user_alpha=1e-05)\n",
        "for i in range(60):\n",
        "    model.fit_partial(X_train, epochs=5, verbose=True)\n",
        "    arprc,andcg,arec_clicks=evaluate(25,500,print=False)\n",
        "    print(f'Average R-Precision: {arprc}')\n",
        "    if best_arprc<arprc:\n",
        "      best_arprc=arprc\n",
        "      print('Saving_model...',end='')\n",
        "      joblib.dump(model, open(models_path+'lightfm_model.pkl', 'wb'))\n",
        "      print('Done')\n"
      ],
      "metadata": {
        "colab": {
          "base_uri": "https://localhost:8080/"
        },
        "id": "AAQ87r_oaJ34",
        "outputId": "53f27816-8f77-4cfc-b98e-8ab51a9e8988"
      },
      "execution_count": null,
      "outputs": [
        {
          "metadata": {
            "tags": null
          },
          "name": "stderr",
          "output_type": "stream",
          "text": [
            "Epoch: 100%|██████████| 5/5 [03:39<00:00, 43.92s/it]\n",
            "100%|██████████| 25/25 [00:10<00:00,  2.31it/s]\n"
          ]
        },
        {
          "metadata": {
            "tags": null
          },
          "name": "stdout",
          "output_type": "stream",
          "text": [
            "Average R-Precision: 0.2666961634856371\n",
            "Saving_model...Done\n"
          ]
        },
        {
          "metadata": {
            "tags": null
          },
          "name": "stderr",
          "output_type": "stream",
          "text": [
            "Epoch: 100%|██████████| 5/5 [05:48<00:00, 69.79s/it]\n",
            "100%|██████████| 25/25 [00:10<00:00,  2.31it/s]\n"
          ]
        },
        {
          "metadata": {
            "tags": null
          },
          "name": "stdout",
          "output_type": "stream",
          "text": [
            "Average R-Precision: 0.3306712760325629\n",
            "Saving_model...Done\n"
          ]
        },
        {
          "metadata": {
            "tags": null
          },
          "name": "stderr",
          "output_type": "stream",
          "text": [
            "Epoch: 100%|██████████| 5/5 [06:45<00:00, 81.06s/it]\n",
            "100%|██████████| 25/25 [00:09<00:00,  2.56it/s]\n"
          ]
        },
        {
          "metadata": {
            "tags": null
          },
          "name": "stdout",
          "output_type": "stream",
          "text": [
            "Average R-Precision: 0.40153215371696993\n",
            "Saving_model...Done\n"
          ]
        },
        {
          "metadata": {
            "tags": null
          },
          "name": "stderr",
          "output_type": "stream",
          "text": [
            "Epoch: 100%|██████████| 5/5 [07:35<00:00, 91.01s/it]\n",
            "100%|██████████| 25/25 [00:09<00:00,  2.58it/s]\n"
          ]
        },
        {
          "metadata": {
            "tags": null
          },
          "name": "stdout",
          "output_type": "stream",
          "text": [
            "Average R-Precision: 0.4013037546650415\n"
          ]
        },
        {
          "metadata": {
            "tags": null
          },
          "name": "stderr",
          "output_type": "stream",
          "text": [
            "Epoch: 100%|██████████| 5/5 [08:23<00:00, 100.71s/it]\n",
            "100%|██████████| 25/25 [00:09<00:00,  2.61it/s]\n"
          ]
        },
        {
          "metadata": {
            "tags": null
          },
          "name": "stdout",
          "output_type": "stream",
          "text": [
            "Average R-Precision: 0.4013841731024394\n"
          ]
        },
        {
          "metadata": {
            "tags": null
          },
          "name": "stderr",
          "output_type": "stream",
          "text": [
            "Epoch: 100%|██████████| 5/5 [09:10<00:00, 110.01s/it]\n",
            "100%|██████████| 25/25 [00:09<00:00,  2.51it/s]\n"
          ]
        },
        {
          "metadata": {
            "tags": null
          },
          "name": "stdout",
          "output_type": "stream",
          "text": [
            "Average R-Precision: 0.37500077871904497\n"
          ]
        },
        {
          "metadata": {
            "tags": null
          },
          "name": "stderr",
          "output_type": "stream",
          "text": [
            "Epoch: 100%|██████████| 5/5 [09:56<00:00, 119.25s/it]\n",
            "100%|██████████| 25/25 [00:10<00:00,  2.37it/s]\n"
          ]
        },
        {
          "metadata": {
            "tags": null
          },
          "name": "stdout",
          "output_type": "stream",
          "text": [
            "Average R-Precision: 0.3981995448651795\n"
          ]
        },
        {
          "metadata": {
            "tags": null
          },
          "name": "stderr",
          "output_type": "stream",
          "text": [
            "Epoch: 100%|██████████| 5/5 [10:42<00:00, 128.56s/it]\n",
            "100%|██████████| 25/25 [00:10<00:00,  2.36it/s]\n"
          ]
        },
        {
          "metadata": {
            "tags": null
          },
          "name": "stdout",
          "output_type": "stream",
          "text": [
            "Average R-Precision: 0.44809252145380823\n",
            "Saving_model...Done\n"
          ]
        },
        {
          "metadata": {
            "tags": null
          },
          "name": "stderr",
          "output_type": "stream",
          "text": [
            "Epoch: 100%|██████████| 5/5 [11:22<00:00, 136.41s/it]\n",
            "100%|██████████| 25/25 [00:09<00:00,  2.56it/s]\n"
          ]
        },
        {
          "metadata": {
            "tags": null
          },
          "name": "stdout",
          "output_type": "stream",
          "text": [
            "Average R-Precision: 0.45272744208872895\n",
            "Saving_model...Done\n"
          ]
        },
        {
          "metadata": {
            "tags": null
          },
          "name": "stderr",
          "output_type": "stream",
          "text": [
            "Epoch: 100%|██████████| 5/5 [12:05<00:00, 145.01s/it]\n",
            "100%|██████████| 25/25 [00:11<00:00,  2.23it/s]\n"
          ]
        },
        {
          "metadata": {
            "tags": null
          },
          "name": "stdout",
          "output_type": "stream",
          "text": [
            "Average R-Precision: 0.4526322039934908\n"
          ]
        },
        {
          "metadata": {
            "tags": null
          },
          "name": "stderr",
          "output_type": "stream",
          "text": [
            "Epoch: 100%|██████████| 5/5 [12:44<00:00, 152.82s/it]\n",
            "100%|██████████| 25/25 [00:10<00:00,  2.38it/s]\n"
          ]
        },
        {
          "metadata": {
            "tags": null
          },
          "name": "stdout",
          "output_type": "stream",
          "text": [
            "Average R-Precision: 0.4407274420887289\n"
          ]
        },
        {
          "metadata": {
            "tags": null
          },
          "name": "stderr",
          "output_type": "stream",
          "text": [
            "Epoch: 100%|██████████| 5/5 [13:16<00:00, 159.28s/it]\n",
            "100%|██████████| 25/25 [00:08<00:00,  2.79it/s]\n"
          ]
        },
        {
          "metadata": {
            "tags": null
          },
          "name": "stdout",
          "output_type": "stream",
          "text": [
            "Average R-Precision: 0.43550733299245886\n"
          ]
        },
        {
          "metadata": {
            "tags": null
          },
          "name": "stderr",
          "output_type": "stream",
          "text": [
            "Epoch: 100%|██████████| 5/5 [13:41<00:00, 164.22s/it]\n",
            "100%|██████████| 25/25 [00:08<00:00,  2.78it/s]\n"
          ]
        },
        {
          "metadata": {
            "tags": null
          },
          "name": "stdout",
          "output_type": "stream",
          "text": [
            "Average R-Precision: 0.4167237072614647\n"
          ]
        },
        {
          "metadata": {
            "tags": null
          },
          "name": "stderr",
          "output_type": "stream",
          "text": [
            "Epoch: 100%|██████████| 5/5 [14:04<00:00, 168.80s/it]\n",
            "100%|██████████| 25/25 [00:10<00:00,  2.41it/s]\n"
          ]
        },
        {
          "metadata": {
            "tags": null
          },
          "name": "stdout",
          "output_type": "stream",
          "text": [
            "Average R-Precision: 0.41002217081164444\n"
          ]
        },
        {
          "metadata": {
            "tags": null
          },
          "name": "stderr",
          "output_type": "stream",
          "text": [
            "Epoch: 100%|██████████| 5/5 [14:03<00:00, 168.77s/it]\n",
            "100%|██████████| 25/25 [00:10<00:00,  2.44it/s]\n"
          ]
        },
        {
          "metadata": {
            "tags": null
          },
          "name": "stdout",
          "output_type": "stream",
          "text": [
            "Average R-Precision: 0.4019635627530364\n"
          ]
        },
        {
          "metadata": {
            "tags": null
          },
          "name": "stderr",
          "output_type": "stream",
          "text": [
            "Epoch: 100%|██████████| 5/5 [14:28<00:00, 173.80s/it]\n",
            "100%|██████████| 25/25 [00:10<00:00,  2.44it/s]\n"
          ]
        },
        {
          "metadata": {
            "tags": null
          },
          "name": "stdout",
          "output_type": "stream",
          "text": [
            "Average R-Precision: 0.41218334297281667\n"
          ]
        },
        {
          "metadata": {
            "tags": null
          },
          "name": "stderr",
          "output_type": "stream",
          "text": [
            "Epoch: 100%|██████████| 5/5 [14:41<00:00, 176.29s/it]\n",
            "100%|██████████| 25/25 [00:11<00:00,  2.15it/s]\n"
          ]
        },
        {
          "metadata": {
            "tags": null
          },
          "name": "stdout",
          "output_type": "stream",
          "text": [
            "Average R-Precision: 0.4119635627530364\n"
          ]
        },
        {
          "metadata": {
            "tags": null
          },
          "name": "stderr",
          "output_type": "stream",
          "text": [
            "Epoch: 100%|██████████| 5/5 [14:52<00:00, 178.52s/it]\n",
            "100%|██████████| 25/25 [00:08<00:00,  2.92it/s]\n"
          ]
        },
        {
          "metadata": {
            "tags": null
          },
          "name": "stdout",
          "output_type": "stream",
          "text": [
            "Average R-Precision: 0.40643975322922693\n"
          ]
        },
        {
          "metadata": {
            "tags": null
          },
          "name": "stderr",
          "output_type": "stream",
          "text": [
            "Epoch: 100%|██████████| 5/5 [15:04<00:00, 180.91s/it]\n",
            "100%|██████████| 25/25 [00:09<00:00,  2.58it/s]\n"
          ]
        },
        {
          "metadata": {
            "tags": null
          },
          "name": "stdout",
          "output_type": "stream",
          "text": [
            "Average R-Precision: 0.4035826103720841\n"
          ]
        },
        {
          "metadata": {
            "tags": null
          },
          "name": "stderr",
          "output_type": "stream",
          "text": [
            "Epoch: 100%|██████████| 5/5 [15:13<00:00, 182.71s/it]\n",
            "100%|██████████| 25/25 [00:10<00:00,  2.43it/s]\n"
          ]
        },
        {
          "metadata": {
            "tags": null
          },
          "name": "stdout",
          "output_type": "stream",
          "text": [
            "Average R-Precision: 0.4024297281665703\n"
          ]
        },
        {
          "metadata": {
            "tags": null
          },
          "name": "stderr",
          "output_type": "stream",
          "text": [
            "Epoch: 100%|██████████| 5/5 [15:29<00:00, 185.92s/it]\n",
            "100%|██████████| 25/25 [00:10<00:00,  2.43it/s]\n"
          ]
        },
        {
          "metadata": {
            "tags": null
          },
          "name": "stdout",
          "output_type": "stream",
          "text": [
            "Average R-Precision: 0.4076119144013881\n"
          ]
        },
        {
          "metadata": {
            "tags": null
          },
          "name": "stderr",
          "output_type": "stream",
          "text": [
            "Epoch: 100%|██████████| 5/5 [15:39<00:00, 187.84s/it]\n",
            "100%|██████████| 25/25 [00:10<00:00,  2.42it/s]\n"
          ]
        },
        {
          "metadata": {
            "tags": null
          },
          "name": "stdout",
          "output_type": "stream",
          "text": [
            "Average R-Precision: 0.3955066512434934\n"
          ]
        },
        {
          "metadata": {
            "tags": null
          },
          "name": "stderr",
          "output_type": "stream",
          "text": [
            "Epoch: 100%|██████████| 5/5 [15:57<00:00, 191.51s/it]\n",
            "100%|██████████| 25/25 [00:10<00:00,  2.38it/s]\n"
          ]
        },
        {
          "metadata": {
            "tags": null
          },
          "name": "stdout",
          "output_type": "stream",
          "text": [
            "Average R-Precision: 0.41074474648158854\n"
          ]
        },
        {
          "metadata": {
            "tags": null
          },
          "name": "stderr",
          "output_type": "stream",
          "text": [
            "Epoch: 100%|██████████| 5/5 [16:25<00:00, 197.11s/it]\n",
            "100%|██████████| 25/25 [00:10<00:00,  2.41it/s]\n"
          ]
        },
        {
          "metadata": {
            "tags": null
          },
          "name": "stdout",
          "output_type": "stream",
          "text": [
            "Average R-Precision: 0.40366782340466556\n"
          ]
        },
        {
          "metadata": {
            "tags": null
          },
          "name": "stderr",
          "output_type": "stream",
          "text": [
            "Epoch: 100%|██████████| 5/5 [16:34<00:00, 198.82s/it]\n",
            "100%|██████████| 25/25 [00:08<00:00,  2.86it/s]\n"
          ]
        },
        {
          "metadata": {
            "tags": null
          },
          "name": "stdout",
          "output_type": "stream",
          "text": [
            "Average R-Precision: 0.40366782340466556\n"
          ]
        },
        {
          "output_type": "stream",
          "name": "stderr",
          "text": [
            "Epoch: 100%|██████████| 5/5 [16:20<00:00, 196.18s/it]\n",
            "100%|██████████| 25/25 [00:10<00:00,  2.49it/s]\n"
          ]
        },
        {
          "output_type": "stream",
          "name": "stdout",
          "text": [
            "Average R-Precision: 0.40100115673799885\n"
          ]
        },
        {
          "output_type": "stream",
          "name": "stderr",
          "text": [
            "Epoch: 100%|██████████| 5/5 [16:17<00:00, 195.57s/it]\n",
            "100%|██████████| 25/25 [00:10<00:00,  2.50it/s]\n"
          ]
        },
        {
          "output_type": "stream",
          "name": "stdout",
          "text": [
            "Average R-Precision: 0.39100115673799885\n"
          ]
        },
        {
          "output_type": "stream",
          "name": "stderr",
          "text": [
            "Epoch: 100%|██████████| 5/5 [16:20<00:00, 196.10s/it]\n",
            "100%|██████████| 25/25 [00:09<00:00,  2.52it/s]\n"
          ]
        },
        {
          "output_type": "stream",
          "name": "stdout",
          "text": [
            "Average R-Precision: 0.38909639483323694\n"
          ]
        },
        {
          "output_type": "stream",
          "name": "stderr",
          "text": [
            "Epoch:  80%|████████  | 4/5 [13:05<03:16, 196.43s/it]"
          ]
        }
      ]
    }
  ]
}