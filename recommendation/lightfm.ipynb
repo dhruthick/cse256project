{
  "nbformat": 4,
  "nbformat_minor": 0,
  "metadata": {
    "colab": {
      "provenance": [],
      "mount_file_id": "1GqsV1rAGIO63HM-DyPNv6TJNx1G6f49A",
      "authorship_tag": "ABX9TyP1zLCZ8+6AtD2DKpmiVK6t",
      "include_colab_link": true
    },
    "kernelspec": {
      "name": "python3",
      "display_name": "Python 3"
    },
    "language_info": {
      "name": "python"
    }
  },
  "cells": [
    {
      "cell_type": "markdown",
      "metadata": {
        "id": "view-in-github",
        "colab_type": "text"
      },
      "source": [
        "<a href=\"https://colab.research.google.com/github/dhruthick/cse256project/blob/main/recommendation/lightfm.ipynb\" target=\"_parent\"><img src=\"https://colab.research.google.com/assets/colab-badge.svg\" alt=\"Open In Colab\"/></a>"
      ]
    },
    {
      "cell_type": "code",
      "source": [
        "!pip install lightfm"
      ],
      "metadata": {
        "colab": {
          "base_uri": "https://localhost:8080/"
        },
        "id": "Y5ANMAaDadHj",
        "outputId": "284588ce-2306-4ee1-f4ac-c2a56c42ccc4"
      },
      "execution_count": 16,
      "outputs": [
        {
          "output_type": "stream",
          "name": "stdout",
          "text": [
            "Looking in indexes: https://pypi.org/simple, https://us-python.pkg.dev/colab-wheels/public/simple/\n",
            "Collecting lightfm\n",
            "  Downloading lightfm-1.17.tar.gz (316 kB)\n",
            "\u001b[2K     \u001b[90m━━━━━━━━━━━━━━━━━━━━━━━━━━━━━━━━━━━━━━━\u001b[0m \u001b[32m316.4/316.4 kB\u001b[0m \u001b[31m6.3 MB/s\u001b[0m eta \u001b[36m0:00:00\u001b[0m\n",
            "\u001b[?25h  Preparing metadata (setup.py) ... \u001b[?25l\u001b[?25hdone\n",
            "Requirement already satisfied: numpy in /usr/local/lib/python3.10/dist-packages (from lightfm) (1.22.4)\n",
            "Requirement already satisfied: scipy>=0.17.0 in /usr/local/lib/python3.10/dist-packages (from lightfm) (1.10.1)\n",
            "Requirement already satisfied: requests in /usr/local/lib/python3.10/dist-packages (from lightfm) (2.27.1)\n",
            "Requirement already satisfied: scikit-learn in /usr/local/lib/python3.10/dist-packages (from lightfm) (1.2.2)\n",
            "Requirement already satisfied: urllib3<1.27,>=1.21.1 in /usr/local/lib/python3.10/dist-packages (from requests->lightfm) (1.26.15)\n",
            "Requirement already satisfied: certifi>=2017.4.17 in /usr/local/lib/python3.10/dist-packages (from requests->lightfm) (2022.12.7)\n",
            "Requirement already satisfied: charset-normalizer~=2.0.0 in /usr/local/lib/python3.10/dist-packages (from requests->lightfm) (2.0.12)\n",
            "Requirement already satisfied: idna<4,>=2.5 in /usr/local/lib/python3.10/dist-packages (from requests->lightfm) (3.4)\n",
            "Requirement already satisfied: joblib>=1.1.1 in /usr/local/lib/python3.10/dist-packages (from scikit-learn->lightfm) (1.2.0)\n",
            "Requirement already satisfied: threadpoolctl>=2.0.0 in /usr/local/lib/python3.10/dist-packages (from scikit-learn->lightfm) (3.1.0)\n",
            "Building wheels for collected packages: lightfm\n",
            "  Building wheel for lightfm (setup.py) ... \u001b[?25l\u001b[?25hdone\n",
            "  Created wheel for lightfm: filename=lightfm-1.17-cp310-cp310-linux_x86_64.whl size=879183 sha256=92cdeec49c919ab5b92ef9da25fe741c169e320c199bbd3e24484e93b140eec1\n",
            "  Stored in directory: /root/.cache/pip/wheels/4f/9b/7e/0b256f2168511d8fa4dae4fae0200fdbd729eb424a912ad636\n",
            "Successfully built lightfm\n",
            "Installing collected packages: lightfm\n",
            "Successfully installed lightfm-1.17\n"
          ]
        }
      ]
    },
    {
      "cell_type": "code",
      "execution_count": 30,
      "metadata": {
        "id": "esGR3UvVLG2h"
      },
      "outputs": [],
      "source": [
        "import pandas as pd\n",
        "import numpy as np\n",
        "import math\n",
        "\n",
        "import scipy.sparse as sp\n",
        "from tqdm import tqdm\n",
        "\n",
        "from lightfm import LightFM"
      ]
    },
    {
      "cell_type": "code",
      "source": [
        "data_path='/content/drive/MyDrive/cse256/project/data/'\n",
        "all_interactions=pd.read_csv(data_path+'all_interactions.csv')\n",
        "interactions_train=pd.read_csv(data_path+'interactions_train.csv')\n",
        "interactions_val=pd.read_csv(data_path+'interactions_val.csv')"
      ],
      "metadata": {
        "id": "34QXN1oQLTN7"
      },
      "execution_count": 19,
      "outputs": []
    },
    {
      "cell_type": "code",
      "source": [
        "num_playlists=len(np.unique(interactions_train.gen_pid))\n",
        "num_tracks=len(np.unique(all_interactions.tid))"
      ],
      "metadata": {
        "id": "XM7JAC7NUkHy"
      },
      "execution_count": 20,
      "outputs": []
    },
    {
      "cell_type": "code",
      "source": [
        "X_train=sp.coo_matrix(\n",
        "    (np.ones(len(interactions_train)), (interactions_train.gen_pid,interactions_train.tid)),\n",
        "    shape=(num_playlists,num_tracks)\n",
        ")"
      ],
      "metadata": {
        "id": "d5-ztJ9VViWS"
      },
      "execution_count": 21,
      "outputs": []
    },
    {
      "cell_type": "code",
      "source": [
        "def get_scores(pid,N):\n",
        "  all_tracks=np.unique(all_interactions.tid)\n",
        "  scores=model.predict(user_ids=[pid for i in range(len(all_tracks))],\n",
        "                item_ids=all_tracks)\n",
        "  scores=[(scores[i],all_tracks[i]) for i in range(len(all_tracks))]\n",
        "  scores.sort(reverse=True)\n",
        "  return scores[:N]\n"
      ],
      "metadata": {
        "id": "4inBpsrsgHSd"
      },
      "execution_count": 37,
      "outputs": []
    },
    {
      "cell_type": "code",
      "source": [
        "def evaluate_playlist(pid,N):\n",
        "  relevantTracks=set(interactions_val[interactions_val['gen_pid']==pid].tid.values)\n",
        "  scores=get_scores(pid,N)\n",
        "  recommendedTracks=set([t[1] for t in scores])\n",
        "  rprc=len(recommendedTracks.intersection(relevantTracks))/len(relevantTracks)\n",
        "  dcg=0\n",
        "  for i in range(len(scores)):\n",
        "    if scores[i][1] in relevantTracks:\n",
        "      dcg+=math.log(2)/math.log(i+2)\n",
        "  ndcg=dcg/len(relevantTracks)\n",
        "  rec_click=int(N/10)+1\n",
        "  for i in range(0,int(N/10)):\n",
        "    recommendedTracks=set([t[1] for t in scores[i*10:(i*10+10)]])\n",
        "    if len(recommendedTracks.intersection(relevantTracks))>0:\n",
        "      rec_click=i+1\n",
        "      break\n",
        "  return rprc,ndcg,rec_click"
      ],
      "metadata": {
        "id": "y_xBSLV8iPbU"
      },
      "execution_count": 40,
      "outputs": []
    },
    {
      "cell_type": "code",
      "source": [
        "def evaluate(k):\n",
        "  val_pids=np.unique(interactions_val.gen_pid)\n",
        "  rprcs,ndcgs,rec_clicks=[],[],[]\n",
        "  for pid in tqdm(val_pids[:k]):\n",
        "    rprc,ndcg,rec_click=evaluate_playlist(pid,N=500)\n",
        "    rprcs.append(rprc)\n",
        "    ndcgs.append(ndcg)\n",
        "    rec_clicks.append(rec_click)\n",
        "  print(f'\\nAverage R-Precision: {np.average(rprcs)}')\n",
        "  print(f'Average NDCG: {np.average(ndcgs)}')\n",
        "  print(f'Average Recommendation Clicks: {np.average(rec_clicks)}')"
      ],
      "metadata": {
        "id": "aKmlOwyMi0Kv"
      },
      "execution_count": 47,
      "outputs": []
    },
    {
      "cell_type": "code",
      "source": [
        "model = LightFM(no_components=200, loss='warp', learning_rate=0.02, max_sampled=400, random_state=1, user_alpha=1e-05)\n",
        "for i in range(5):\n",
        "    model.fit_partial(X_train, epochs=5, verbose=True)\n",
        "    evaluate(50)"
      ],
      "metadata": {
        "colab": {
          "base_uri": "https://localhost:8080/"
        },
        "id": "AAQ87r_oaJ34",
        "outputId": "b99db6c5-0c09-452f-eef5-499fcd69c454"
      },
      "execution_count": 46,
      "outputs": [
        {
          "output_type": "stream",
          "name": "stderr",
          "text": [
            "Epoch: 100%|██████████| 5/5 [01:58<00:00, 23.70s/it]\n",
            "100%|██████████| 50/50 [00:24<00:00,  2.06it/s]\n"
          ]
        },
        {
          "output_type": "stream",
          "name": "stdout",
          "text": [
            "\n",
            "Average R-Precision: 0.3181226316128693\n",
            "Average NDCG: 0.060596290753668375\n",
            "Average Recommendation Clicks: 22.12\n"
          ]
        },
        {
          "output_type": "stream",
          "name": "stderr",
          "text": [
            "Epoch: 100%|██████████| 5/5 [03:36<00:00, 43.38s/it]\n",
            "100%|██████████| 50/50 [00:25<00:00,  1.97it/s]\n"
          ]
        },
        {
          "output_type": "stream",
          "name": "stdout",
          "text": [
            "\n",
            "Average R-Precision: 0.3834137716834809\n",
            "Average NDCG: 0.07383883411282867\n",
            "Average Recommendation Clicks: 16.6\n"
          ]
        },
        {
          "output_type": "stream",
          "name": "stderr",
          "text": [
            "Epoch: 100%|██████████| 5/5 [05:02<00:00, 60.47s/it]\n",
            "100%|██████████| 50/50 [00:24<00:00,  2.03it/s]\n"
          ]
        },
        {
          "output_type": "stream",
          "name": "stdout",
          "text": [
            "\n",
            "Average R-Precision: 0.4074891241276788\n",
            "Average NDCG: 0.07937240305828591\n",
            "Average Recommendation Clicks: 16.48\n"
          ]
        },
        {
          "output_type": "stream",
          "name": "stderr",
          "text": [
            "Epoch: 100%|██████████| 5/5 [06:18<00:00, 75.72s/it]\n",
            "100%|██████████| 50/50 [00:25<00:00,  1.97it/s]\n"
          ]
        },
        {
          "output_type": "stream",
          "name": "stdout",
          "text": [
            "\n",
            "Average R-Precision: 0.416872961616355\n",
            "Average NDCG: 0.08001754731293055\n",
            "Average Recommendation Clicks: 15.36\n"
          ]
        },
        {
          "output_type": "stream",
          "name": "stderr",
          "text": [
            "Epoch: 100%|██████████| 5/5 [07:21<00:00, 88.40s/it]\n",
            "100%|██████████| 50/50 [00:24<00:00,  2.04it/s]"
          ]
        },
        {
          "output_type": "stream",
          "name": "stdout",
          "text": [
            "\n",
            "Average R-Precision: 0.4397930970364904\n",
            "Average NDCG: 0.08318648939048401\n",
            "Average Recommendation Clicks: 15.24\n"
          ]
        },
        {
          "output_type": "stream",
          "name": "stderr",
          "text": [
            "\n"
          ]
        }
      ]
    },
    {
      "cell_type": "code",
      "source": [
        "evaluate(7476)"
      ],
      "metadata": {
        "colab": {
          "base_uri": "https://localhost:8080/"
        },
        "id": "-QCDIaPGk_hm",
        "outputId": "75e1d3b3-a80c-473f-f2c8-57e22925c738"
      },
      "execution_count": 56,
      "outputs": [
        {
          "output_type": "stream",
          "name": "stderr",
          "text": [
            "100%|██████████| 7476/7476 [1:03:25<00:00,  1.96it/s]"
          ]
        },
        {
          "output_type": "stream",
          "name": "stdout",
          "text": [
            "\n",
            "Average R-Precision: 0.4342794348785031\n",
            "Average NDCG: 0.08242533121734824\n",
            "Average Recommendation Clicks: 14.194756554307116\n"
          ]
        },
        {
          "output_type": "stream",
          "name": "stderr",
          "text": [
            "\n"
          ]
        }
      ]
    },
    {
      "cell_type": "code",
      "source": [],
      "metadata": {
        "id": "qNcggb4p8Jg7"
      },
      "execution_count": null,
      "outputs": []
    }
  ]
}