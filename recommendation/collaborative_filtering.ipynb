{
  "cells": [
    {
      "cell_type": "markdown",
      "metadata": {
        "id": "view-in-github",
        "colab_type": "text"
      },
      "source": [
        "<a href=\"https://colab.research.google.com/github/dhruthick/cse256project/blob/main/recommendation/collaborative_filtering.ipynb\" target=\"_parent\"><img src=\"https://colab.research.google.com/assets/colab-badge.svg\" alt=\"Open In Colab\"/></a>"
      ]
    },
    {
      "cell_type": "markdown",
      "metadata": {
        "id": "h40QP1seLDTX"
      },
      "source": [
        "# Basic Collaborative Filtering for Recommendation"
      ]
    },
    {
      "cell_type": "markdown",
      "metadata": {
        "id": "YAEEO209LBBQ"
      },
      "source": [
        "## Imports"
      ]
    },
    {
      "cell_type": "code",
      "execution_count": null,
      "metadata": {
        "id": "h_Eim8r4kQky"
      },
      "outputs": [],
      "source": [
        "import pandas as pd\n",
        "import numpy as np\n",
        "from tqdm import tqdm\n",
        "import math\n",
        "from collections import defaultdict"
      ]
    },
    {
      "cell_type": "markdown",
      "metadata": {
        "id": "9kVMehPwLOmZ"
      },
      "source": [
        "## Read Data"
      ]
    },
    {
      "cell_type": "code",
      "execution_count": null,
      "metadata": {
        "id": "bDvhCqQ7k5GX"
      },
      "outputs": [],
      "source": [
        "data_path='/content/drive/MyDrive/cse256/project/data/'\n",
        "interactions_train=pd.read_csv(data_path+'interactions_train.csv')"
      ]
    },
    {
      "cell_type": "code",
      "execution_count": null,
      "metadata": {
        "id": "FbfE1u9SktZk"
      },
      "outputs": [],
      "source": [
        "val=pd.read_csv(data_path+'interactions_val.csv')"
      ]
    },
    {
      "cell_type": "markdown",
      "metadata": {
        "id": "bk-prKf7LZD2"
      },
      "source": [
        "Some essential data structures"
      ]
    },
    {
      "cell_type": "code",
      "execution_count": null,
      "metadata": {
        "colab": {
          "base_uri": "https://localhost:8080/"
        },
        "id": "kQUHuDQzlWVg",
        "outputId": "c1fd3169-ed47-45f8-d0dc-aba1c8482bbe"
      },
      "outputs": [
        {
          "name": "stderr",
          "output_type": "stream",
          "text": [
            "100%|██████████| 350200/350200 [00:01<00:00, 287772.06it/s]\n"
          ]
        }
      ],
      "source": [
        "playlistsPerTrack = defaultdict(set) \n",
        "tracksPerPlaylist = defaultdict(set) \n",
        "trackNames = {}\n",
        "interactionMatrix = {}\n",
        "\n",
        "for playlist,track,track_name,artist in tqdm(interactions_train[['pid','track_uri','track_name','artist_name']].values.tolist()):\n",
        "    playlistsPerTrack[track].add(playlist)\n",
        "    tracksPerPlaylist[playlist].add(track)\n",
        "    interactionMatrix[(playlist,track)] = 1\n",
        "    trackNames[track] = (track_name, artist)"
      ]
    },
    {
      "cell_type": "markdown",
      "metadata": {
        "id": "etBk8-SrLUKx"
      },
      "source": [
        "## Utility Functions"
      ]
    },
    {
      "cell_type": "markdown",
      "metadata": {
        "id": "twrSyX6YLTlY"
      },
      "source": [
        "Function to calculate jaccard similarity between two sets"
      ]
    },
    {
      "cell_type": "code",
      "execution_count": null,
      "metadata": {
        "id": "QDK4myVPlksK"
      },
      "outputs": [],
      "source": [
        "def Jaccard(s1, s2):\n",
        "    numer = len(s1.intersection(s2))\n",
        "    denom = len(s1.union(s2))\n",
        "    if denom == 0:\n",
        "        return 0\n",
        "    return numer / denom"
      ]
    },
    {
      "cell_type": "markdown",
      "metadata": {
        "id": "6nFYy6l-LfQT"
      },
      "source": [
        "Function to calculate similarity scores for tracks to be recommended given a single track"
      ]
    },
    {
      "cell_type": "code",
      "execution_count": null,
      "metadata": {
        "id": "003DO0M2loKW"
      },
      "outputs": [],
      "source": [
        "def mostSimilarFast(track, return_all=False, N=10):\n",
        "    similarities = []\n",
        "    playlists = playlistsPerTrack[track]\n",
        "    candidateTracks = set()\n",
        "    for p in playlists:\n",
        "        candidateTracks = candidateTracks.union(tracksPerPlaylist[p])\n",
        "    for t in candidateTracks:\n",
        "        if t == track: continue\n",
        "        sim = Jaccard(playlists, playlistsPerTrack[t])\n",
        "        similarities.append((sim,t,trackNames[t]))\n",
        "    similarities.sort(reverse=True)\n",
        "    if return_all:\n",
        "      return similarities\n",
        "    return similarities[:N]"
      ]
    },
    {
      "cell_type": "markdown",
      "metadata": {
        "id": "xtrkG4BlLoom"
      },
      "source": [
        "Function to fetch recommedend tracks and their average similarity scores given a list of tracks"
      ]
    },
    {
      "cell_type": "code",
      "execution_count": null,
      "metadata": {
        "id": "Pe5b9zEGDS4q"
      },
      "outputs": [],
      "source": [
        "def recommend_tracks(tracks,N):\n",
        "  scores=defaultdict(float)\n",
        "  num_tracks=len(tracks)\n",
        "  for track in tracks:\n",
        "    similarities=mostSimilarFast(track, return_all=True)\n",
        "    for sim,t,name in similarities:\n",
        "      if t not in tracks:\n",
        "        scores[t]+=sim\n",
        "  for k in scores.keys():\n",
        "    scores[k]/=num_tracks\n",
        "  scores=sorted(scores.items(), key=lambda item: item[1], reverse=True)\n",
        "  return scores[:N]"
      ]
    },
    {
      "cell_type": "markdown",
      "metadata": {
        "id": "w8lAKTUELy48"
      },
      "source": [
        "## Evaluation"
      ]
    },
    {
      "cell_type": "markdown",
      "metadata": {
        "id": "al1OMBugL2MT"
      },
      "source": [
        "Function to calculate R-Precision (fraction of relevant songs that were recommended), NDCG score, and Recommendation Clicks (number of clicks until the first relevant track is encountered, where each click fetches 10 new track recommendations)"
      ]
    },
    {
      "cell_type": "code",
      "execution_count": null,
      "metadata": {
        "id": "DRses2AZlTrk"
      },
      "outputs": [],
      "source": [
        "def evaluate_playlist_rec(pid,N=500):\n",
        "  tracksInPlaylist=tracksPerPlaylist[pid]\n",
        "  relevantTracks=set(val[val['pid']==pid].track_uri.values)\n",
        "  scores=recommend_tracks(tracksInPlaylist,N=N)\n",
        "  recommendedTracks=set([t[0] for t in scores])\n",
        "  rprc=len(recommendedTracks.intersection(relevantTracks))/len(relevantTracks)\n",
        "  dcg=0\n",
        "  for i in range(len(scores)):\n",
        "    if scores[i][0] in relevantTracks:\n",
        "      dcg+=math.log(2)/math.log(i+2)\n",
        "  ndcg=dcg/len(relevantTracks)\n",
        "  rec_click=51\n",
        "  for i in range(0,50):\n",
        "    recommendedTracks=set([t[0] for t in scores[i*10:(i*10+10)]])\n",
        "    if len(recommendedTracks.intersection(relevantTracks))>0:\n",
        "      rec_click=i+1\n",
        "      break\n",
        "  return rprc,ndcg,rec_click"
      ]
    },
    {
      "cell_type": "code",
      "execution_count": null,
      "metadata": {
        "colab": {
          "background_save": true,
          "base_uri": "https://localhost:8080/"
        },
        "id": "6suM5SxtmzMK",
        "outputId": "8827d216-54d4-44f1-e80e-c31ae0630666"
      },
      "outputs": [
        {
          "name": "stderr",
          "output_type": "stream",
          "text": [
            "100%|██████████| 7476/7476 [53:15<00:00,  2.34it/s]"
          ]
        },
        {
          "name": "stdout",
          "output_type": "stream",
          "text": [
            "\n",
            "Average R-Precision: 0.4100231934245089\n",
            "Average NDCG: 0.0875240137148912\n",
            "Average Recommendation Clicks: 15.401819154628143\n"
          ]
        },
        {
          "name": "stderr",
          "output_type": "stream",
          "text": [
            "\n"
          ]
        }
      ],
      "source": [
        "playlists=np.unique(val.pid.values)\n",
        "rprcs,ndcgs,rec_clicks=[],[],[]\n",
        "for pid in tqdm(playlists):\n",
        "  rprc,ndcg,rec_click=evaluate_playlist_rec(pid,N=500)\n",
        "  rprcs.append(rprc)\n",
        "  ndcgs.append(ndcg)\n",
        "  rec_clicks.append(rec_click)\n",
        "\n",
        "print(f'\\nAverage R-Precision: {np.average(rprcs)}')\n",
        "print(f'Average NDCG: {np.average(ndcgs)}')\n",
        "print(f'Average Recommendation Clicks: {np.average(rec_clicks)}')"
      ]
    },
    {
      "cell_type": "code",
      "execution_count": null,
      "metadata": {
        "id": "w05KjNbFzzR4"
      },
      "outputs": [],
      "source": []
    }
  ],
  "metadata": {
    "colab": {
      "provenance": [],
      "mount_file_id": "1X3BGvlvOkzoad9eYXAaRCgEBWkJYEsgE",
      "authorship_tag": "ABX9TyMfQOlXU1/HA6wj4HHNn4rE",
      "include_colab_link": true
    },
    "kernelspec": {
      "display_name": "Python 3",
      "name": "python3"
    },
    "language_info": {
      "name": "python"
    }
  },
  "nbformat": 4,
  "nbformat_minor": 0
}