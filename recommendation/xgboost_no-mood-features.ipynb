{
  "nbformat": 4,
  "nbformat_minor": 0,
  "metadata": {
    "colab": {
      "provenance": [],
      "mount_file_id": "1ACaPHc9B9_RbbXnn7jyBKEyL6w_hyZ-w",
      "authorship_tag": "ABX9TyMFtkk5LDPVhXjawrENKnc+",
      "include_colab_link": true
    },
    "kernelspec": {
      "name": "python3",
      "display_name": "Python 3"
    },
    "language_info": {
      "name": "python"
    },
    "widgets": {
      "application/vnd.jupyter.widget-state+json": {
        "9223167eaff04c118d4cc54b0228d978": {
          "model_module": "@jupyter-widgets/controls",
          "model_name": "HBoxModel",
          "model_module_version": "1.5.0",
          "state": {
            "_dom_classes": [],
            "_model_module": "@jupyter-widgets/controls",
            "_model_module_version": "1.5.0",
            "_model_name": "HBoxModel",
            "_view_count": null,
            "_view_module": "@jupyter-widgets/controls",
            "_view_module_version": "1.5.0",
            "_view_name": "HBoxView",
            "box_style": "",
            "children": [
              "IPY_MODEL_bb96ff66f0a14099af48a25406fd2ccd",
              "IPY_MODEL_6924f23d4f64486093e95ef7e08cbfda",
              "IPY_MODEL_228153df54df4106b2749d526ef0f542"
            ],
            "layout": "IPY_MODEL_b4c33d812dfe455f997602d5941bc86c"
          }
        },
        "bb96ff66f0a14099af48a25406fd2ccd": {
          "model_module": "@jupyter-widgets/controls",
          "model_name": "HTMLModel",
          "model_module_version": "1.5.0",
          "state": {
            "_dom_classes": [],
            "_model_module": "@jupyter-widgets/controls",
            "_model_module_version": "1.5.0",
            "_model_name": "HTMLModel",
            "_view_count": null,
            "_view_module": "@jupyter-widgets/controls",
            "_view_module_version": "1.5.0",
            "_view_name": "HTMLView",
            "description": "",
            "description_tooltip": null,
            "layout": "IPY_MODEL_1b3a062776b94043aa51244f7aa54f40",
            "placeholder": "​",
            "style": "IPY_MODEL_8fa76ff1f8a9453babbf94790fc906b5",
            "value": "100%"
          }
        },
        "6924f23d4f64486093e95ef7e08cbfda": {
          "model_module": "@jupyter-widgets/controls",
          "model_name": "FloatProgressModel",
          "model_module_version": "1.5.0",
          "state": {
            "_dom_classes": [],
            "_model_module": "@jupyter-widgets/controls",
            "_model_module_version": "1.5.0",
            "_model_name": "FloatProgressModel",
            "_view_count": null,
            "_view_module": "@jupyter-widgets/controls",
            "_view_module_version": "1.5.0",
            "_view_name": "ProgressView",
            "bar_style": "success",
            "description": "",
            "description_tooltip": null,
            "layout": "IPY_MODEL_c010abf041364f6b99ef2b7bb1ebc252",
            "max": 598734,
            "min": 0,
            "orientation": "horizontal",
            "style": "IPY_MODEL_9d63d80a8a4a4cb5b07d7581204dc708",
            "value": 598734
          }
        },
        "228153df54df4106b2749d526ef0f542": {
          "model_module": "@jupyter-widgets/controls",
          "model_name": "HTMLModel",
          "model_module_version": "1.5.0",
          "state": {
            "_dom_classes": [],
            "_model_module": "@jupyter-widgets/controls",
            "_model_module_version": "1.5.0",
            "_model_name": "HTMLModel",
            "_view_count": null,
            "_view_module": "@jupyter-widgets/controls",
            "_view_module_version": "1.5.0",
            "_view_name": "HTMLView",
            "description": "",
            "description_tooltip": null,
            "layout": "IPY_MODEL_4a25a06a670546ef998df12a521d8e65",
            "placeholder": "​",
            "style": "IPY_MODEL_adbd95061e27400ebe331a8d0bfe74b8",
            "value": " 598734/598734 [00:04&lt;00:00, 115413.50it/s]"
          }
        },
        "b4c33d812dfe455f997602d5941bc86c": {
          "model_module": "@jupyter-widgets/base",
          "model_name": "LayoutModel",
          "model_module_version": "1.2.0",
          "state": {
            "_model_module": "@jupyter-widgets/base",
            "_model_module_version": "1.2.0",
            "_model_name": "LayoutModel",
            "_view_count": null,
            "_view_module": "@jupyter-widgets/base",
            "_view_module_version": "1.2.0",
            "_view_name": "LayoutView",
            "align_content": null,
            "align_items": null,
            "align_self": null,
            "border": null,
            "bottom": null,
            "display": null,
            "flex": null,
            "flex_flow": null,
            "grid_area": null,
            "grid_auto_columns": null,
            "grid_auto_flow": null,
            "grid_auto_rows": null,
            "grid_column": null,
            "grid_gap": null,
            "grid_row": null,
            "grid_template_areas": null,
            "grid_template_columns": null,
            "grid_template_rows": null,
            "height": null,
            "justify_content": null,
            "justify_items": null,
            "left": null,
            "margin": null,
            "max_height": null,
            "max_width": null,
            "min_height": null,
            "min_width": null,
            "object_fit": null,
            "object_position": null,
            "order": null,
            "overflow": null,
            "overflow_x": null,
            "overflow_y": null,
            "padding": null,
            "right": null,
            "top": null,
            "visibility": null,
            "width": null
          }
        },
        "1b3a062776b94043aa51244f7aa54f40": {
          "model_module": "@jupyter-widgets/base",
          "model_name": "LayoutModel",
          "model_module_version": "1.2.0",
          "state": {
            "_model_module": "@jupyter-widgets/base",
            "_model_module_version": "1.2.0",
            "_model_name": "LayoutModel",
            "_view_count": null,
            "_view_module": "@jupyter-widgets/base",
            "_view_module_version": "1.2.0",
            "_view_name": "LayoutView",
            "align_content": null,
            "align_items": null,
            "align_self": null,
            "border": null,
            "bottom": null,
            "display": null,
            "flex": null,
            "flex_flow": null,
            "grid_area": null,
            "grid_auto_columns": null,
            "grid_auto_flow": null,
            "grid_auto_rows": null,
            "grid_column": null,
            "grid_gap": null,
            "grid_row": null,
            "grid_template_areas": null,
            "grid_template_columns": null,
            "grid_template_rows": null,
            "height": null,
            "justify_content": null,
            "justify_items": null,
            "left": null,
            "margin": null,
            "max_height": null,
            "max_width": null,
            "min_height": null,
            "min_width": null,
            "object_fit": null,
            "object_position": null,
            "order": null,
            "overflow": null,
            "overflow_x": null,
            "overflow_y": null,
            "padding": null,
            "right": null,
            "top": null,
            "visibility": null,
            "width": null
          }
        },
        "8fa76ff1f8a9453babbf94790fc906b5": {
          "model_module": "@jupyter-widgets/controls",
          "model_name": "DescriptionStyleModel",
          "model_module_version": "1.5.0",
          "state": {
            "_model_module": "@jupyter-widgets/controls",
            "_model_module_version": "1.5.0",
            "_model_name": "DescriptionStyleModel",
            "_view_count": null,
            "_view_module": "@jupyter-widgets/base",
            "_view_module_version": "1.2.0",
            "_view_name": "StyleView",
            "description_width": ""
          }
        },
        "c010abf041364f6b99ef2b7bb1ebc252": {
          "model_module": "@jupyter-widgets/base",
          "model_name": "LayoutModel",
          "model_module_version": "1.2.0",
          "state": {
            "_model_module": "@jupyter-widgets/base",
            "_model_module_version": "1.2.0",
            "_model_name": "LayoutModel",
            "_view_count": null,
            "_view_module": "@jupyter-widgets/base",
            "_view_module_version": "1.2.0",
            "_view_name": "LayoutView",
            "align_content": null,
            "align_items": null,
            "align_self": null,
            "border": null,
            "bottom": null,
            "display": null,
            "flex": null,
            "flex_flow": null,
            "grid_area": null,
            "grid_auto_columns": null,
            "grid_auto_flow": null,
            "grid_auto_rows": null,
            "grid_column": null,
            "grid_gap": null,
            "grid_row": null,
            "grid_template_areas": null,
            "grid_template_columns": null,
            "grid_template_rows": null,
            "height": null,
            "justify_content": null,
            "justify_items": null,
            "left": null,
            "margin": null,
            "max_height": null,
            "max_width": null,
            "min_height": null,
            "min_width": null,
            "object_fit": null,
            "object_position": null,
            "order": null,
            "overflow": null,
            "overflow_x": null,
            "overflow_y": null,
            "padding": null,
            "right": null,
            "top": null,
            "visibility": null,
            "width": null
          }
        },
        "9d63d80a8a4a4cb5b07d7581204dc708": {
          "model_module": "@jupyter-widgets/controls",
          "model_name": "ProgressStyleModel",
          "model_module_version": "1.5.0",
          "state": {
            "_model_module": "@jupyter-widgets/controls",
            "_model_module_version": "1.5.0",
            "_model_name": "ProgressStyleModel",
            "_view_count": null,
            "_view_module": "@jupyter-widgets/base",
            "_view_module_version": "1.2.0",
            "_view_name": "StyleView",
            "bar_color": null,
            "description_width": ""
          }
        },
        "4a25a06a670546ef998df12a521d8e65": {
          "model_module": "@jupyter-widgets/base",
          "model_name": "LayoutModel",
          "model_module_version": "1.2.0",
          "state": {
            "_model_module": "@jupyter-widgets/base",
            "_model_module_version": "1.2.0",
            "_model_name": "LayoutModel",
            "_view_count": null,
            "_view_module": "@jupyter-widgets/base",
            "_view_module_version": "1.2.0",
            "_view_name": "LayoutView",
            "align_content": null,
            "align_items": null,
            "align_self": null,
            "border": null,
            "bottom": null,
            "display": null,
            "flex": null,
            "flex_flow": null,
            "grid_area": null,
            "grid_auto_columns": null,
            "grid_auto_flow": null,
            "grid_auto_rows": null,
            "grid_column": null,
            "grid_gap": null,
            "grid_row": null,
            "grid_template_areas": null,
            "grid_template_columns": null,
            "grid_template_rows": null,
            "height": null,
            "justify_content": null,
            "justify_items": null,
            "left": null,
            "margin": null,
            "max_height": null,
            "max_width": null,
            "min_height": null,
            "min_width": null,
            "object_fit": null,
            "object_position": null,
            "order": null,
            "overflow": null,
            "overflow_x": null,
            "overflow_y": null,
            "padding": null,
            "right": null,
            "top": null,
            "visibility": null,
            "width": null
          }
        },
        "adbd95061e27400ebe331a8d0bfe74b8": {
          "model_module": "@jupyter-widgets/controls",
          "model_name": "DescriptionStyleModel",
          "model_module_version": "1.5.0",
          "state": {
            "_model_module": "@jupyter-widgets/controls",
            "_model_module_version": "1.5.0",
            "_model_name": "DescriptionStyleModel",
            "_view_count": null,
            "_view_module": "@jupyter-widgets/base",
            "_view_module_version": "1.2.0",
            "_view_name": "StyleView",
            "description_width": ""
          }
        },
        "8881eb71b21846888e4727831ecb1292": {
          "model_module": "@jupyter-widgets/controls",
          "model_name": "HBoxModel",
          "model_module_version": "1.5.0",
          "state": {
            "_dom_classes": [],
            "_model_module": "@jupyter-widgets/controls",
            "_model_module_version": "1.5.0",
            "_model_name": "HBoxModel",
            "_view_count": null,
            "_view_module": "@jupyter-widgets/controls",
            "_view_module_version": "1.5.0",
            "_view_name": "HBoxView",
            "box_style": "",
            "children": [
              "IPY_MODEL_f7b3efd77df34178b30a755faf6f8234",
              "IPY_MODEL_5be8be177f48461d8299d35cf948af9e",
              "IPY_MODEL_46b8d45b538c4f4f8c5577cdf219a9ef"
            ],
            "layout": "IPY_MODEL_134a3e6cd6e24333ba2747f6a1a8e638"
          }
        },
        "f7b3efd77df34178b30a755faf6f8234": {
          "model_module": "@jupyter-widgets/controls",
          "model_name": "HTMLModel",
          "model_module_version": "1.5.0",
          "state": {
            "_dom_classes": [],
            "_model_module": "@jupyter-widgets/controls",
            "_model_module_version": "1.5.0",
            "_model_name": "HTMLModel",
            "_view_count": null,
            "_view_module": "@jupyter-widgets/controls",
            "_view_module_version": "1.5.0",
            "_view_name": "HTMLView",
            "description": "",
            "description_tooltip": null,
            "layout": "IPY_MODEL_c19345b3447048cdb277c39b9cc77927",
            "placeholder": "​",
            "style": "IPY_MODEL_bdc5f97555144621a0c109b5428c306e",
            "value": "100%"
          }
        },
        "5be8be177f48461d8299d35cf948af9e": {
          "model_module": "@jupyter-widgets/controls",
          "model_name": "FloatProgressModel",
          "model_module_version": "1.5.0",
          "state": {
            "_dom_classes": [],
            "_model_module": "@jupyter-widgets/controls",
            "_model_module_version": "1.5.0",
            "_model_name": "FloatProgressModel",
            "_view_count": null,
            "_view_module": "@jupyter-widgets/controls",
            "_view_module_version": "1.5.0",
            "_view_name": "ProgressView",
            "bar_style": "success",
            "description": "",
            "description_tooltip": null,
            "layout": "IPY_MODEL_42e82e4c85d24089b9f0c4aa1982a8de",
            "max": 17500,
            "min": 0,
            "orientation": "horizontal",
            "style": "IPY_MODEL_5731488143e14c428f998949bbd4e40d",
            "value": 17500
          }
        },
        "46b8d45b538c4f4f8c5577cdf219a9ef": {
          "model_module": "@jupyter-widgets/controls",
          "model_name": "HTMLModel",
          "model_module_version": "1.5.0",
          "state": {
            "_dom_classes": [],
            "_model_module": "@jupyter-widgets/controls",
            "_model_module_version": "1.5.0",
            "_model_name": "HTMLModel",
            "_view_count": null,
            "_view_module": "@jupyter-widgets/controls",
            "_view_module_version": "1.5.0",
            "_view_name": "HTMLView",
            "description": "",
            "description_tooltip": null,
            "layout": "IPY_MODEL_a47fd3145f994ba2883405900eba5abc",
            "placeholder": "​",
            "style": "IPY_MODEL_508ed43ef7f240f3aa53fe8cbec673d7",
            "value": " 17500/17500 [3:01:28&lt;00:00,  1.68it/s]"
          }
        },
        "134a3e6cd6e24333ba2747f6a1a8e638": {
          "model_module": "@jupyter-widgets/base",
          "model_name": "LayoutModel",
          "model_module_version": "1.2.0",
          "state": {
            "_model_module": "@jupyter-widgets/base",
            "_model_module_version": "1.2.0",
            "_model_name": "LayoutModel",
            "_view_count": null,
            "_view_module": "@jupyter-widgets/base",
            "_view_module_version": "1.2.0",
            "_view_name": "LayoutView",
            "align_content": null,
            "align_items": null,
            "align_self": null,
            "border": null,
            "bottom": null,
            "display": null,
            "flex": null,
            "flex_flow": null,
            "grid_area": null,
            "grid_auto_columns": null,
            "grid_auto_flow": null,
            "grid_auto_rows": null,
            "grid_column": null,
            "grid_gap": null,
            "grid_row": null,
            "grid_template_areas": null,
            "grid_template_columns": null,
            "grid_template_rows": null,
            "height": null,
            "justify_content": null,
            "justify_items": null,
            "left": null,
            "margin": null,
            "max_height": null,
            "max_width": null,
            "min_height": null,
            "min_width": null,
            "object_fit": null,
            "object_position": null,
            "order": null,
            "overflow": null,
            "overflow_x": null,
            "overflow_y": null,
            "padding": null,
            "right": null,
            "top": null,
            "visibility": null,
            "width": null
          }
        },
        "c19345b3447048cdb277c39b9cc77927": {
          "model_module": "@jupyter-widgets/base",
          "model_name": "LayoutModel",
          "model_module_version": "1.2.0",
          "state": {
            "_model_module": "@jupyter-widgets/base",
            "_model_module_version": "1.2.0",
            "_model_name": "LayoutModel",
            "_view_count": null,
            "_view_module": "@jupyter-widgets/base",
            "_view_module_version": "1.2.0",
            "_view_name": "LayoutView",
            "align_content": null,
            "align_items": null,
            "align_self": null,
            "border": null,
            "bottom": null,
            "display": null,
            "flex": null,
            "flex_flow": null,
            "grid_area": null,
            "grid_auto_columns": null,
            "grid_auto_flow": null,
            "grid_auto_rows": null,
            "grid_column": null,
            "grid_gap": null,
            "grid_row": null,
            "grid_template_areas": null,
            "grid_template_columns": null,
            "grid_template_rows": null,
            "height": null,
            "justify_content": null,
            "justify_items": null,
            "left": null,
            "margin": null,
            "max_height": null,
            "max_width": null,
            "min_height": null,
            "min_width": null,
            "object_fit": null,
            "object_position": null,
            "order": null,
            "overflow": null,
            "overflow_x": null,
            "overflow_y": null,
            "padding": null,
            "right": null,
            "top": null,
            "visibility": null,
            "width": null
          }
        },
        "bdc5f97555144621a0c109b5428c306e": {
          "model_module": "@jupyter-widgets/controls",
          "model_name": "DescriptionStyleModel",
          "model_module_version": "1.5.0",
          "state": {
            "_model_module": "@jupyter-widgets/controls",
            "_model_module_version": "1.5.0",
            "_model_name": "DescriptionStyleModel",
            "_view_count": null,
            "_view_module": "@jupyter-widgets/base",
            "_view_module_version": "1.2.0",
            "_view_name": "StyleView",
            "description_width": ""
          }
        },
        "42e82e4c85d24089b9f0c4aa1982a8de": {
          "model_module": "@jupyter-widgets/base",
          "model_name": "LayoutModel",
          "model_module_version": "1.2.0",
          "state": {
            "_model_module": "@jupyter-widgets/base",
            "_model_module_version": "1.2.0",
            "_model_name": "LayoutModel",
            "_view_count": null,
            "_view_module": "@jupyter-widgets/base",
            "_view_module_version": "1.2.0",
            "_view_name": "LayoutView",
            "align_content": null,
            "align_items": null,
            "align_self": null,
            "border": null,
            "bottom": null,
            "display": null,
            "flex": null,
            "flex_flow": null,
            "grid_area": null,
            "grid_auto_columns": null,
            "grid_auto_flow": null,
            "grid_auto_rows": null,
            "grid_column": null,
            "grid_gap": null,
            "grid_row": null,
            "grid_template_areas": null,
            "grid_template_columns": null,
            "grid_template_rows": null,
            "height": null,
            "justify_content": null,
            "justify_items": null,
            "left": null,
            "margin": null,
            "max_height": null,
            "max_width": null,
            "min_height": null,
            "min_width": null,
            "object_fit": null,
            "object_position": null,
            "order": null,
            "overflow": null,
            "overflow_x": null,
            "overflow_y": null,
            "padding": null,
            "right": null,
            "top": null,
            "visibility": null,
            "width": null
          }
        },
        "5731488143e14c428f998949bbd4e40d": {
          "model_module": "@jupyter-widgets/controls",
          "model_name": "ProgressStyleModel",
          "model_module_version": "1.5.0",
          "state": {
            "_model_module": "@jupyter-widgets/controls",
            "_model_module_version": "1.5.0",
            "_model_name": "ProgressStyleModel",
            "_view_count": null,
            "_view_module": "@jupyter-widgets/base",
            "_view_module_version": "1.2.0",
            "_view_name": "StyleView",
            "bar_color": null,
            "description_width": ""
          }
        },
        "a47fd3145f994ba2883405900eba5abc": {
          "model_module": "@jupyter-widgets/base",
          "model_name": "LayoutModel",
          "model_module_version": "1.2.0",
          "state": {
            "_model_module": "@jupyter-widgets/base",
            "_model_module_version": "1.2.0",
            "_model_name": "LayoutModel",
            "_view_count": null,
            "_view_module": "@jupyter-widgets/base",
            "_view_module_version": "1.2.0",
            "_view_name": "LayoutView",
            "align_content": null,
            "align_items": null,
            "align_self": null,
            "border": null,
            "bottom": null,
            "display": null,
            "flex": null,
            "flex_flow": null,
            "grid_area": null,
            "grid_auto_columns": null,
            "grid_auto_flow": null,
            "grid_auto_rows": null,
            "grid_column": null,
            "grid_gap": null,
            "grid_row": null,
            "grid_template_areas": null,
            "grid_template_columns": null,
            "grid_template_rows": null,
            "height": null,
            "justify_content": null,
            "justify_items": null,
            "left": null,
            "margin": null,
            "max_height": null,
            "max_width": null,
            "min_height": null,
            "min_width": null,
            "object_fit": null,
            "object_position": null,
            "order": null,
            "overflow": null,
            "overflow_x": null,
            "overflow_y": null,
            "padding": null,
            "right": null,
            "top": null,
            "visibility": null,
            "width": null
          }
        },
        "508ed43ef7f240f3aa53fe8cbec673d7": {
          "model_module": "@jupyter-widgets/controls",
          "model_name": "DescriptionStyleModel",
          "model_module_version": "1.5.0",
          "state": {
            "_model_module": "@jupyter-widgets/controls",
            "_model_module_version": "1.5.0",
            "_model_name": "DescriptionStyleModel",
            "_view_count": null,
            "_view_module": "@jupyter-widgets/base",
            "_view_module_version": "1.2.0",
            "_view_name": "StyleView",
            "description_width": ""
          }
        },
        "21bf3550cd0741b7a1bce4fa02e6dc7b": {
          "model_module": "@jupyter-widgets/controls",
          "model_name": "HBoxModel",
          "model_module_version": "1.5.0",
          "state": {
            "_dom_classes": [],
            "_model_module": "@jupyter-widgets/controls",
            "_model_module_version": "1.5.0",
            "_model_name": "HBoxModel",
            "_view_count": null,
            "_view_module": "@jupyter-widgets/controls",
            "_view_module_version": "1.5.0",
            "_view_name": "HBoxView",
            "box_style": "",
            "children": [
              "IPY_MODEL_f8847f0e080f4dab94b1b65abe7fd626",
              "IPY_MODEL_95fb2a28d4754912bb67b1d270b2a14d",
              "IPY_MODEL_f7621fb5a391411a8e500ddd01f97c09"
            ],
            "layout": "IPY_MODEL_adba70ee348146a4b64d92d47e70f01d"
          }
        },
        "f8847f0e080f4dab94b1b65abe7fd626": {
          "model_module": "@jupyter-widgets/controls",
          "model_name": "HTMLModel",
          "model_module_version": "1.5.0",
          "state": {
            "_dom_classes": [],
            "_model_module": "@jupyter-widgets/controls",
            "_model_module_version": "1.5.0",
            "_model_name": "HTMLModel",
            "_view_count": null,
            "_view_module": "@jupyter-widgets/controls",
            "_view_module_version": "1.5.0",
            "_view_name": "HTMLView",
            "description": "",
            "description_tooltip": null,
            "layout": "IPY_MODEL_a603056347d043ff827a0a2ff3542d30",
            "placeholder": "​",
            "style": "IPY_MODEL_afd8bdcbc6d449b9a1fd15af57cf60a5",
            "value": "100%"
          }
        },
        "95fb2a28d4754912bb67b1d270b2a14d": {
          "model_module": "@jupyter-widgets/controls",
          "model_name": "FloatProgressModel",
          "model_module_version": "1.5.0",
          "state": {
            "_dom_classes": [],
            "_model_module": "@jupyter-widgets/controls",
            "_model_module_version": "1.5.0",
            "_model_name": "FloatProgressModel",
            "_view_count": null,
            "_view_module": "@jupyter-widgets/controls",
            "_view_module_version": "1.5.0",
            "_view_name": "ProgressView",
            "bar_style": "success",
            "description": "",
            "description_tooltip": null,
            "layout": "IPY_MODEL_0285cdbda50147529943ddd5433f029a",
            "max": 17500,
            "min": 0,
            "orientation": "horizontal",
            "style": "IPY_MODEL_4d5cf9b7e47349e692933ea802b4f685",
            "value": 17500
          }
        },
        "f7621fb5a391411a8e500ddd01f97c09": {
          "model_module": "@jupyter-widgets/controls",
          "model_name": "HTMLModel",
          "model_module_version": "1.5.0",
          "state": {
            "_dom_classes": [],
            "_model_module": "@jupyter-widgets/controls",
            "_model_module_version": "1.5.0",
            "_model_name": "HTMLModel",
            "_view_count": null,
            "_view_module": "@jupyter-widgets/controls",
            "_view_module_version": "1.5.0",
            "_view_name": "HTMLView",
            "description": "",
            "description_tooltip": null,
            "layout": "IPY_MODEL_e3edbc63577b4089aa9869d2ca026ce8",
            "placeholder": "​",
            "style": "IPY_MODEL_6a1c022eb2b742c99b7c9c165ed88405",
            "value": " 17500/17500 [3:04:40&lt;00:00,  1.84it/s]"
          }
        },
        "adba70ee348146a4b64d92d47e70f01d": {
          "model_module": "@jupyter-widgets/base",
          "model_name": "LayoutModel",
          "model_module_version": "1.2.0",
          "state": {
            "_model_module": "@jupyter-widgets/base",
            "_model_module_version": "1.2.0",
            "_model_name": "LayoutModel",
            "_view_count": null,
            "_view_module": "@jupyter-widgets/base",
            "_view_module_version": "1.2.0",
            "_view_name": "LayoutView",
            "align_content": null,
            "align_items": null,
            "align_self": null,
            "border": null,
            "bottom": null,
            "display": null,
            "flex": null,
            "flex_flow": null,
            "grid_area": null,
            "grid_auto_columns": null,
            "grid_auto_flow": null,
            "grid_auto_rows": null,
            "grid_column": null,
            "grid_gap": null,
            "grid_row": null,
            "grid_template_areas": null,
            "grid_template_columns": null,
            "grid_template_rows": null,
            "height": null,
            "justify_content": null,
            "justify_items": null,
            "left": null,
            "margin": null,
            "max_height": null,
            "max_width": null,
            "min_height": null,
            "min_width": null,
            "object_fit": null,
            "object_position": null,
            "order": null,
            "overflow": null,
            "overflow_x": null,
            "overflow_y": null,
            "padding": null,
            "right": null,
            "top": null,
            "visibility": null,
            "width": null
          }
        },
        "a603056347d043ff827a0a2ff3542d30": {
          "model_module": "@jupyter-widgets/base",
          "model_name": "LayoutModel",
          "model_module_version": "1.2.0",
          "state": {
            "_model_module": "@jupyter-widgets/base",
            "_model_module_version": "1.2.0",
            "_model_name": "LayoutModel",
            "_view_count": null,
            "_view_module": "@jupyter-widgets/base",
            "_view_module_version": "1.2.0",
            "_view_name": "LayoutView",
            "align_content": null,
            "align_items": null,
            "align_self": null,
            "border": null,
            "bottom": null,
            "display": null,
            "flex": null,
            "flex_flow": null,
            "grid_area": null,
            "grid_auto_columns": null,
            "grid_auto_flow": null,
            "grid_auto_rows": null,
            "grid_column": null,
            "grid_gap": null,
            "grid_row": null,
            "grid_template_areas": null,
            "grid_template_columns": null,
            "grid_template_rows": null,
            "height": null,
            "justify_content": null,
            "justify_items": null,
            "left": null,
            "margin": null,
            "max_height": null,
            "max_width": null,
            "min_height": null,
            "min_width": null,
            "object_fit": null,
            "object_position": null,
            "order": null,
            "overflow": null,
            "overflow_x": null,
            "overflow_y": null,
            "padding": null,
            "right": null,
            "top": null,
            "visibility": null,
            "width": null
          }
        },
        "afd8bdcbc6d449b9a1fd15af57cf60a5": {
          "model_module": "@jupyter-widgets/controls",
          "model_name": "DescriptionStyleModel",
          "model_module_version": "1.5.0",
          "state": {
            "_model_module": "@jupyter-widgets/controls",
            "_model_module_version": "1.5.0",
            "_model_name": "DescriptionStyleModel",
            "_view_count": null,
            "_view_module": "@jupyter-widgets/base",
            "_view_module_version": "1.2.0",
            "_view_name": "StyleView",
            "description_width": ""
          }
        },
        "0285cdbda50147529943ddd5433f029a": {
          "model_module": "@jupyter-widgets/base",
          "model_name": "LayoutModel",
          "model_module_version": "1.2.0",
          "state": {
            "_model_module": "@jupyter-widgets/base",
            "_model_module_version": "1.2.0",
            "_model_name": "LayoutModel",
            "_view_count": null,
            "_view_module": "@jupyter-widgets/base",
            "_view_module_version": "1.2.0",
            "_view_name": "LayoutView",
            "align_content": null,
            "align_items": null,
            "align_self": null,
            "border": null,
            "bottom": null,
            "display": null,
            "flex": null,
            "flex_flow": null,
            "grid_area": null,
            "grid_auto_columns": null,
            "grid_auto_flow": null,
            "grid_auto_rows": null,
            "grid_column": null,
            "grid_gap": null,
            "grid_row": null,
            "grid_template_areas": null,
            "grid_template_columns": null,
            "grid_template_rows": null,
            "height": null,
            "justify_content": null,
            "justify_items": null,
            "left": null,
            "margin": null,
            "max_height": null,
            "max_width": null,
            "min_height": null,
            "min_width": null,
            "object_fit": null,
            "object_position": null,
            "order": null,
            "overflow": null,
            "overflow_x": null,
            "overflow_y": null,
            "padding": null,
            "right": null,
            "top": null,
            "visibility": null,
            "width": null
          }
        },
        "4d5cf9b7e47349e692933ea802b4f685": {
          "model_module": "@jupyter-widgets/controls",
          "model_name": "ProgressStyleModel",
          "model_module_version": "1.5.0",
          "state": {
            "_model_module": "@jupyter-widgets/controls",
            "_model_module_version": "1.5.0",
            "_model_name": "ProgressStyleModel",
            "_view_count": null,
            "_view_module": "@jupyter-widgets/base",
            "_view_module_version": "1.2.0",
            "_view_name": "StyleView",
            "bar_color": null,
            "description_width": ""
          }
        },
        "e3edbc63577b4089aa9869d2ca026ce8": {
          "model_module": "@jupyter-widgets/base",
          "model_name": "LayoutModel",
          "model_module_version": "1.2.0",
          "state": {
            "_model_module": "@jupyter-widgets/base",
            "_model_module_version": "1.2.0",
            "_model_name": "LayoutModel",
            "_view_count": null,
            "_view_module": "@jupyter-widgets/base",
            "_view_module_version": "1.2.0",
            "_view_name": "LayoutView",
            "align_content": null,
            "align_items": null,
            "align_self": null,
            "border": null,
            "bottom": null,
            "display": null,
            "flex": null,
            "flex_flow": null,
            "grid_area": null,
            "grid_auto_columns": null,
            "grid_auto_flow": null,
            "grid_auto_rows": null,
            "grid_column": null,
            "grid_gap": null,
            "grid_row": null,
            "grid_template_areas": null,
            "grid_template_columns": null,
            "grid_template_rows": null,
            "height": null,
            "justify_content": null,
            "justify_items": null,
            "left": null,
            "margin": null,
            "max_height": null,
            "max_width": null,
            "min_height": null,
            "min_width": null,
            "object_fit": null,
            "object_position": null,
            "order": null,
            "overflow": null,
            "overflow_x": null,
            "overflow_y": null,
            "padding": null,
            "right": null,
            "top": null,
            "visibility": null,
            "width": null
          }
        },
        "6a1c022eb2b742c99b7c9c165ed88405": {
          "model_module": "@jupyter-widgets/controls",
          "model_name": "DescriptionStyleModel",
          "model_module_version": "1.5.0",
          "state": {
            "_model_module": "@jupyter-widgets/controls",
            "_model_module_version": "1.5.0",
            "_model_name": "DescriptionStyleModel",
            "_view_count": null,
            "_view_module": "@jupyter-widgets/base",
            "_view_module_version": "1.2.0",
            "_view_name": "StyleView",
            "description_width": ""
          }
        }
      }
    }
  },
  "cells": [
    {
      "cell_type": "markdown",
      "metadata": {
        "id": "view-in-github",
        "colab_type": "text"
      },
      "source": [
        "<a href=\"https://colab.research.google.com/github/dhruthick/cse256project/blob/main/recommendation/xgboost_no-mood-features.ipynb\" target=\"_parent\"><img src=\"https://colab.research.google.com/assets/colab-badge.svg\" alt=\"Open In Colab\"/></a>"
      ]
    },
    {
      "cell_type": "markdown",
      "source": [
        "# XGBoost - Final Stage of recommendation without mood-based features"
      ],
      "metadata": {
        "id": "PC8VgcMYMEkW"
      }
    },
    {
      "cell_type": "markdown",
      "source": [
        "## Imports and setup"
      ],
      "metadata": {
        "id": "_Xd-UcS3MEP4"
      }
    },
    {
      "cell_type": "code",
      "source": [
        "!pip install lightfm"
      ],
      "metadata": {
        "colab": {
          "base_uri": "https://localhost:8080/"
        },
        "id": "9yhaMCZeduKv",
        "outputId": "c8b9be2f-d800-41bf-c08b-beebec797d5d"
      },
      "execution_count": 2,
      "outputs": [
        {
          "output_type": "stream",
          "name": "stdout",
          "text": [
            "Looking in indexes: https://pypi.org/simple, https://us-python.pkg.dev/colab-wheels/public/simple/\n",
            "Collecting lightfm\n",
            "  Downloading lightfm-1.17.tar.gz (316 kB)\n",
            "\u001b[2K     \u001b[90m━━━━━━━━━━━━━━━━━━━━━━━━━━━━━━━━━━━━━━━\u001b[0m \u001b[32m316.4/316.4 kB\u001b[0m \u001b[31m6.9 MB/s\u001b[0m eta \u001b[36m0:00:00\u001b[0m\n",
            "\u001b[?25h  Preparing metadata (setup.py) ... \u001b[?25l\u001b[?25hdone\n",
            "Requirement already satisfied: numpy in /usr/local/lib/python3.10/dist-packages (from lightfm) (1.22.4)\n",
            "Requirement already satisfied: scipy>=0.17.0 in /usr/local/lib/python3.10/dist-packages (from lightfm) (1.10.1)\n",
            "Requirement already satisfied: requests in /usr/local/lib/python3.10/dist-packages (from lightfm) (2.27.1)\n",
            "Requirement already satisfied: scikit-learn in /usr/local/lib/python3.10/dist-packages (from lightfm) (1.2.2)\n",
            "Requirement already satisfied: urllib3<1.27,>=1.21.1 in /usr/local/lib/python3.10/dist-packages (from requests->lightfm) (1.26.15)\n",
            "Requirement already satisfied: certifi>=2017.4.17 in /usr/local/lib/python3.10/dist-packages (from requests->lightfm) (2022.12.7)\n",
            "Requirement already satisfied: charset-normalizer~=2.0.0 in /usr/local/lib/python3.10/dist-packages (from requests->lightfm) (2.0.12)\n",
            "Requirement already satisfied: idna<4,>=2.5 in /usr/local/lib/python3.10/dist-packages (from requests->lightfm) (3.4)\n",
            "Requirement already satisfied: joblib>=1.1.1 in /usr/local/lib/python3.10/dist-packages (from scikit-learn->lightfm) (1.2.0)\n",
            "Requirement already satisfied: threadpoolctl>=2.0.0 in /usr/local/lib/python3.10/dist-packages (from scikit-learn->lightfm) (3.1.0)\n",
            "Building wheels for collected packages: lightfm\n",
            "  Building wheel for lightfm (setup.py) ... \u001b[?25l\u001b[?25hdone\n",
            "  Created wheel for lightfm: filename=lightfm-1.17-cp310-cp310-linux_x86_64.whl size=879182 sha256=cc545804f673efacaaea186319222972756e100cf41129f1b21341bc3b2c5580\n",
            "  Stored in directory: /root/.cache/pip/wheels/4f/9b/7e/0b256f2168511d8fa4dae4fae0200fdbd729eb424a912ad636\n",
            "Successfully built lightfm\n",
            "Installing collected packages: lightfm\n",
            "Successfully installed lightfm-1.17\n"
          ]
        }
      ]
    },
    {
      "cell_type": "code",
      "execution_count": 8,
      "metadata": {
        "id": "_F81D9T0dk0E"
      },
      "outputs": [],
      "source": [
        "import pandas as pd\n",
        "import numpy as np\n",
        "import joblib\n",
        "import math\n",
        "\n",
        "import pickle\n",
        "from tqdm.notebook import tqdm\n",
        "\n",
        "from lightfm import LightFM\n",
        "\n",
        "import csv\n",
        "from collections import defaultdict\n",
        "\n",
        "import xgboost\n",
        "from sklearn.model_selection import train_test_split"
      ]
    },
    {
      "cell_type": "code",
      "source": [
        "data_path='/content/drive/MyDrive/cse256/project/data/'\n",
        "models_path='/content/drive/MyDrive/cse256/project/models/'\n"
      ],
      "metadata": {
        "id": "0iXo117cOPXb"
      },
      "execution_count": 2,
      "outputs": []
    },
    {
      "cell_type": "markdown",
      "source": [
        "## Read data"
      ],
      "metadata": {
        "id": "deLVIenDMO60"
      }
    },
    {
      "cell_type": "code",
      "source": [
        "all_interactions=pd.read_csv(data_path+'all_interactions.csv').drop('pid',axis=1)\n",
        "interactions_train=pd.read_csv(data_path+'interactions_train.csv').drop('pid',axis=1)\n",
        "interactions_val=pd.read_csv(data_path+'interactions_val.csv').drop('pid',axis=1)\n",
        "cs_model=joblib.load(open(models_path+'lightfm_model.pkl', 'rb'))"
      ],
      "metadata": {
        "id": "LD59ZNI6dpt9"
      },
      "execution_count": 11,
      "outputs": []
    },
    {
      "cell_type": "markdown",
      "source": [
        "## Some necessary data structures"
      ],
      "metadata": {
        "id": "jVTaIrwEMRA5"
      }
    },
    {
      "cell_type": "code",
      "source": [
        "num_playlists=len(np.unique(interactions_train.gen_pid))\n",
        "num_tracks=len(np.unique(all_interactions.tid))"
      ],
      "metadata": {
        "id": "LPt5qkLye7YQ"
      },
      "execution_count": 12,
      "outputs": []
    },
    {
      "cell_type": "code",
      "source": [
        "playlistsPerTrack = defaultdict(set) \n",
        "tracksPerPlaylist = defaultdict(set) \n",
        "trackNames={}\n",
        "track_id2artist_uri={}\n",
        "track_id2album_uri={}\n",
        "artist_count=defaultdict(int)\n",
        "album_count=defaultdict(int)\n",
        "for pid,tid,track_name,artist,album_uri,artist_uri in tqdm(interactions_train[['gen_pid','tid','track_name','artist_name','album_uri','artist_uri']].values.tolist()):\n",
        "    playlistsPerTrack[tid].add(pid)\n",
        "    tracksPerPlaylist[pid].add(tid)\n",
        "    trackNames[tid] = (track_name, artist)\n",
        "    track_id2artist_uri[tid]=artist_uri\n",
        "    track_id2album_uri[tid]=album_uri\n",
        "    artist_count[artist_uri]+=1\n",
        "    album_count[album_uri]+=1"
      ],
      "metadata": {
        "colab": {
          "base_uri": "https://localhost:8080/",
          "height": 49,
          "referenced_widgets": [
            "9223167eaff04c118d4cc54b0228d978",
            "bb96ff66f0a14099af48a25406fd2ccd",
            "6924f23d4f64486093e95ef7e08cbfda",
            "228153df54df4106b2749d526ef0f542",
            "b4c33d812dfe455f997602d5941bc86c",
            "1b3a062776b94043aa51244f7aa54f40",
            "8fa76ff1f8a9453babbf94790fc906b5",
            "c010abf041364f6b99ef2b7bb1ebc252",
            "9d63d80a8a4a4cb5b07d7581204dc708",
            "4a25a06a670546ef998df12a521d8e65",
            "adbd95061e27400ebe331a8d0bfe74b8"
          ]
        },
        "id": "Y2Db4T5rfVaX",
        "outputId": "d995b5d3-fc6f-4998-c0c4-e088e5065f4d"
      },
      "execution_count": 13,
      "outputs": [
        {
          "output_type": "display_data",
          "data": {
            "text/plain": [
              "  0%|          | 0/598734 [00:00<?, ?it/s]"
            ],
            "application/vnd.jupyter.widget-view+json": {
              "version_major": 2,
              "version_minor": 0,
              "model_id": "9223167eaff04c118d4cc54b0228d978"
            }
          },
          "metadata": {}
        }
      ]
    },
    {
      "cell_type": "code",
      "source": [
        "playlists_info={}\n",
        "for pid, ptracks in interactions_train.groupby('gen_pid'):\n",
        "    track_ids= ptracks.tid.values.tolist()\n",
        "    album_uris=ptracks.album_uri.tolist()\n",
        "    artist_uris=ptracks.artist_uri.tolist()\n",
        "    playlists_info[pid]={\n",
        "        'tracks':track_ids,\n",
        "        'albums':album_uris,\n",
        "        'artists':artist_uris\n",
        "    }"
      ],
      "metadata": {
        "id": "WWZP35vWfXqe"
      },
      "execution_count": 14,
      "outputs": []
    },
    {
      "cell_type": "markdown",
      "source": [
        "## Functions for evaluating recommendation"
      ],
      "metadata": {
        "id": "OZ2waCl-MVD-"
      }
    },
    {
      "cell_type": "code",
      "source": [
        "def get_scores(pid,N):\n",
        "  all_tracks=np.unique(all_interactions.tid)\n",
        "  ptracks=tracksPerPlaylist[pid]\n",
        "  pred_tracks=[t for t in all_tracks if t not in ptracks]\n",
        "  scores=cs_model.predict(user_ids=[pid for i in range(len(pred_tracks))],\n",
        "                item_ids=pred_tracks)\n",
        "  scores=[(scores[i],pred_tracks[i]) for i in range(len(pred_tracks))]\n",
        "  scores.sort(reverse=True)\n",
        "  return scores[:N]\n"
      ],
      "metadata": {
        "id": "yDohOpqag0FN"
      },
      "execution_count": 15,
      "outputs": []
    },
    {
      "cell_type": "code",
      "source": [
        "def evaluate_playlist(pid,scores,N):\n",
        "  relevantTracks=set(interactions_test[interactions_test['gen_pid']==pid].tid.values)\n",
        "  scores=scores[:N]\n",
        "  recommendedTracks=set([t[1] for t in scores])\n",
        "  rprc=len(recommendedTracks.intersection(relevantTracks))/len(relevantTracks)\n",
        "  dcg=0\n",
        "  for i in range(len(scores)):\n",
        "    if scores[i][1] in relevantTracks:\n",
        "      dcg+=math.log(2)/math.log(i+2)\n",
        "  ndcg=dcg/len(relevantTracks)\n",
        "  rec_click=int(N/10)+1\n",
        "  for i in range(0,int(N/10)):\n",
        "    recommendedTracks=set([t[1] for t in scores[i*10:(i*10+10)]])\n",
        "    if len(recommendedTracks.intersection(relevantTracks))>0:\n",
        "      rec_click=i+1\n",
        "      break\n",
        "  return rprc,ndcg,rec_click"
      ],
      "metadata": {
        "id": "w3_Tj2dojMgX"
      },
      "execution_count": 16,
      "outputs": []
    },
    {
      "cell_type": "markdown",
      "source": [
        "## Fetching the top-1000 candidate tracks from the candidate selction model and constructing relevant features"
      ],
      "metadata": {
        "id": "YI3J6OaKMmGq"
      }
    },
    {
      "cell_type": "code",
      "source": [
        "columns=['pid','tid','score','rank','track_bias','playlist_bias','dot_product','max_coo','min_coo','mean_coo','median_coc',\n",
        "         'max_ncoo','min_ncoo','mean_ncoo','median_coo','track_artist_count','track_album_count',\n",
        "         'track_artist_share','track_album_share','global_track_count','global_artist_count','global_album_count',\n",
        "         'unique_album_count','unique_artist_count','num_tracks_in_playlist','target']\n",
        "with open(data_path+'xg_data.csv','w') as f:\n",
        "  write = csv.writer(f)\n",
        "  write.writerow(columns)\n",
        "  track_biases, track_embeddings = cs_model.get_item_representations()\n",
        "  playlist_biases, playlist_embeddings = cs_model.get_user_representations()\n",
        "  for pid in tqdm(np.unique(interactions_val.gen_pid)):\n",
        "    candidate_tracks=get_scores(pid,750)\n",
        "    tracks_in_playlist=tracksPerPlaylist[pid]\n",
        "    relevant_tracks=set(interactions_val[interactions_val['gen_pid']==pid].tid.values)\n",
        "    playlist_features=[len(np.unique(playlists_info[pid]['albums'])),\n",
        "                      len(np.unique(playlists_info[pid]['artists'])),len(tracks_in_playlist)]\n",
        "    for i in range(len(candidate_tracks)):\n",
        "      score,tid=candidate_tracks[i]\n",
        "      sample=[pid,tid,score,i,track_biases[tid],playlist_biases[pid],\n",
        "              track_embeddings[tid].dot(playlist_embeddings[pid])]\n",
        "      playlists_with_ctrack=playlistsPerTrack[tid]\n",
        "      co_occurence=[]\n",
        "      norm_co_occurence=[]\n",
        "      for playlist_track in tracks_in_playlist:\n",
        "        other_playlists=playlistsPerTrack[playlist_track]\n",
        "        n=len(other_playlists.intersection(playlists_with_ctrack))\n",
        "        co_occurence.append(n)\n",
        "        norm_co_occurence.append(n/len(other_playlists))\n",
        "      sample.extend([max(co_occurence),min(co_occurence),np.mean(co_occurence),np.median(co_occurence)])\n",
        "      sample.extend([max(norm_co_occurence),min(norm_co_occurence),np.mean(norm_co_occurence),np.median(norm_co_occurence)])\n",
        "      t_artist_count=playlists_info[pid]['artists'].count(track_id2artist_uri[tid])\n",
        "      t_album_count=playlists_info[pid]['albums'].count(track_id2album_uri[tid])\n",
        "      sample.extend([t_artist_count,t_album_count,\n",
        "                    t_artist_count/len(tracks_in_playlist),\n",
        "                    t_album_count/len(tracks_in_playlist)])\n",
        "      sample.extend([len(playlists_with_ctrack),\n",
        "                    artist_count[track_id2artist_uri[tid]],\n",
        "                    album_count[track_id2album_uri[tid]]])\n",
        "      sample.extend(playlist_features)\n",
        "      sample.append(1 if tid in relevant_tracks else 0)\n",
        "      write.writerow(sample)\n"
      ],
      "metadata": {
        "colab": {
          "base_uri": "https://localhost:8080/",
          "height": 49,
          "referenced_widgets": [
            "8881eb71b21846888e4727831ecb1292",
            "f7b3efd77df34178b30a755faf6f8234",
            "5be8be177f48461d8299d35cf948af9e",
            "46b8d45b538c4f4f8c5577cdf219a9ef",
            "134a3e6cd6e24333ba2747f6a1a8e638",
            "c19345b3447048cdb277c39b9cc77927",
            "bdc5f97555144621a0c109b5428c306e",
            "42e82e4c85d24089b9f0c4aa1982a8de",
            "5731488143e14c428f998949bbd4e40d",
            "a47fd3145f994ba2883405900eba5abc",
            "508ed43ef7f240f3aa53fe8cbec673d7"
          ]
        },
        "id": "_mvF8emifjfa",
        "outputId": "48f5176a-324b-485c-86b5-3955a64c6167"
      },
      "execution_count": 19,
      "outputs": [
        {
          "output_type": "display_data",
          "data": {
            "text/plain": [
              "  0%|          | 0/17500 [00:00<?, ?it/s]"
            ],
            "application/vnd.jupyter.widget-view+json": {
              "version_major": 2,
              "version_minor": 0,
              "model_id": "8881eb71b21846888e4727831ecb1292"
            }
          },
          "metadata": {}
        }
      ]
    },
    {
      "cell_type": "code",
      "source": [
        "xg_data=pd.read_csv(data_path+'xg_data.csv')"
      ],
      "metadata": {
        "id": "rxte4MTTgYyo"
      },
      "execution_count": 3,
      "outputs": []
    },
    {
      "cell_type": "markdown",
      "source": [
        "## Training XGBoost"
      ],
      "metadata": {
        "id": "Pq4EGGrNM-xe"
      }
    },
    {
      "cell_type": "code",
      "source": [
        "train,test=train_test_split(xg_data,test_size=0.20,stratify=xg_data.target)\n",
        "train.to_csv(data_path+'xg_data_train.csv',index=False)\n",
        "test.to_csv(data_path+'xg_data_test.csv',index=False)"
      ],
      "metadata": {
        "id": "trkDrpJ0O401"
      },
      "execution_count": 4,
      "outputs": []
    },
    {
      "cell_type": "code",
      "source": [
        "cols = ['pid', 'tid', 'target']\n",
        "train=pd.read_csv(data_path+'xg_data_train.csv')\n",
        "xgtrain = xgboost.DMatrix(train.drop(cols, axis=1), train.target)\n",
        "del train"
      ],
      "metadata": {
        "id": "2Zoj3FufM0KZ"
      },
      "execution_count": 3,
      "outputs": []
    },
    {
      "cell_type": "code",
      "source": [
        "test=pd.read_csv(data_path+'xg_data_test.csv')\n",
        "xgval = xgboost.DMatrix(test.drop(cols, axis=1), test.target)\n",
        "del test"
      ],
      "metadata": {
        "id": "6bfXz8t8P0Dg"
      },
      "execution_count": 4,
      "outputs": []
    },
    {
      "cell_type": "code",
      "source": [
        "params = {\n",
        "    'objective':'binary:logistic', \n",
        "    'eta':0.1, \n",
        "    'booster':'gbtree',\n",
        "    'max_depth':7,         \n",
        "    'nthread':50,  \n",
        "    'seed':1,    \n",
        "    'eval_metric':'auc',\n",
        "}\n",
        "\n",
        "a = xgboost.train(\n",
        "    params=list(params.items()),  \n",
        "    early_stopping_rounds=30, \n",
        "    verbose_eval=10, \n",
        "    dtrain=xgtrain,\n",
        "    evals=[(xgtrain, 'train'), (xgval, 'test')],\n",
        "    num_boost_round=300,\n",
        ")"
      ],
      "metadata": {
        "colab": {
          "base_uri": "https://localhost:8080/"
        },
        "id": "7jKXZWL3NFOd",
        "outputId": "afe63ccb-850f-4bb8-8795-9eb0cf028a43"
      },
      "execution_count": 5,
      "outputs": [
        {
          "output_type": "stream",
          "name": "stdout",
          "text": [
            "[0]\ttrain-auc:0.85906\ttest-auc:0.85577\n",
            "[10]\ttrain-auc:0.86902\ttest-auc:0.86562\n",
            "[20]\ttrain-auc:0.87114\ttest-auc:0.86704\n",
            "[30]\ttrain-auc:0.87704\ttest-auc:0.87277\n",
            "[40]\ttrain-auc:0.87965\ttest-auc:0.87483\n",
            "[50]\ttrain-auc:0.88194\ttest-auc:0.87662\n",
            "[60]\ttrain-auc:0.88427\ttest-auc:0.87852\n",
            "[70]\ttrain-auc:0.88604\ttest-auc:0.87980\n",
            "[80]\ttrain-auc:0.88751\ttest-auc:0.88079\n",
            "[90]\ttrain-auc:0.88870\ttest-auc:0.88142\n",
            "[100]\ttrain-auc:0.88955\ttest-auc:0.88178\n",
            "[110]\ttrain-auc:0.89015\ttest-auc:0.88200\n",
            "[120]\ttrain-auc:0.89078\ttest-auc:0.88216\n",
            "[130]\ttrain-auc:0.89136\ttest-auc:0.88228\n",
            "[140]\ttrain-auc:0.89199\ttest-auc:0.88237\n",
            "[150]\ttrain-auc:0.89247\ttest-auc:0.88243\n",
            "[160]\ttrain-auc:0.89292\ttest-auc:0.88248\n",
            "[170]\ttrain-auc:0.89338\ttest-auc:0.88255\n",
            "[180]\ttrain-auc:0.89378\ttest-auc:0.88257\n",
            "[190]\ttrain-auc:0.89422\ttest-auc:0.88260\n",
            "[200]\ttrain-auc:0.89467\ttest-auc:0.88263\n",
            "[210]\ttrain-auc:0.89505\ttest-auc:0.88263\n",
            "[220]\ttrain-auc:0.89545\ttest-auc:0.88265\n",
            "[230]\ttrain-auc:0.89578\ttest-auc:0.88267\n",
            "[240]\ttrain-auc:0.89623\ttest-auc:0.88269\n",
            "[250]\ttrain-auc:0.89652\ttest-auc:0.88273\n",
            "[260]\ttrain-auc:0.89688\ttest-auc:0.88275\n",
            "[270]\ttrain-auc:0.89721\ttest-auc:0.88275\n",
            "[280]\ttrain-auc:0.89745\ttest-auc:0.88275\n",
            "[290]\ttrain-auc:0.89794\ttest-auc:0.88274\n",
            "[299]\ttrain-auc:0.89814\ttest-auc:0.88274\n"
          ]
        }
      ]
    },
    {
      "cell_type": "code",
      "source": [
        "pickle.dump(a, open(models_path+'xgboost.pkl', \"wb\"))"
      ],
      "metadata": {
        "id": "ugcoghhwk-zN"
      },
      "execution_count": 9,
      "outputs": []
    },
    {
      "cell_type": "markdown",
      "source": [
        "## Evaluating XGBoost"
      ],
      "metadata": {
        "id": "WuH4yxuxNC4d"
      }
    },
    {
      "cell_type": "code",
      "source": [
        "a = pickle.load(open(models_path+'xgboost.pkl', \"rb\"))"
      ],
      "metadata": {
        "id": "wF2IBV_eldoc"
      },
      "execution_count": 10,
      "outputs": []
    },
    {
      "cell_type": "code",
      "source": [
        "interactions_test=pd.read_csv(data_path+'interactions_test.csv')"
      ],
      "metadata": {
        "id": "TXhAl3yuNKAs"
      },
      "execution_count": 17,
      "outputs": []
    },
    {
      "cell_type": "code",
      "source": [
        "cols=['score','rank','track_bias','playlist_bias','dot_product','max_coo','min_coo','mean_coo','median_coc',\n",
        "         'max_ncoo','min_ncoo','mean_ncoo','median_coo','track_artist_count','track_album_count',\n",
        "         'track_artist_share','track_album_share','global_track_count','global_artist_count','global_album_count',\n",
        "         'unique_album_count','unique_artist_count','num_tracks_in_playlist']"
      ],
      "metadata": {
        "id": "zlmBN5Sttkv4"
      },
      "execution_count": 19,
      "outputs": []
    },
    {
      "cell_type": "code",
      "source": [
        "track_biases, track_embeddings = cs_model.get_item_representations()\n",
        "playlist_biases, playlist_embeddings = cs_model.get_user_representations()\n",
        "\n",
        "rprcs,ndcgs,rec_clicks=[],[],[]\n",
        "\n",
        "for pid in tqdm(np.unique(interactions_test.gen_pid)):\n",
        "  candidates=[]\n",
        "  candidate_stats=[]\n",
        "  candidate_tracks=get_scores(pid,750)\n",
        "  tracks_in_playlist=tracksPerPlaylist[pid]\n",
        "  # relevant_tracks=set(interactions_val[interactions_val['gen_pid']==pid].tid.values)\n",
        "  playlist_features=[len(np.unique(playlists_info[pid]['albums'])),\n",
        "                     len(np.unique(playlists_info[pid]['artists'])),len(tracks_in_playlist)]\n",
        "  for i in range(len(candidate_tracks)):\n",
        "    score,tid=candidate_tracks[i]\n",
        "    candidates.append(tid)\n",
        "    sample=[score,i,track_biases[tid],playlist_biases[pid],\n",
        "            track_embeddings[tid].dot(playlist_embeddings[pid])]\n",
        "    playlists_with_ctrack=playlistsPerTrack[tid]\n",
        "    co_occurence=[]\n",
        "    norm_co_occurence=[]\n",
        "    for playlist_track in tracks_in_playlist:\n",
        "      other_playlists=playlistsPerTrack[playlist_track]\n",
        "      n=len(other_playlists.intersection(playlists_with_ctrack))\n",
        "      co_occurence.append(n)\n",
        "      norm_co_occurence.append(n/len(other_playlists))\n",
        "    sample.extend([max(co_occurence),min(co_occurence),np.mean(co_occurence),np.median(co_occurence)])\n",
        "    sample.extend([max(norm_co_occurence),min(norm_co_occurence),np.mean(norm_co_occurence),np.median(norm_co_occurence)])\n",
        "    t_artist_count=playlists_info[pid]['artists'].count(track_id2artist_uri[tid])\n",
        "    t_album_count=playlists_info[pid]['albums'].count(track_id2album_uri[tid])\n",
        "    sample.extend([t_artist_count,t_album_count,\n",
        "                   t_artist_count/len(tracks_in_playlist),\n",
        "                   t_album_count/len(tracks_in_playlist)])\n",
        "    sample.extend([len(playlists_with_ctrack),\n",
        "                   artist_count[track_id2artist_uri[tid]],\n",
        "                   album_count[track_id2album_uri[tid]]])\n",
        "    sample.extend(playlist_features)\n",
        "    # sample.append(1 if tid in relevant_tracks else 0)\n",
        "    candidate_stats.append(sample)\n",
        "  xgtest=xgboost.DMatrix(pd.DataFrame(candidate_stats, columns=cols))\n",
        "  pred_scores=a.predict(xgtest)\n",
        "  pred_scores=[(pred_scores[i],candidates[i]) for i in range(len(candidates))]\n",
        "  pred_scores.sort(reverse=True)\n",
        "  rprc,ndcg,rec_click=evaluate_playlist(pid,pred_scores,500)\n",
        "  rprcs.append(rprc)\n",
        "  ndcgs.append(ndcg)\n",
        "  rec_clicks.append(rec_click)\n",
        "\n",
        "print(f'\\nAverage R-Precision: {np.average(rprcs)}')\n",
        "print(f'Average NDCG: {np.average(ndcgs)}')\n",
        "print(f'Average Recommendation Clicks: {np.average(rec_clicks)}')"
      ],
      "metadata": {
        "colab": {
          "base_uri": "https://localhost:8080/",
          "height": 117,
          "referenced_widgets": [
            "21bf3550cd0741b7a1bce4fa02e6dc7b",
            "f8847f0e080f4dab94b1b65abe7fd626",
            "95fb2a28d4754912bb67b1d270b2a14d",
            "f7621fb5a391411a8e500ddd01f97c09",
            "adba70ee348146a4b64d92d47e70f01d",
            "a603056347d043ff827a0a2ff3542d30",
            "afd8bdcbc6d449b9a1fd15af57cf60a5",
            "0285cdbda50147529943ddd5433f029a",
            "4d5cf9b7e47349e692933ea802b4f685",
            "e3edbc63577b4089aa9869d2ca026ce8",
            "6a1c022eb2b742c99b7c9c165ed88405"
          ]
        },
        "id": "LpteAZyUNpUt",
        "outputId": "fc3480a6-5ff8-4727-fe3c-e218188319d7"
      },
      "execution_count": 27,
      "outputs": [
        {
          "output_type": "display_data",
          "data": {
            "text/plain": [
              "  0%|          | 0/17500 [00:00<?, ?it/s]"
            ],
            "application/vnd.jupyter.widget-view+json": {
              "version_major": 2,
              "version_minor": 0,
              "model_id": "21bf3550cd0741b7a1bce4fa02e6dc7b"
            }
          },
          "metadata": {}
        },
        {
          "output_type": "stream",
          "name": "stdout",
          "text": [
            "\n",
            "Average R-Precision: 0.5661144419053539\n",
            "Average NDCG: 0.13695909616709162\n",
            "Average Recommendation Clicks: 7.3496\n"
          ]
        }
      ]
    }
  ]
}