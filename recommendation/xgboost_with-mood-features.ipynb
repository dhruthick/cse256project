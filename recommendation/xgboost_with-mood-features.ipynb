{
  "cells": [
    {
      "cell_type": "markdown",
      "metadata": {
        "id": "view-in-github",
        "colab_type": "text"
      },
      "source": [
        "<a href=\"https://colab.research.google.com/github/dhruthick/cse256project/blob/main/recommendation/xgboost_with-mood-features.ipynb\" target=\"_parent\"><img src=\"https://colab.research.google.com/assets/colab-badge.svg\" alt=\"Open In Colab\"/></a>"
      ]
    },
    {
      "cell_type": "markdown",
      "source": [
        "# XGBoost - Final Stage of recommendation with mood-based features"
      ],
      "metadata": {
        "id": "vNsw-QpqP4SI"
      }
    },
    {
      "cell_type": "markdown",
      "source": [
        "## Imports and setup"
      ],
      "metadata": {
        "id": "h9TUB8XNP4Qp"
      }
    },
    {
      "cell_type": "code",
      "execution_count": 1,
      "metadata": {
        "colab": {
          "base_uri": "https://localhost:8080/"
        },
        "id": "NixNfMaEcfcc",
        "outputId": "75d9a998-45f2-401c-dd2c-87b6576c8ce8"
      },
      "outputs": [
        {
          "output_type": "stream",
          "name": "stdout",
          "text": [
            "Looking in indexes: https://pypi.org/simple, https://us-python.pkg.dev/colab-wheels/public/simple/\n",
            "Collecting lightfm\n",
            "  Downloading lightfm-1.17.tar.gz (316 kB)\n",
            "\u001b[?25l     \u001b[90m━━━━━━━━━━━━━━━━━━━━━━━━━━━━━━━━━━━━━━━━\u001b[0m \u001b[32m0.0/316.4 kB\u001b[0m \u001b[31m?\u001b[0m eta \u001b[36m-:--:--\u001b[0m\r\u001b[2K     \u001b[90m━━━━━━━━━━━━━━━━━━━━━━━━━━━━━━━━━━━━━━\u001b[0m \u001b[32m316.4/316.4 kB\u001b[0m \u001b[31m10.3 MB/s\u001b[0m eta \u001b[36m0:00:00\u001b[0m\n",
            "\u001b[?25h  Preparing metadata (setup.py) ... \u001b[?25l\u001b[?25hdone\n",
            "Requirement already satisfied: numpy in /usr/local/lib/python3.10/dist-packages (from lightfm) (1.22.4)\n",
            "Requirement already satisfied: scipy>=0.17.0 in /usr/local/lib/python3.10/dist-packages (from lightfm) (1.10.1)\n",
            "Requirement already satisfied: requests in /usr/local/lib/python3.10/dist-packages (from lightfm) (2.27.1)\n",
            "Requirement already satisfied: scikit-learn in /usr/local/lib/python3.10/dist-packages (from lightfm) (1.2.2)\n",
            "Requirement already satisfied: urllib3<1.27,>=1.21.1 in /usr/local/lib/python3.10/dist-packages (from requests->lightfm) (1.26.15)\n",
            "Requirement already satisfied: certifi>=2017.4.17 in /usr/local/lib/python3.10/dist-packages (from requests->lightfm) (2022.12.7)\n",
            "Requirement already satisfied: charset-normalizer~=2.0.0 in /usr/local/lib/python3.10/dist-packages (from requests->lightfm) (2.0.12)\n",
            "Requirement already satisfied: idna<4,>=2.5 in /usr/local/lib/python3.10/dist-packages (from requests->lightfm) (3.4)\n",
            "Requirement already satisfied: joblib>=1.1.1 in /usr/local/lib/python3.10/dist-packages (from scikit-learn->lightfm) (1.2.0)\n",
            "Requirement already satisfied: threadpoolctl>=2.0.0 in /usr/local/lib/python3.10/dist-packages (from scikit-learn->lightfm) (3.1.0)\n",
            "Building wheels for collected packages: lightfm\n",
            "  Building wheel for lightfm (setup.py) ... \u001b[?25l\u001b[?25hdone\n",
            "  Created wheel for lightfm: filename=lightfm-1.17-cp310-cp310-linux_x86_64.whl size=879168 sha256=2337b51298190aa3507a1947579210c6ddb02ab596e0d31fe3934a8f78586fb0\n",
            "  Stored in directory: /root/.cache/pip/wheels/4f/9b/7e/0b256f2168511d8fa4dae4fae0200fdbd729eb424a912ad636\n",
            "Successfully built lightfm\n",
            "Installing collected packages: lightfm\n",
            "Successfully installed lightfm-1.17\n"
          ]
        }
      ],
      "source": [
        "!pip install lightfm"
      ]
    },
    {
      "cell_type": "code",
      "execution_count": 2,
      "metadata": {
        "colab": {
          "base_uri": "https://localhost:8080/"
        },
        "id": "THbTx6FFcQUP",
        "outputId": "525e997f-02fe-4161-b767-4da4a851a750"
      },
      "outputs": [
        {
          "output_type": "stream",
          "name": "stdout",
          "text": [
            "Drive already mounted at /content/drive; to attempt to forcibly remount, call drive.mount(\"/content/drive\", force_remount=True).\n"
          ]
        }
      ],
      "source": [
        "from google.colab import drive\n",
        "drive.mount('/content/drive')"
      ]
    },
    {
      "cell_type": "code",
      "execution_count": 3,
      "metadata": {
        "id": "YwFVdHhacKYA"
      },
      "outputs": [],
      "source": [
        "import pandas as pd\n",
        "import numpy as np\n",
        "import joblib\n",
        "import math\n",
        "\n",
        "import pickle\n",
        "from tqdm.notebook import tqdm\n",
        "\n",
        "from lightfm import LightFM\n",
        "from scipy import stats\n",
        "import csv\n",
        "from collections import defaultdict\n",
        "\n",
        "import xgboost\n",
        "from sklearn.model_selection import train_test_split"
      ]
    },
    {
      "cell_type": "code",
      "execution_count": 4,
      "metadata": {
        "id": "Jw1GqCV2cRDl"
      },
      "outputs": [],
      "source": [
        "data_path='/content/drive/MyDrive/cse256/project/data/'\n",
        "models_path='/content/drive/MyDrive/cse256/project/models/'\n"
      ]
    },
    {
      "cell_type": "markdown",
      "source": [
        "## Read Data"
      ],
      "metadata": {
        "id": "glJ0oOkwQXvK"
      }
    },
    {
      "cell_type": "code",
      "execution_count": null,
      "metadata": {
        "id": "faS7zLewckUo"
      },
      "outputs": [],
      "source": [
        "all_interactions=pd.read_csv(data_path+'all_interactions.csv').drop('pid',axis=1)\n",
        "interactions_train=pd.read_csv(data_path+'interactions_train.csv').drop('pid',axis=1)\n",
        "interactions_val=pd.read_csv(data_path+'interactions_val.csv').drop('pid',axis=1)\n",
        "cs_model=joblib.load(open(models_path+'lightfm_model.pkl', 'rb'))"
      ]
    },
    {
      "cell_type": "code",
      "execution_count": null,
      "metadata": {
        "id": "ZLtaZ2FBcu_-"
      },
      "outputs": [],
      "source": [
        "track_tid2uri=defaultdict(str)\n",
        "for uri, tid in all_interactions.drop_duplicates(['track_uri'])[['track_uri','tid']].values:\n",
        "  track_tid2uri[tid]=uri"
      ]
    },
    {
      "cell_type": "markdown",
      "source": [
        "## Fetch saved mood predictions made by our BERT model"
      ],
      "metadata": {
        "id": "SzJhMzV6QnAP"
      }
    },
    {
      "cell_type": "code",
      "execution_count": null,
      "metadata": {
        "id": "eOa8hcv2c8aG"
      },
      "outputs": [],
      "source": [
        "lyric_predictions=pd.read_csv(data_path+'spotify-lyrics-with-predictions.csv')"
      ]
    },
    {
      "cell_type": "code",
      "execution_count": null,
      "metadata": {
        "id": "124aSb_ydtdX"
      },
      "outputs": [],
      "source": [
        "track_uri2mood=defaultdict(int)\n",
        "for uri,mood in lyric_predictions[['uri','mood']].values:\n",
        "  track_uri2mood[uri]=mood"
      ]
    },
    {
      "cell_type": "code",
      "execution_count": null,
      "metadata": {
        "id": "u8-deQPWgwyo"
      },
      "outputs": [],
      "source": [
        "del lyric_predictions"
      ]
    },
    {
      "cell_type": "markdown",
      "source": [
        "## Fetch candidate tracks saved from earlier along with features"
      ],
      "metadata": {
        "id": "cNVz3FRzQcVR"
      }
    },
    {
      "cell_type": "code",
      "execution_count": null,
      "metadata": {
        "id": "45M_vz_jeGiW"
      },
      "outputs": [],
      "source": [
        "xg_data=pd.read_csv(data_path+'xg_data.csv')"
      ]
    },
    {
      "cell_type": "markdown",
      "source": [
        "## Add mood-based features"
      ],
      "metadata": {
        "id": "lKRGhi2vQueN"
      }
    },
    {
      "cell_type": "code",
      "execution_count": null,
      "metadata": {
        "id": "8xVyg8T7eN8g"
      },
      "outputs": [],
      "source": [
        "xg_data['mood']=xg_data.tid.apply(lambda x:track_uri2mood[track_tid2uri[x]])"
      ]
    },
    {
      "cell_type": "code",
      "source": [
        "common_mood_in_playlist={}\n",
        "for pid in tracksPerPlaylist:\n",
        "  common_mood_in_playlist[pid]=stats.mode([track_uri2mood[track_tid2uri[t]] for t in tracksPerPlaylist[pid]]).mode[0]"
      ],
      "metadata": {
        "colab": {
          "base_uri": "https://localhost:8080/"
        },
        "id": "c3JX0DRm7jwq",
        "outputId": "bd32b0d4-22c0-46aa-c158-1c0c1148c532"
      },
      "execution_count": null,
      "outputs": [
        {
          "output_type": "stream",
          "name": "stderr",
          "text": [
            "<ipython-input-23-b29589915875>:3: FutureWarning: Unlike other reduction functions (e.g. `skew`, `kurtosis`), the default behavior of `mode` typically preserves the axis it acts along. In SciPy 1.11.0, this behavior will change: the default value of `keepdims` will become False, the `axis` over which the statistic is taken will be eliminated, and the value None will no longer be accepted. Set `keepdims` to True or False to avoid this warning.\n",
            "  common_mood_in_playlist[pid]=stats.mode([track_uri2mood[track_tid2uri[t]] for t in tracksPerPlaylist[pid]]).mode[0]\n"
          ]
        }
      ]
    },
    {
      "cell_type": "code",
      "source": [
        "xg_data['playlist_mood']=xg_data.pid.apply(lambda x:common_mood_in_playlist[x])"
      ],
      "metadata": {
        "id": "ou5Y0VTa81OU"
      },
      "execution_count": null,
      "outputs": []
    },
    {
      "cell_type": "markdown",
      "source": [
        "## Some necessary data structures"
      ],
      "metadata": {
        "id": "KCo---hIQ5ly"
      }
    },
    {
      "cell_type": "code",
      "execution_count": null,
      "metadata": {
        "id": "vs_tpIBGgeSs"
      },
      "outputs": [],
      "source": [
        "num_playlists=len(np.unique(interactions_train.gen_pid))\n",
        "num_tracks=len(np.unique(all_interactions.tid))"
      ]
    },
    {
      "cell_type": "code",
      "execution_count": null,
      "metadata": {
        "colab": {
          "base_uri": "https://localhost:8080/",
          "height": 49,
          "referenced_widgets": [
            "7533895035554ca6a579a4894a89830f",
            "20e5b0feab3e4659af844550f75bfa28",
            "1cf32342cda74ea69868fd23e16e94cd",
            "a4573c32af534bea9a90023fe9309b5b",
            "0fb0257e34874b75a1892daf131c5a2f",
            "a0cddcfa86e847c794c845a133764fc6",
            "8c6eb2374132439693eff6568c1769c2",
            "eb16fe9414f5428c89994789a45b23a4",
            "aaa8bcee4d514454888e036aed236394",
            "a675d06976474376b0838ef92e6584c6",
            "e14851d75b1a46f9bd28c53977ec617d"
          ]
        },
        "id": "HCz3GzHOgm2D",
        "outputId": "79ff4042-c2d8-4bcf-89d4-8dd7d4e99bdd"
      },
      "outputs": [
        {
          "output_type": "display_data",
          "data": {
            "text/plain": [
              "  0%|          | 0/598734 [00:00<?, ?it/s]"
            ],
            "application/vnd.jupyter.widget-view+json": {
              "version_major": 2,
              "version_minor": 0,
              "model_id": "7533895035554ca6a579a4894a89830f"
            }
          },
          "metadata": {}
        }
      ],
      "source": [
        "playlistsPerTrack = defaultdict(set)\n",
        "tracksPerPlaylist = defaultdict(set)\n",
        "trackNames={}\n",
        "track_id2artist_uri={}\n",
        "track_id2album_uri={}\n",
        "artist_count=defaultdict(int)\n",
        "album_count=defaultdict(int)\n",
        "for pid,tid,track_name,artist,album_uri,artist_uri in tqdm(interactions_train[['gen_pid','tid','track_name','artist_name','album_uri','artist_uri']].values.tolist()):\n",
        "    playlistsPerTrack[tid].add(pid)\n",
        "    tracksPerPlaylist[pid].add(tid)\n",
        "    trackNames[tid] = (track_name, artist)\n",
        "    track_id2artist_uri[tid]=artist_uri\n",
        "    track_id2album_uri[tid]=album_uri\n",
        "    artist_count[artist_uri]+=1\n",
        "    album_count[album_uri]+=1"
      ]
    },
    {
      "cell_type": "code",
      "execution_count": null,
      "metadata": {
        "id": "QkDCxHsWgoy2"
      },
      "outputs": [],
      "source": [
        "playlists_info={}\n",
        "for pid, ptracks in interactions_train.groupby('gen_pid'):\n",
        "    track_ids= ptracks.tid.values.tolist()\n",
        "    album_uris=ptracks.album_uri.tolist()\n",
        "    artist_uris=ptracks.artist_uri.tolist()\n",
        "    playlists_info[pid]={\n",
        "        'tracks':track_ids,\n",
        "        'albums':album_uris,\n",
        "        'artists':artist_uris\n",
        "    }"
      ]
    },
    {
      "cell_type": "markdown",
      "source": [
        "## Train XGBoost"
      ],
      "metadata": {
        "id": "_9w2Ef_3QzIE"
      }
    },
    {
      "cell_type": "code",
      "execution_count": null,
      "metadata": {
        "id": "gRmpmD8UefMX"
      },
      "outputs": [],
      "source": [
        "train,test=train_test_split(xg_data,test_size=0.20,stratify=xg_data.target)\n",
        "train.to_csv(data_path+'xg_data_mood_train.csv',index=False)\n",
        "test.to_csv(data_path+'xg_data_mood_test.csv',index=False)"
      ]
    },
    {
      "cell_type": "code",
      "execution_count": null,
      "metadata": {
        "id": "tqdV5LZ3fP0o"
      },
      "outputs": [],
      "source": [
        "del xg_data"
      ]
    },
    {
      "cell_type": "code",
      "execution_count": null,
      "metadata": {
        "id": "s5AoEN8Xeqr3"
      },
      "outputs": [],
      "source": [
        "cols = ['pid', 'tid', 'target']\n",
        "train=pd.read_csv(data_path+'xg_data_mood_train.csv')\n",
        "xgtrain = xgboost.DMatrix(train.drop(cols, axis=1), train.target)\n",
        "del train"
      ]
    },
    {
      "cell_type": "code",
      "execution_count": null,
      "metadata": {
        "id": "at27h13Ifjm5"
      },
      "outputs": [],
      "source": [
        "test=pd.read_csv(data_path+'xg_data_mood_test.csv')\n",
        "xgval = xgboost.DMatrix(test.drop(cols, axis=1), test.target)\n",
        "del test"
      ]
    },
    {
      "cell_type": "code",
      "execution_count": null,
      "metadata": {
        "colab": {
          "base_uri": "https://localhost:8080/"
        },
        "id": "cRviqXU8fmsd",
        "outputId": "5b7bc8ba-7e1f-448c-8881-c01c41f88528"
      },
      "outputs": [
        {
          "output_type": "stream",
          "name": "stdout",
          "text": [
            "[0]\ttrain-auc:0.85794\ttest-auc:0.85600\n",
            "[10]\ttrain-auc:0.86866\ttest-auc:0.86746\n",
            "[20]\ttrain-auc:0.87060\ttest-auc:0.86937\n",
            "[30]\ttrain-auc:0.87688\ttest-auc:0.87538\n",
            "[40]\ttrain-auc:0.87929\ttest-auc:0.87730\n",
            "[50]\ttrain-auc:0.88152\ttest-auc:0.87890\n",
            "[60]\ttrain-auc:0.88386\ttest-auc:0.88066\n",
            "[70]\ttrain-auc:0.88569\ttest-auc:0.88180\n",
            "[80]\ttrain-auc:0.88714\ttest-auc:0.88267\n",
            "[90]\ttrain-auc:0.88831\ttest-auc:0.88324\n",
            "[100]\ttrain-auc:0.88919\ttest-auc:0.88360\n",
            "[110]\ttrain-auc:0.88987\ttest-auc:0.88380\n",
            "[120]\ttrain-auc:0.89054\ttest-auc:0.88400\n",
            "[130]\ttrain-auc:0.89113\ttest-auc:0.88410\n",
            "[140]\ttrain-auc:0.89164\ttest-auc:0.88418\n",
            "[150]\ttrain-auc:0.89204\ttest-auc:0.88426\n",
            "[160]\ttrain-auc:0.89255\ttest-auc:0.88432\n",
            "[170]\ttrain-auc:0.89294\ttest-auc:0.88438\n",
            "[180]\ttrain-auc:0.89324\ttest-auc:0.88438\n",
            "[190]\ttrain-auc:0.89377\ttest-auc:0.88438\n",
            "[200]\ttrain-auc:0.89415\ttest-auc:0.88435\n"
          ]
        }
      ],
      "source": [
        "params = {\n",
        "    'objective':'binary:logistic',\n",
        "    'eta':0.1,\n",
        "    'booster':'gbtree',\n",
        "    'max_depth':7,\n",
        "    'nthread':50,\n",
        "    'seed':1,\n",
        "    'eval_metric':'auc',\n",
        "}\n",
        "\n",
        "a = xgboost.train(\n",
        "    params=list(params.items()),\n",
        "    early_stopping_rounds=30,\n",
        "    verbose_eval=10,\n",
        "    dtrain=xgtrain,\n",
        "    evals=[(xgtrain, 'train'), (xgval, 'test')],\n",
        "    num_boost_round=300,\n",
        ")"
      ]
    },
    {
      "cell_type": "code",
      "execution_count": null,
      "metadata": {
        "id": "HJqhlELJfq7k"
      },
      "outputs": [],
      "source": [
        "pickle.dump(a, open(models_path+'xgboost_mood_2f.pkl', \"wb\"))"
      ]
    },
    {
      "cell_type": "code",
      "execution_count": 5,
      "metadata": {
        "id": "FqzjSlvafvH3"
      },
      "outputs": [],
      "source": [
        "a = pickle.load(open(models_path+'xgboost_mood_2f.pkl', \"rb\"))"
      ]
    },
    {
      "cell_type": "markdown",
      "source": [
        "## Functions for recommendation evaluation"
      ],
      "metadata": {
        "id": "GsiRjYquRA6X"
      }
    },
    {
      "cell_type": "code",
      "execution_count": null,
      "metadata": {
        "id": "b6NlVOIXg3cP"
      },
      "outputs": [],
      "source": [
        "def get_scores(pid,N):\n",
        "  all_tracks=np.unique(all_interactions.tid)\n",
        "  ptracks=tracksPerPlaylist[pid]\n",
        "  pred_tracks=[t for t in all_tracks if t not in ptracks]\n",
        "  scores=cs_model.predict(user_ids=[pid for i in range(len(pred_tracks))],\n",
        "                item_ids=pred_tracks)\n",
        "  scores=[(scores[i],pred_tracks[i]) for i in range(len(pred_tracks))]\n",
        "  scores.sort(reverse=True)\n",
        "  return scores[:N]\n"
      ]
    },
    {
      "cell_type": "code",
      "execution_count": null,
      "metadata": {
        "id": "HfXdBYJHg5SU"
      },
      "outputs": [],
      "source": [
        "def evaluate_playlist(pid,scores,N):\n",
        "  relevantTracks=set(interactions_test[interactions_test['gen_pid']==pid].tid.values)\n",
        "  scores=scores[:N]\n",
        "  recommendedTracks=set([t[1] for t in scores])\n",
        "  rprc=len(recommendedTracks.intersection(relevantTracks))/len(relevantTracks)\n",
        "  dcg=0\n",
        "  for i in range(len(scores)):\n",
        "    if scores[i][1] in relevantTracks:\n",
        "      dcg+=math.log(2)/math.log(i+2)\n",
        "  ndcg=dcg/len(relevantTracks)\n",
        "  rec_click=int(N/10)+1\n",
        "  for i in range(0,int(N/10)):\n",
        "    recommendedTracks=set([t[1] for t in scores[i*10:(i*10+10)]])\n",
        "    if len(recommendedTracks.intersection(relevantTracks))>0:\n",
        "      rec_click=i+1\n",
        "      break\n",
        "  return rprc,ndcg,rec_click"
      ]
    },
    {
      "cell_type": "markdown",
      "source": [
        "## XGBoost Evaluation"
      ],
      "metadata": {
        "id": "w8z1FcvzRXDU"
      }
    },
    {
      "cell_type": "code",
      "execution_count": null,
      "metadata": {
        "id": "BwsQVpXXhDoD"
      },
      "outputs": [],
      "source": [
        "interactions_test=pd.read_csv(data_path+'interactions_test.csv')"
      ]
    },
    {
      "cell_type": "code",
      "execution_count": null,
      "metadata": {
        "id": "i-35_EKXhFdB"
      },
      "outputs": [],
      "source": [
        "cols=['score','rank','track_bias','playlist_bias','dot_product','max_coo','min_coo','mean_coo','median_coc',\n",
        "         'max_ncoo','min_ncoo','mean_ncoo','median_coo','track_artist_count','track_album_count',\n",
        "         'track_artist_share','track_album_share','global_track_count','global_artist_count','global_album_count',\n",
        "         'unique_album_count','unique_artist_count','num_tracks_in_playlist','mood']"
      ]
    },
    {
      "cell_type": "code",
      "execution_count": null,
      "metadata": {
        "colab": {
          "base_uri": "https://localhost:8080/",
          "height": 117,
          "referenced_widgets": [
            "38b30ae903ff4a099c2f0a5daa253494",
            "72708e8f732f41f8a8b90e10b591fc26",
            "1ee407fdccf44f6d80910b8270077fe4",
            "a44abe35f01941d4ae363e59b8a10a6d",
            "e9e7a51eedef45239570d61899903c94",
            "880348106a5546009070c0b6d17042e3",
            "62a23e1f6ad34e678c38d374500646aa",
            "c3eee58f9b9846ddaea01bd61cd06bf7",
            "a9bd3e03334d4512bf41a306e6ed2ea6",
            "66aa9c8561f54ef8bed27c5201616abd",
            "919172bf2ae54558aed93c3e5aab744c"
          ]
        },
        "id": "4Kxz6n5XhLYC",
        "outputId": "7e3f1601-7c0e-44d0-9d80-c360f056d687"
      },
      "outputs": [
        {
          "data": {
            "application/vnd.jupyter.widget-view+json": {
              "model_id": "38b30ae903ff4a099c2f0a5daa253494",
              "version_major": 2,
              "version_minor": 0
            },
            "text/plain": [
              "  0%|          | 0/17500 [00:00<?, ?it/s]"
            ]
          },
          "metadata": {},
          "output_type": "display_data"
        },
        {
          "output_type": "stream",
          "name": "stdout",
          "text": [
            "\n",
            "Average R-Precision: 0.5667470700772212\n",
            "Average NDCG: 0.1376010433748868\n",
            "Average Recommendation Clicks: 7.348685714285715\n"
          ]
        }
      ],
      "source": [
        "track_biases, track_embeddings = cs_model.get_item_representations()\n",
        "playlist_biases, playlist_embeddings = cs_model.get_user_representations()\n",
        "\n",
        "rprcs,ndcgs,rec_clicks=[],[],[]\n",
        "\n",
        "for pid in tqdm(np.unique(interactions_test.gen_pid)):\n",
        "  candidates=[]\n",
        "  candidate_stats=[]\n",
        "  candidate_tracks=get_scores(pid,750)\n",
        "  tracks_in_playlist=tracksPerPlaylist[pid]\n",
        "  # relevant_tracks=set(interactions_val[interactions_val['gen_pid']==pid].tid.values)\n",
        "  playlist_features=[len(np.unique(playlists_info[pid]['albums'])),\n",
        "                     len(np.unique(playlists_info[pid]['artists'])),len(tracks_in_playlist)]\n",
        "  for i in range(len(candidate_tracks)):\n",
        "    score,tid=candidate_tracks[i]\n",
        "    candidates.append(tid)\n",
        "    sample=[score,i,track_biases[tid],playlist_biases[pid],\n",
        "            track_embeddings[tid].dot(playlist_embeddings[pid])]\n",
        "    playlists_with_ctrack=playlistsPerTrack[tid]\n",
        "    co_occurence=[]\n",
        "    norm_co_occurence=[]\n",
        "    for playlist_track in tracks_in_playlist:\n",
        "      other_playlists=playlistsPerTrack[playlist_track]\n",
        "      n=len(other_playlists.intersection(playlists_with_ctrack))\n",
        "      co_occurence.append(n)\n",
        "      norm_co_occurence.append(n/len(other_playlists))\n",
        "    sample.extend([max(co_occurence),min(co_occurence),np.mean(co_occurence),np.median(co_occurence)])\n",
        "    sample.extend([max(norm_co_occurence),min(norm_co_occurence),np.mean(norm_co_occurence),np.median(norm_co_occurence)])\n",
        "    t_artist_count=playlists_info[pid]['artists'].count(track_id2artist_uri[tid])\n",
        "    t_album_count=playlists_info[pid]['albums'].count(track_id2album_uri[tid])\n",
        "    sample.extend([t_artist_count,t_album_count,\n",
        "                   t_artist_count/len(tracks_in_playlist),\n",
        "                   t_album_count/len(tracks_in_playlist)])\n",
        "    sample.extend([len(playlists_with_ctrack),\n",
        "                   artist_count[track_id2artist_uri[tid]],\n",
        "                   album_count[track_id2album_uri[tid]]])\n",
        "    sample.extend(playlist_features)\n",
        "    sample.append(track_uri2mood[track_tid2uri[tid]])\n",
        "    # sample.append(1 if tid in relevant_tracks else 0)\n",
        "    candidate_stats.append(sample)\n",
        "  xgtest=xgboost.DMatrix(pd.DataFrame(candidate_stats, columns=cols))\n",
        "  pred_scores=a.predict(xgtest)\n",
        "  pred_scores=[(pred_scores[i],candidates[i]) for i in range(len(candidates))]\n",
        "  pred_scores.sort(reverse=True)\n",
        "  rprc,ndcg,rec_click=evaluate_playlist(pid,pred_scores,500)\n",
        "  rprcs.append(rprc)\n",
        "  ndcgs.append(ndcg)\n",
        "  rec_clicks.append(rec_click)\n",
        "\n",
        "print(f'\\nAverage R-Precision: {np.average(rprcs)}')\n",
        "print(f'Average NDCG: {np.average(ndcgs)}')\n",
        "print(f'Average Recommendation Clicks: {np.average(rec_clicks)}')"
      ]
    },
    {
      "cell_type": "markdown",
      "source": [
        "## Feature Importance"
      ],
      "metadata": {
        "id": "iyWD2foKRZ6U"
      }
    },
    {
      "cell_type": "code",
      "execution_count": 7,
      "metadata": {
        "id": "vqHEHwVvhZB7",
        "colab": {
          "base_uri": "https://localhost:8080/",
          "height": 472
        },
        "outputId": "3be42557-c272-4c21-c386-c691612f6abb"
      },
      "outputs": [
        {
          "output_type": "display_data",
          "data": {
            "text/plain": [
              "<Figure size 640x480 with 1 Axes>"
            ],
            "image/png": "[encoded data removed]"
          },
          "metadata": {}
        }
      ],
      "source": [
        "importance = a.get_score(importance_type=\"gain\")\n",
        "\n",
        "for key in importance.keys():\n",
        "    importance[key] = round(importance[key],2)\n",
        "\n",
        "ax = xgboost.plot_importance(importance, importance_type='gain', show_values=True,)"
      ]
    },
    {
      "cell_type": "code",
      "source": [],
      "metadata": {
        "id": "s9h84q6I644b"
      },
      "execution_count": null,
      "outputs": []
    }
  ],
  "metadata": {
    "colab": {
      "provenance": [],
      "mount_file_id": "1iUS5bAGhWaxKnL-Lpw9PAtSFcOpLgVef",
      "authorship_tag": "ABX9TyORXH/JOG7D66sbjTzjaR8o",
      "include_colab_link": true
    },
    "kernelspec": {
      "display_name": "Python 3",
      "name": "python3"
    },
    "language_info": {
      "name": "python"
    },
    "widgets": {
      "application/vnd.jupyter.widget-state+json": {
        "1ee407fdccf44f6d80910b8270077fe4": {
          "model_module": "@jupyter-widgets/controls",
          "model_module_version": "1.5.0",
          "model_name": "FloatProgressModel",
          "state": {
            "_dom_classes": [],
            "_model_module": "@jupyter-widgets/controls",
            "_model_module_version": "1.5.0",
            "_model_name": "FloatProgressModel",
            "_view_count": null,
            "_view_module": "@jupyter-widgets/controls",
            "_view_module_version": "1.5.0",
            "_view_name": "ProgressView",
            "bar_style": "success",
            "description": "",
            "description_tooltip": null,
            "layout": "IPY_MODEL_c3eee58f9b9846ddaea01bd61cd06bf7",
            "max": 17500,
            "min": 0,
            "orientation": "horizontal",
            "style": "IPY_MODEL_a9bd3e03334d4512bf41a306e6ed2ea6",
            "value": 17500
          }
        },
        "38b30ae903ff4a099c2f0a5daa253494": {
          "model_module": "@jupyter-widgets/controls",
          "model_module_version": "1.5.0",
          "model_name": "HBoxModel",
          "state": {
            "_dom_classes": [],
            "_model_module": "@jupyter-widgets/controls",
            "_model_module_version": "1.5.0",
            "_model_name": "HBoxModel",
            "_view_count": null,
            "_view_module": "@jupyter-widgets/controls",
            "_view_module_version": "1.5.0",
            "_view_name": "HBoxView",
            "box_style": "",
            "children": [
              "IPY_MODEL_72708e8f732f41f8a8b90e10b591fc26",
              "IPY_MODEL_1ee407fdccf44f6d80910b8270077fe4",
              "IPY_MODEL_a44abe35f01941d4ae363e59b8a10a6d"
            ],
            "layout": "IPY_MODEL_e9e7a51eedef45239570d61899903c94"
          }
        },
        "62a23e1f6ad34e678c38d374500646aa": {
          "model_module": "@jupyter-widgets/controls",
          "model_module_version": "1.5.0",
          "model_name": "DescriptionStyleModel",
          "state": {
            "_model_module": "@jupyter-widgets/controls",
            "_model_module_version": "1.5.0",
            "_model_name": "DescriptionStyleModel",
            "_view_count": null,
            "_view_module": "@jupyter-widgets/base",
            "_view_module_version": "1.2.0",
            "_view_name": "StyleView",
            "description_width": ""
          }
        },
        "66aa9c8561f54ef8bed27c5201616abd": {
          "model_module": "@jupyter-widgets/base",
          "model_module_version": "1.2.0",
          "model_name": "LayoutModel",
          "state": {
            "_model_module": "@jupyter-widgets/base",
            "_model_module_version": "1.2.0",
            "_model_name": "LayoutModel",
            "_view_count": null,
            "_view_module": "@jupyter-widgets/base",
            "_view_module_version": "1.2.0",
            "_view_name": "LayoutView",
            "align_content": null,
            "align_items": null,
            "align_self": null,
            "border": null,
            "bottom": null,
            "display": null,
            "flex": null,
            "flex_flow": null,
            "grid_area": null,
            "grid_auto_columns": null,
            "grid_auto_flow": null,
            "grid_auto_rows": null,
            "grid_column": null,
            "grid_gap": null,
            "grid_row": null,
            "grid_template_areas": null,
            "grid_template_columns": null,
            "grid_template_rows": null,
            "height": null,
            "justify_content": null,
            "justify_items": null,
            "left": null,
            "margin": null,
            "max_height": null,
            "max_width": null,
            "min_height": null,
            "min_width": null,
            "object_fit": null,
            "object_position": null,
            "order": null,
            "overflow": null,
            "overflow_x": null,
            "overflow_y": null,
            "padding": null,
            "right": null,
            "top": null,
            "visibility": null,
            "width": null
          }
        },
        "72708e8f732f41f8a8b90e10b591fc26": {
          "model_module": "@jupyter-widgets/controls",
          "model_module_version": "1.5.0",
          "model_name": "HTMLModel",
          "state": {
            "_dom_classes": [],
            "_model_module": "@jupyter-widgets/controls",
            "_model_module_version": "1.5.0",
            "_model_name": "HTMLModel",
            "_view_count": null,
            "_view_module": "@jupyter-widgets/controls",
            "_view_module_version": "1.5.0",
            "_view_name": "HTMLView",
            "description": "",
            "description_tooltip": null,
            "layout": "IPY_MODEL_880348106a5546009070c0b6d17042e3",
            "placeholder": "​",
            "style": "IPY_MODEL_62a23e1f6ad34e678c38d374500646aa",
            "value": "100%"
          }
        },
        "880348106a5546009070c0b6d17042e3": {
          "model_module": "@jupyter-widgets/base",
          "model_module_version": "1.2.0",
          "model_name": "LayoutModel",
          "state": {
            "_model_module": "@jupyter-widgets/base",
            "_model_module_version": "1.2.0",
            "_model_name": "LayoutModel",
            "_view_count": null,
            "_view_module": "@jupyter-widgets/base",
            "_view_module_version": "1.2.0",
            "_view_name": "LayoutView",
            "align_content": null,
            "align_items": null,
            "align_self": null,
            "border": null,
            "bottom": null,
            "display": null,
            "flex": null,
            "flex_flow": null,
            "grid_area": null,
            "grid_auto_columns": null,
            "grid_auto_flow": null,
            "grid_auto_rows": null,
            "grid_column": null,
            "grid_gap": null,
            "grid_row": null,
            "grid_template_areas": null,
            "grid_template_columns": null,
            "grid_template_rows": null,
            "height": null,
            "justify_content": null,
            "justify_items": null,
            "left": null,
            "margin": null,
            "max_height": null,
            "max_width": null,
            "min_height": null,
            "min_width": null,
            "object_fit": null,
            "object_position": null,
            "order": null,
            "overflow": null,
            "overflow_x": null,
            "overflow_y": null,
            "padding": null,
            "right": null,
            "top": null,
            "visibility": null,
            "width": null
          }
        },
        "919172bf2ae54558aed93c3e5aab744c": {
          "model_module": "@jupyter-widgets/controls",
          "model_module_version": "1.5.0",
          "model_name": "DescriptionStyleModel",
          "state": {
            "_model_module": "@jupyter-widgets/controls",
            "_model_module_version": "1.5.0",
            "_model_name": "DescriptionStyleModel",
            "_view_count": null,
            "_view_module": "@jupyter-widgets/base",
            "_view_module_version": "1.2.0",
            "_view_name": "StyleView",
            "description_width": ""
          }
        },
        "a44abe35f01941d4ae363e59b8a10a6d": {
          "model_module": "@jupyter-widgets/controls",
          "model_module_version": "1.5.0",
          "model_name": "HTMLModel",
          "state": {
            "_dom_classes": [],
            "_model_module": "@jupyter-widgets/controls",
            "_model_module_version": "1.5.0",
            "_model_name": "HTMLModel",
            "_view_count": null,
            "_view_module": "@jupyter-widgets/controls",
            "_view_module_version": "1.5.0",
            "_view_name": "HTMLView",
            "description": "",
            "description_tooltip": null,
            "layout": "IPY_MODEL_66aa9c8561f54ef8bed27c5201616abd",
            "placeholder": "​",
            "style": "IPY_MODEL_919172bf2ae54558aed93c3e5aab744c",
            "value": " 17500/17500 [3:39:08&lt;00:00,  1.21it/s]"
          }
        },
        "a9bd3e03334d4512bf41a306e6ed2ea6": {
          "model_module": "@jupyter-widgets/controls",
          "model_module_version": "1.5.0",
          "model_name": "ProgressStyleModel",
          "state": {
            "_model_module": "@jupyter-widgets/controls",
            "_model_module_version": "1.5.0",
            "_model_name": "ProgressStyleModel",
            "_view_count": null,
            "_view_module": "@jupyter-widgets/base",
            "_view_module_version": "1.2.0",
            "_view_name": "StyleView",
            "bar_color": null,
            "description_width": ""
          }
        },
        "c3eee58f9b9846ddaea01bd61cd06bf7": {
          "model_module": "@jupyter-widgets/base",
          "model_module_version": "1.2.0",
          "model_name": "LayoutModel",
          "state": {
            "_model_module": "@jupyter-widgets/base",
            "_model_module_version": "1.2.0",
            "_model_name": "LayoutModel",
            "_view_count": null,
            "_view_module": "@jupyter-widgets/base",
            "_view_module_version": "1.2.0",
            "_view_name": "LayoutView",
            "align_content": null,
            "align_items": null,
            "align_self": null,
            "border": null,
            "bottom": null,
            "display": null,
            "flex": null,
            "flex_flow": null,
            "grid_area": null,
            "grid_auto_columns": null,
            "grid_auto_flow": null,
            "grid_auto_rows": null,
            "grid_column": null,
            "grid_gap": null,
            "grid_row": null,
            "grid_template_areas": null,
            "grid_template_columns": null,
            "grid_template_rows": null,
            "height": null,
            "justify_content": null,
            "justify_items": null,
            "left": null,
            "margin": null,
            "max_height": null,
            "max_width": null,
            "min_height": null,
            "min_width": null,
            "object_fit": null,
            "object_position": null,
            "order": null,
            "overflow": null,
            "overflow_x": null,
            "overflow_y": null,
            "padding": null,
            "right": null,
            "top": null,
            "visibility": null,
            "width": null
          }
        },
        "e9e7a51eedef45239570d61899903c94": {
          "model_module": "@jupyter-widgets/base",
          "model_module_version": "1.2.0",
          "model_name": "LayoutModel",
          "state": {
            "_model_module": "@jupyter-widgets/base",
            "_model_module_version": "1.2.0",
            "_model_name": "LayoutModel",
            "_view_count": null,
            "_view_module": "@jupyter-widgets/base",
            "_view_module_version": "1.2.0",
            "_view_name": "LayoutView",
            "align_content": null,
            "align_items": null,
            "align_self": null,
            "border": null,
            "bottom": null,
            "display": null,
            "flex": null,
            "flex_flow": null,
            "grid_area": null,
            "grid_auto_columns": null,
            "grid_auto_flow": null,
            "grid_auto_rows": null,
            "grid_column": null,
            "grid_gap": null,
            "grid_row": null,
            "grid_template_areas": null,
            "grid_template_columns": null,
            "grid_template_rows": null,
            "height": null,
            "justify_content": null,
            "justify_items": null,
            "left": null,
            "margin": null,
            "max_height": null,
            "max_width": null,
            "min_height": null,
            "min_width": null,
            "object_fit": null,
            "object_position": null,
            "order": null,
            "overflow": null,
            "overflow_x": null,
            "overflow_y": null,
            "padding": null,
            "right": null,
            "top": null,
            "visibility": null,
            "width": null
          }
        },
        "7533895035554ca6a579a4894a89830f": {
          "model_module": "@jupyter-widgets/controls",
          "model_name": "HBoxModel",
          "model_module_version": "1.5.0",
          "state": {
            "_dom_classes": [],
            "_model_module": "@jupyter-widgets/controls",
            "_model_module_version": "1.5.0",
            "_model_name": "HBoxModel",
            "_view_count": null,
            "_view_module": "@jupyter-widgets/controls",
            "_view_module_version": "1.5.0",
            "_view_name": "HBoxView",
            "box_style": "",
            "children": [
              "IPY_MODEL_20e5b0feab3e4659af844550f75bfa28",
              "IPY_MODEL_1cf32342cda74ea69868fd23e16e94cd",
              "IPY_MODEL_a4573c32af534bea9a90023fe9309b5b"
            ],
            "layout": "IPY_MODEL_0fb0257e34874b75a1892daf131c5a2f"
          }
        },
        "20e5b0feab3e4659af844550f75bfa28": {
          "model_module": "@jupyter-widgets/controls",
          "model_name": "HTMLModel",
          "model_module_version": "1.5.0",
          "state": {
            "_dom_classes": [],
            "_model_module": "@jupyter-widgets/controls",
            "_model_module_version": "1.5.0",
            "_model_name": "HTMLModel",
            "_view_count": null,
            "_view_module": "@jupyter-widgets/controls",
            "_view_module_version": "1.5.0",
            "_view_name": "HTMLView",
            "description": "",
            "description_tooltip": null,
            "layout": "IPY_MODEL_a0cddcfa86e847c794c845a133764fc6",
            "placeholder": "​",
            "style": "IPY_MODEL_8c6eb2374132439693eff6568c1769c2",
            "value": "100%"
          }
        },
        "1cf32342cda74ea69868fd23e16e94cd": {
          "model_module": "@jupyter-widgets/controls",
          "model_name": "FloatProgressModel",
          "model_module_version": "1.5.0",
          "state": {
            "_dom_classes": [],
            "_model_module": "@jupyter-widgets/controls",
            "_model_module_version": "1.5.0",
            "_model_name": "FloatProgressModel",
            "_view_count": null,
            "_view_module": "@jupyter-widgets/controls",
            "_view_module_version": "1.5.0",
            "_view_name": "ProgressView",
            "bar_style": "success",
            "description": "",
            "description_tooltip": null,
            "layout": "IPY_MODEL_eb16fe9414f5428c89994789a45b23a4",
            "max": 598734,
            "min": 0,
            "orientation": "horizontal",
            "style": "IPY_MODEL_aaa8bcee4d514454888e036aed236394",
            "value": 598734
          }
        },
        "a4573c32af534bea9a90023fe9309b5b": {
          "model_module": "@jupyter-widgets/controls",
          "model_name": "HTMLModel",
          "model_module_version": "1.5.0",
          "state": {
            "_dom_classes": [],
            "_model_module": "@jupyter-widgets/controls",
            "_model_module_version": "1.5.0",
            "_model_name": "HTMLModel",
            "_view_count": null,
            "_view_module": "@jupyter-widgets/controls",
            "_view_module_version": "1.5.0",
            "_view_name": "HTMLView",
            "description": "",
            "description_tooltip": null,
            "layout": "IPY_MODEL_a675d06976474376b0838ef92e6584c6",
            "placeholder": "​",
            "style": "IPY_MODEL_e14851d75b1a46f9bd28c53977ec617d",
            "value": " 598734/598734 [00:03&lt;00:00, 165299.26it/s]"
          }
        },
        "0fb0257e34874b75a1892daf131c5a2f": {
          "model_module": "@jupyter-widgets/base",
          "model_name": "LayoutModel",
          "model_module_version": "1.2.0",
          "state": {
            "_model_module": "@jupyter-widgets/base",
            "_model_module_version": "1.2.0",
            "_model_name": "LayoutModel",
            "_view_count": null,
            "_view_module": "@jupyter-widgets/base",
            "_view_module_version": "1.2.0",
            "_view_name": "LayoutView",
            "align_content": null,
            "align_items": null,
            "align_self": null,
            "border": null,
            "bottom": null,
            "display": null,
            "flex": null,
            "flex_flow": null,
            "grid_area": null,
            "grid_auto_columns": null,
            "grid_auto_flow": null,
            "grid_auto_rows": null,
            "grid_column": null,
            "grid_gap": null,
            "grid_row": null,
            "grid_template_areas": null,
            "grid_template_columns": null,
            "grid_template_rows": null,
            "height": null,
            "justify_content": null,
            "justify_items": null,
            "left": null,
            "margin": null,
            "max_height": null,
            "max_width": null,
            "min_height": null,
            "min_width": null,
            "object_fit": null,
            "object_position": null,
            "order": null,
            "overflow": null,
            "overflow_x": null,
            "overflow_y": null,
            "padding": null,
            "right": null,
            "top": null,
            "visibility": null,
            "width": null
          }
        },
        "a0cddcfa86e847c794c845a133764fc6": {
          "model_module": "@jupyter-widgets/base",
          "model_name": "LayoutModel",
          "model_module_version": "1.2.0",
          "state": {
            "_model_module": "@jupyter-widgets/base",
            "_model_module_version": "1.2.0",
            "_model_name": "LayoutModel",
            "_view_count": null,
            "_view_module": "@jupyter-widgets/base",
            "_view_module_version": "1.2.0",
            "_view_name": "LayoutView",
            "align_content": null,
            "align_items": null,
            "align_self": null,
            "border": null,
            "bottom": null,
            "display": null,
            "flex": null,
            "flex_flow": null,
            "grid_area": null,
            "grid_auto_columns": null,
            "grid_auto_flow": null,
            "grid_auto_rows": null,
            "grid_column": null,
            "grid_gap": null,
            "grid_row": null,
            "grid_template_areas": null,
            "grid_template_columns": null,
            "grid_template_rows": null,
            "height": null,
            "justify_content": null,
            "justify_items": null,
            "left": null,
            "margin": null,
            "max_height": null,
            "max_width": null,
            "min_height": null,
            "min_width": null,
            "object_fit": null,
            "object_position": null,
            "order": null,
            "overflow": null,
            "overflow_x": null,
            "overflow_y": null,
            "padding": null,
            "right": null,
            "top": null,
            "visibility": null,
            "width": null
          }
        },
        "8c6eb2374132439693eff6568c1769c2": {
          "model_module": "@jupyter-widgets/controls",
          "model_name": "DescriptionStyleModel",
          "model_module_version": "1.5.0",
          "state": {
            "_model_module": "@jupyter-widgets/controls",
            "_model_module_version": "1.5.0",
            "_model_name": "DescriptionStyleModel",
            "_view_count": null,
            "_view_module": "@jupyter-widgets/base",
            "_view_module_version": "1.2.0",
            "_view_name": "StyleView",
            "description_width": ""
          }
        },
        "eb16fe9414f5428c89994789a45b23a4": {
          "model_module": "@jupyter-widgets/base",
          "model_name": "LayoutModel",
          "model_module_version": "1.2.0",
          "state": {
            "_model_module": "@jupyter-widgets/base",
            "_model_module_version": "1.2.0",
            "_model_name": "LayoutModel",
            "_view_count": null,
            "_view_module": "@jupyter-widgets/base",
            "_view_module_version": "1.2.0",
            "_view_name": "LayoutView",
            "align_content": null,
            "align_items": null,
            "align_self": null,
            "border": null,
            "bottom": null,
            "display": null,
            "flex": null,
            "flex_flow": null,
            "grid_area": null,
            "grid_auto_columns": null,
            "grid_auto_flow": null,
            "grid_auto_rows": null,
            "grid_column": null,
            "grid_gap": null,
            "grid_row": null,
            "grid_template_areas": null,
            "grid_template_columns": null,
            "grid_template_rows": null,
            "height": null,
            "justify_content": null,
            "justify_items": null,
            "left": null,
            "margin": null,
            "max_height": null,
            "max_width": null,
            "min_height": null,
            "min_width": null,
            "object_fit": null,
            "object_position": null,
            "order": null,
            "overflow": null,
            "overflow_x": null,
            "overflow_y": null,
            "padding": null,
            "right": null,
            "top": null,
            "visibility": null,
            "width": null
          }
        },
        "aaa8bcee4d514454888e036aed236394": {
          "model_module": "@jupyter-widgets/controls",
          "model_name": "ProgressStyleModel",
          "model_module_version": "1.5.0",
          "state": {
            "_model_module": "@jupyter-widgets/controls",
            "_model_module_version": "1.5.0",
            "_model_name": "ProgressStyleModel",
            "_view_count": null,
            "_view_module": "@jupyter-widgets/base",
            "_view_module_version": "1.2.0",
            "_view_name": "StyleView",
            "bar_color": null,
            "description_width": ""
          }
        },
        "a675d06976474376b0838ef92e6584c6": {
          "model_module": "@jupyter-widgets/base",
          "model_name": "LayoutModel",
          "model_module_version": "1.2.0",
          "state": {
            "_model_module": "@jupyter-widgets/base",
            "_model_module_version": "1.2.0",
            "_model_name": "LayoutModel",
            "_view_count": null,
            "_view_module": "@jupyter-widgets/base",
            "_view_module_version": "1.2.0",
            "_view_name": "LayoutView",
            "align_content": null,
            "align_items": null,
            "align_self": null,
            "border": null,
            "bottom": null,
            "display": null,
            "flex": null,
            "flex_flow": null,
            "grid_area": null,
            "grid_auto_columns": null,
            "grid_auto_flow": null,
            "grid_auto_rows": null,
            "grid_column": null,
            "grid_gap": null,
            "grid_row": null,
            "grid_template_areas": null,
            "grid_template_columns": null,
            "grid_template_rows": null,
            "height": null,
            "justify_content": null,
            "justify_items": null,
            "left": null,
            "margin": null,
            "max_height": null,
            "max_width": null,
            "min_height": null,
            "min_width": null,
            "object_fit": null,
            "object_position": null,
            "order": null,
            "overflow": null,
            "overflow_x": null,
            "overflow_y": null,
            "padding": null,
            "right": null,
            "top": null,
            "visibility": null,
            "width": null
          }
        },
        "e14851d75b1a46f9bd28c53977ec617d": {
          "model_module": "@jupyter-widgets/controls",
          "model_name": "DescriptionStyleModel",
          "model_module_version": "1.5.0",
          "state": {
            "_model_module": "@jupyter-widgets/controls",
            "_model_module_version": "1.5.0",
            "_model_name": "DescriptionStyleModel",
            "_view_count": null,
            "_view_module": "@jupyter-widgets/base",
            "_view_module_version": "1.2.0",
            "_view_name": "StyleView",
            "description_width": ""
          }
        }
      }
    }
  },
  "nbformat": 4,
  "nbformat_minor": 0
}