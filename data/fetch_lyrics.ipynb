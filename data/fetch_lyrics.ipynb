{
 "cells": [
  {
   "cell_type": "code",
   "execution_count": 3,
   "id": "b5c722e7",
   "metadata": {},
   "outputs": [
    {
     "name": "stdout",
     "output_type": "stream",
     "text": [
      "Collecting lyricsgenius\n",
      "  Downloading lyricsgenius-3.0.1-py3-none-any.whl (59 kB)\n",
      "\u001b[2K     \u001b[90m━━━━━━━━━━━━━━━━━━━━━━━━━━━━━━━━━━━━━━━━\u001b[0m \u001b[32m59.4/59.4 kB\u001b[0m \u001b[31m3.4 MB/s\u001b[0m eta \u001b[36m0:00:00\u001b[0m\n",
      "\u001b[?25hRequirement already satisfied: requests>=2.20.0 in /opt/homebrew/lib/python3.10/site-packages (from lyricsgenius) (2.28.1)\n",
      "Collecting beautifulsoup4>=4.6.0\n",
      "  Downloading beautifulsoup4-4.12.2-py3-none-any.whl (142 kB)\n",
      "\u001b[2K     \u001b[90m━━━━━━━━━━━━━━━━━━━━━━━━━━━━━━━━━━━━━━━\u001b[0m \u001b[32m143.0/143.0 kB\u001b[0m \u001b[31m6.8 MB/s\u001b[0m eta \u001b[36m0:00:00\u001b[0m\n",
      "\u001b[?25hCollecting soupsieve>1.2\n",
      "  Downloading soupsieve-2.4.1-py3-none-any.whl (36 kB)\n",
      "Requirement already satisfied: idna<4,>=2.5 in /opt/homebrew/lib/python3.10/site-packages (from requests>=2.20.0->lyricsgenius) (3.4)\n",
      "Requirement already satisfied: certifi>=2017.4.17 in /opt/homebrew/lib/python3.10/site-packages (from requests>=2.20.0->lyricsgenius) (2022.9.24)\n",
      "Requirement already satisfied: charset-normalizer<3,>=2 in /opt/homebrew/lib/python3.10/site-packages (from requests>=2.20.0->lyricsgenius) (2.1.1)\n",
      "Requirement already satisfied: urllib3<1.27,>=1.21.1 in /opt/homebrew/lib/python3.10/site-packages (from requests>=2.20.0->lyricsgenius) (1.26.13)\n",
      "Installing collected packages: soupsieve, beautifulsoup4, lyricsgenius\n",
      "Successfully installed beautifulsoup4-4.12.2 lyricsgenius-3.0.1 soupsieve-2.4.1\n",
      "\n",
      "\u001b[1m[\u001b[0m\u001b[34;49mnotice\u001b[0m\u001b[1;39;49m]\u001b[0m\u001b[39;49m A new release of pip available: \u001b[0m\u001b[31;49m22.3.1\u001b[0m\u001b[39;49m -> \u001b[0m\u001b[32;49m23.1.2\u001b[0m\n",
      "\u001b[1m[\u001b[0m\u001b[34;49mnotice\u001b[0m\u001b[1;39;49m]\u001b[0m\u001b[39;49m To update, run: \u001b[0m\u001b[32;49mpython3.10 -m pip install --upgrade pip\u001b[0m\n"
     ]
    }
   ],
   "source": [
    "!pip3 install lyricsgenius"
   ]
  },
  {
   "cell_type": "code",
   "execution_count": 40,
   "id": "c862057b",
   "metadata": {},
   "outputs": [
    {
     "name": "stdout",
     "output_type": "stream",
     "text": [
      "Searching for songs by Harry Styles...\n",
      "\n",
      "\"30,000 Miles\" is not valid. Skipping.\n",
      "\"5378 Miles\" is not valid. Skipping.\n",
      "Song 1: \"Adore You\"\n",
      "\"Already here\" is not valid. Skipping.\n",
      "\"Already Home\" is not valid. Skipping.\n",
      "\"A Modern Life\" is not valid. Skipping.\n",
      "Song 2: \"Anne\"\n",
      "Song 3: \"As It Was\"\n",
      "\n",
      "Reached user-specified song limit (3).\n",
      "Done. Found 3 songs.\n",
      "[Song(id, artist, ...), Song(id, artist, ...), Song(id, artist, ...)]\n"
     ]
    }
   ],
   "source": [
    "from lyricsgenius import Genius\n",
    "token='PFl5Jdd01ayEMNqxIkuoAWnA7N9Xw9KqD9BSphLmjQ4IBrJqyaTA9CxKP2k8yJpz'\n",
    "genius = Genius(token)\n",
    "artist = genius.search_artist(\"Harry Styles\", max_songs=3, sort=\"title\")\n",
    "print(artist.songs)"
   ]
  },
  {
   "cell_type": "code",
   "execution_count": 81,
   "id": "1bf8fb17",
   "metadata": {
    "scrolled": true
   },
   "outputs": [],
   "source": [
    "song = genius.search_song(\"The Archer\", \"Taylor Swift\")\n",
    "lyrics=song.lyrics\n",
    "verses=[]\n",
    "for x in lyrics.split('Lyrics')[1][:-7].split('\\n'):\n",
    "    if '[' in list(x) or len(x)==0:\n",
    "        continue\n",
    "    verses.append(x.replace(\"\\'\",\"\"))\n"
   ]
  },
  {
   "cell_type": "code",
   "execution_count": 82,
   "id": "e17913e5",
   "metadata": {},
   "outputs": [
    {
     "data": {
      "text/plain": [
       "\"145 ContributorsTranslationsEspañolHrvatskiPortuguêsPolskiItalianoFrançaisNederlandsDanskThe Archer Lyrics[Verse 1]\\nCombat, I'm ready for combat\\nI say I don't want that, but what if I do?\\n'Cause cruelty wins in the movies\\nI've got a hundred thrown-out speeches I almost said to you\\n\\n[Pre-Chorus]\\nEasy they come, easy they go\\nI jump from the train, I ride off alone\\nI never grew up, it's getting so old\\nHelp me hold on to you\\n\\n[Chorus]\\nI've been the archer, I've been the prey\\nWho could ever leave me, darling\\nBut who could stay?\\n\\n[Verse 2]\\nDark side, I search for your dark side\\nBut what if I'm alright, right, right, right here?\\nAnd I cut off my nose just to spite my face\\nThen I hate my reflection for years and years\\n\\n[Pre-Chorus]\\nI wake in the night, I pace like a ghost\\nThe room is on fire, invisible smoke\\nAnd all of my heroes die all alone\\nHelp me hold on to you\\nSee Taylor Swift LiveGet tickets as low as $100You might also like[Chorus]\\nI've been the archer, I've been the prey\\nScreaming, who could ever leave me, darling\\nBut who could stay?\\n(I see right through me, I see right through me)\\n\\n[Bridge]\\n'Cause they see right through me\\nThey see right through me\\nThey see right through\\nCan you see right through me?\\nThey see right through\\nThey see right through me\\nI see right through me\\nI see right through me\\n\\n[Pre-Chorus]\\nAll the king's horses, all the king's men\\nCouldn't put me together again\\n'Cause all of my enemies started out friends\\nHelp me hold on to you\\n\\n[Chorus]\\nI've been the archer, I've been the prey\\nWho could ever leave me, darling\\nBut who could stay?\\n(I see right through me, I see right through me)\\nWho could stay?\\nWho could stay?\\nWho could stay?\\nYou could stay\\nYou could stay\\n[Outro]\\nCombat, I'm ready for combat77Embed\""
      ]
     },
     "execution_count": 82,
     "metadata": {},
     "output_type": "execute_result"
    }
   ],
   "source": [
    "lyrics"
   ]
  },
  {
   "cell_type": "code",
   "execution_count": 108,
   "id": "9a7757f5",
   "metadata": {},
   "outputs": [],
   "source": [
    "import pandas as pd\n",
    "import time\n",
    "from tqdm import tqdm"
   ]
  },
  {
   "cell_type": "code",
   "execution_count": 84,
   "id": "62cefeff",
   "metadata": {},
   "outputs": [],
   "source": [
    "data=pd.read_csv('MoodyLyrics/ml_raw.csv')"
   ]
  },
  {
   "cell_type": "code",
   "execution_count": 118,
   "id": "aa49b98b",
   "metadata": {},
   "outputs": [],
   "source": [
    "genius.verbose = False\n",
    "genius.timeout = 300"
   ]
  },
  {
   "cell_type": "code",
   "execution_count": 119,
   "id": "4fddc92e",
   "metadata": {
    "scrolled": true
   },
   "outputs": [
    {
     "name": "stderr",
     "output_type": "stream",
     "text": [
      "21it [00:39,  1.06s/it]"
     ]
    },
    {
     "name": "stdout",
     "output_type": "stream",
     "text": [
      "Song not found - Peace Of God by Tarralyn Ramsey\n"
     ]
    },
    {
     "name": "stderr",
     "output_type": "stream",
     "text": [
      "26it [00:42,  1.51it/s]"
     ]
    },
    {
     "name": "stdout",
     "output_type": "stream",
     "text": [
      "Song not found - Darkness At The Bottom by Anders Osborne\n"
     ]
    },
    {
     "name": "stderr",
     "output_type": "stream",
     "text": [
      "137it [04:24,  1.06it/s]"
     ]
    },
    {
     "name": "stdout",
     "output_type": "stream",
     "text": [
      "Song not found - King For A Day by The Thompson Twins\n"
     ]
    },
    {
     "name": "stderr",
     "output_type": "stream",
     "text": [
      "167it [05:10,  1.10s/it]"
     ]
    },
    {
     "name": "stdout",
     "output_type": "stream",
     "text": [
      "Song not found - This Fire Burns by Killswitch Engage\n"
     ]
    },
    {
     "name": "stderr",
     "output_type": "stream",
     "text": [
      "331it [08:49,  1.45it/s]"
     ]
    },
    {
     "name": "stdout",
     "output_type": "stream",
     "text": [
      "Song not found - Sometimes by Matt Brouwer\n"
     ]
    },
    {
     "name": "stderr",
     "output_type": "stream",
     "text": [
      "496it [13:24,  2.14s/it]"
     ]
    },
    {
     "name": "stdout",
     "output_type": "stream",
     "text": [
      "Song not found - Red Clay by Freddie Hubbard\n"
     ]
    },
    {
     "name": "stderr",
     "output_type": "stream",
     "text": [
      "506it [13:31,  1.46it/s]"
     ]
    },
    {
     "name": "stdout",
     "output_type": "stream",
     "text": [
      "Song not found - Trading My Sorrows by Darrell Evans\n"
     ]
    },
    {
     "name": "stderr",
     "output_type": "stream",
     "text": [
      "585it [14:44,  1.01it/s]"
     ]
    },
    {
     "name": "stdout",
     "output_type": "stream",
     "text": [
      "Song not found - I'll Never Smile Again  by Tommy Dorsey & His Orchestra\n"
     ]
    },
    {
     "name": "stderr",
     "output_type": "stream",
     "text": [
      "655it [16:22,  1.86s/it]"
     ]
    },
    {
     "name": "stdout",
     "output_type": "stream",
     "text": [
      "Song not found - Fire Burning On The Dance Floor by Sean Kingston\n"
     ]
    },
    {
     "name": "stderr",
     "output_type": "stream",
     "text": [
      "770it [18:58,  1.24it/s]"
     ]
    },
    {
     "name": "stdout",
     "output_type": "stream",
     "text": [
      "Song not found - You're Only Lonely by J.D. Souther\n"
     ]
    },
    {
     "name": "stderr",
     "output_type": "stream",
     "text": [
      "778it [19:07,  1.32it/s]"
     ]
    },
    {
     "name": "stdout",
     "output_type": "stream",
     "text": [
      "Song not found - Grateful  by Hezekiah Walker & The Love Fellowship Crusade Choir\n"
     ]
    },
    {
     "name": "stderr",
     "output_type": "stream",
     "text": [
      "858it [20:29,  1.18s/it]"
     ]
    },
    {
     "name": "stdout",
     "output_type": "stream",
     "text": [
      "Song not found - Fortune Faded by The Red Hot Chili Peppers\n"
     ]
    },
    {
     "name": "stderr",
     "output_type": "stream",
     "text": [
      "911it [21:33,  1.00it/s]"
     ]
    },
    {
     "name": "stdout",
     "output_type": "stream",
     "text": [
      "Song not found - Color Dropping by Eskmo\n"
     ]
    },
    {
     "name": "stderr",
     "output_type": "stream",
     "text": [
      "918it [21:45,  1.83s/it]"
     ]
    },
    {
     "name": "stdout",
     "output_type": "stream",
     "text": [
      "Song not found - Thrill Me by Roy Milton\n"
     ]
    },
    {
     "name": "stderr",
     "output_type": "stream",
     "text": [
      "968it [22:41,  1.22it/s]"
     ]
    },
    {
     "name": "stdout",
     "output_type": "stream",
     "text": [
      "Song not found - What Is This Thing Called Love? by Ann Hampton Callaway\n"
     ]
    },
    {
     "name": "stderr",
     "output_type": "stream",
     "text": [
      "986it [23:03,  1.89s/it]"
     ]
    },
    {
     "name": "stdout",
     "output_type": "stream",
     "text": [
      "Song not found - Requiem Pour Un C... by Serge Gainsbourg\n"
     ]
    },
    {
     "name": "stderr",
     "output_type": "stream",
     "text": [
      "1034it [23:51,  1.30it/s]"
     ]
    },
    {
     "name": "stdout",
     "output_type": "stream",
     "text": [
      "Song not found - Blood Sugar Sex Magik by The Red Hot Chili Peppers\n"
     ]
    },
    {
     "name": "stderr",
     "output_type": "stream",
     "text": [
      "1106it [25:07,  1.59it/s]"
     ]
    },
    {
     "name": "stdout",
     "output_type": "stream",
     "text": [
      "Song not found - A Taste Of Honey by Herb Alpert & The Tijuana Brass\n"
     ]
    },
    {
     "name": "stderr",
     "output_type": "stream",
     "text": [
      "1148it [25:38,  1.58it/s]"
     ]
    },
    {
     "name": "stdout",
     "output_type": "stream",
     "text": [
      "Song not found - Que Sacrificio by Banda Maguey\n"
     ]
    },
    {
     "name": "stderr",
     "output_type": "stream",
     "text": [
      "1180it [26:16,  1.19s/it]"
     ]
    },
    {
     "name": "stdout",
     "output_type": "stream",
     "text": [
      "Song not found - Kind Hearted Woman by Big Head Blues Club\n"
     ]
    },
    {
     "name": "stderr",
     "output_type": "stream",
     "text": [
      "1184it [26:18,  1.37it/s]"
     ]
    },
    {
     "name": "stdout",
     "output_type": "stream",
     "text": [
      "Song not found - War Ina Babylon by Max Romeo & The Upsetters\n"
     ]
    },
    {
     "name": "stderr",
     "output_type": "stream",
     "text": [
      "\r",
      "1185it [26:19,  1.63it/s]"
     ]
    },
    {
     "name": "stdout",
     "output_type": "stream",
     "text": [
      "Song not found - Red Clay by Freddie Hubbard\n"
     ]
    },
    {
     "name": "stderr",
     "output_type": "stream",
     "text": [
      "1209it [26:44,  1.14s/it]"
     ]
    },
    {
     "name": "stdout",
     "output_type": "stream",
     "text": [
      "Song not found - Baba  by Andy Palacio & The Garifuna Collective\n"
     ]
    },
    {
     "name": "stderr",
     "output_type": "stream",
     "text": [
      "1237it [27:08,  1.33s/it]"
     ]
    },
    {
     "name": "stdout",
     "output_type": "stream",
     "text": [
      "Song not found - Silent Night by Kirk Franklin & The Family\n"
     ]
    },
    {
     "name": "stderr",
     "output_type": "stream",
     "text": [
      "1262it [27:32,  1.21it/s]"
     ]
    },
    {
     "name": "stdout",
     "output_type": "stream",
     "text": [
      "Song not found - Happy Xmas  by Rebecca St. James\n"
     ]
    },
    {
     "name": "stderr",
     "output_type": "stream",
     "text": [
      "\r",
      "1263it [27:32,  1.48it/s]"
     ]
    },
    {
     "name": "stdout",
     "output_type": "stream",
     "text": [
      "Song not found - Have Yourself A Merry Little Christmas by Matt Brouwer\n"
     ]
    },
    {
     "name": "stderr",
     "output_type": "stream",
     "text": [
      "1309it [28:24,  1.42s/it]"
     ]
    },
    {
     "name": "stdout",
     "output_type": "stream",
     "text": [
      "Song not found - Smoking Gun by The Robert Cray Band\n"
     ]
    },
    {
     "name": "stderr",
     "output_type": "stream",
     "text": [
      "1719it [35:13,  1.12s/it]"
     ]
    },
    {
     "name": "stdout",
     "output_type": "stream",
     "text": [
      "Song not found - Merry Christmas  by The Ramones\n"
     ]
    },
    {
     "name": "stderr",
     "output_type": "stream",
     "text": [
      "1727it [35:19,  1.49it/s]"
     ]
    },
    {
     "name": "stdout",
     "output_type": "stream",
     "text": [
      "Song not found - Swampblood by Th' Legendary Shack Shakers\n"
     ]
    },
    {
     "name": "stderr",
     "output_type": "stream",
     "text": [
      "1743it [35:32,  1.26it/s]"
     ]
    },
    {
     "name": "stdout",
     "output_type": "stream",
     "text": [
      "Song not found - Blue Christmas by Ricky Van Shelton\n"
     ]
    },
    {
     "name": "stderr",
     "output_type": "stream",
     "text": [
      "1811it [36:55,  1.24s/it]"
     ]
    },
    {
     "name": "stdout",
     "output_type": "stream",
     "text": [
      "Song not found - The Ballad Of The Sin Father by Ted Leo & The Pharmacists\n"
     ]
    },
    {
     "name": "stderr",
     "output_type": "stream",
     "text": [
      "1833it [37:31,  1.29s/it]"
     ]
    },
    {
     "name": "stdout",
     "output_type": "stream",
     "text": [
      "Song not found - Love Gotcha by Coco Montoya\n"
     ]
    },
    {
     "name": "stderr",
     "output_type": "stream",
     "text": [
      "1850it [38:01,  1.43s/it]"
     ]
    },
    {
     "name": "stdout",
     "output_type": "stream",
     "text": [
      "Song not found - Surfin' Bird by The Ramones\n"
     ]
    },
    {
     "name": "stderr",
     "output_type": "stream",
     "text": [
      "1882it [39:15,  1.64s/it]"
     ]
    },
    {
     "name": "stdout",
     "output_type": "stream",
     "text": [
      "Song not found - Seek &#x26; Destroy by Metallica\n"
     ]
    },
    {
     "name": "stderr",
     "output_type": "stream",
     "text": [
      "1896it [39:41,  1.29s/it]"
     ]
    },
    {
     "name": "stdout",
     "output_type": "stream",
     "text": [
      "Song not found - Metal Will Never Die  by David Rock Feinstein\n"
     ]
    },
    {
     "name": "stderr",
     "output_type": "stream",
     "text": [
      "1941it [40:59,  1.54s/it]"
     ]
    },
    {
     "name": "stdout",
     "output_type": "stream",
     "text": [
      "Song not found - I'll Never Smile Again by Tommy Dorsey & His Orchestra\n"
     ]
    },
    {
     "name": "stderr",
     "output_type": "stream",
     "text": [
      "1945it [41:09,  2.38s/it]"
     ]
    },
    {
     "name": "stdout",
     "output_type": "stream",
     "text": [
      "Song not found - Ticket To Ride by The Carpenters\n"
     ]
    },
    {
     "name": "stderr",
     "output_type": "stream",
     "text": [
      "2060it [45:04,  1.05s/it]"
     ]
    },
    {
     "name": "stdout",
     "output_type": "stream",
     "text": [
      "Song not found - 53rd & 3rd by The Ramones\n"
     ]
    },
    {
     "name": "stderr",
     "output_type": "stream",
     "text": [
      "2075it [45:28,  1.42s/it]"
     ]
    },
    {
     "name": "stdout",
     "output_type": "stream",
     "text": [
      "Song not found - Hamburg Hotel by Underworld\n"
     ]
    },
    {
     "name": "stderr",
     "output_type": "stream",
     "text": [
      "2135it [47:25,  1.48s/it]"
     ]
    },
    {
     "name": "stdout",
     "output_type": "stream",
     "text": [
      "Song not found - No Puedo Olvidarme De Ti  by MDO\n"
     ]
    },
    {
     "name": "stderr",
     "output_type": "stream",
     "text": [
      "2165it [48:28,  1.66s/it]"
     ]
    },
    {
     "name": "stdout",
     "output_type": "stream",
     "text": [
      "Song not found - Ahora Que No Estas by Los Horoscopos De Durango\n"
     ]
    },
    {
     "name": "stderr",
     "output_type": "stream",
     "text": [
      "2167it [48:30,  1.30s/it]"
     ]
    },
    {
     "name": "stdout",
     "output_type": "stream",
     "text": [
      "Song not found - Killing Each Other by Anders Osborne\n"
     ]
    },
    {
     "name": "stderr",
     "output_type": "stream",
     "text": [
      "2280it [52:10,  1.69s/it]"
     ]
    },
    {
     "name": "stdout",
     "output_type": "stream",
     "text": [
      "Song not found - The Dope  by The Dandy Warhols\n"
     ]
    },
    {
     "name": "stderr",
     "output_type": "stream",
     "text": [
      "2296it [52:44,  1.61s/it]"
     ]
    },
    {
     "name": "stdout",
     "output_type": "stream",
     "text": [
      "Song not found - Dissidents (The Search For Truth Part 1) (2009 Digital Remaster) by Thomas Dolby\n"
     ]
    },
    {
     "name": "stderr",
     "output_type": "stream",
     "text": [
      "2304it [53:01,  1.67s/it]"
     ]
    },
    {
     "name": "stdout",
     "output_type": "stream",
     "text": [
      "Song not found - Lust for life (recorded during the us tour in 1986) by Iggy Pop\n"
     ]
    },
    {
     "name": "stderr",
     "output_type": "stream",
     "text": [
      "2314it [53:21,  1.20s/it]"
     ]
    },
    {
     "name": "stdout",
     "output_type": "stream",
     "text": [
      "Song not found - Black Lung (Album Version) by Rancid\n"
     ]
    },
    {
     "name": "stderr",
     "output_type": "stream",
     "text": [
      "2329it [54:11,  3.29s/it]"
     ]
    },
    {
     "name": "stdout",
     "output_type": "stream",
     "text": [
      "Song not found - Consume (LP Version) by Sick Of It All\n"
     ]
    },
    {
     "name": "stderr",
     "output_type": "stream",
     "text": [
      "2332it [54:15,  1.92s/it]"
     ]
    },
    {
     "name": "stdout",
     "output_type": "stream",
     "text": [
      "Song not found - Ur SjÃ¤lslig DÃ¶d by MÃ¥negarm\n"
     ]
    },
    {
     "name": "stderr",
     "output_type": "stream",
     "text": [
      "2335it [54:19,  1.51s/it]"
     ]
    },
    {
     "name": "stdout",
     "output_type": "stream",
     "text": [
      "Song not found - You Know What They Do To Guys Like Us In Prison (Album Version) by My Chemical Romance\n"
     ]
    },
    {
     "name": "stderr",
     "output_type": "stream",
     "text": [
      "2352it [54:55,  3.47s/it]"
     ]
    },
    {
     "name": "stdout",
     "output_type": "stream",
     "text": [
      "Song not found - Wildfire (Album Version) by P.O.D.\n"
     ]
    },
    {
     "name": "stderr",
     "output_type": "stream",
     "text": [
      "2368it [55:30,  1.72s/it]"
     ]
    },
    {
     "name": "stdout",
     "output_type": "stream",
     "text": [
      "Song not found - Flat Earth Society (Album Version) by Bad Religion\n"
     ]
    },
    {
     "name": "stderr",
     "output_type": "stream",
     "text": [
      "2372it [55:35,  1.29s/it]"
     ]
    },
    {
     "name": "stdout",
     "output_type": "stream",
     "text": [
      "Song not found - Bystander (Album Version) by unloco\n"
     ]
    },
    {
     "name": "stderr",
     "output_type": "stream",
     "text": [
      "2374it [55:37,  1.04it/s]"
     ]
    },
    {
     "name": "stdout",
     "output_type": "stream",
     "text": [
      "Song not found - 6 Yrs (Album Version ) by Reach 454\n"
     ]
    },
    {
     "name": "stderr",
     "output_type": "stream",
     "text": [
      "2377it [55:41,  1.13s/it]"
     ]
    },
    {
     "name": "stdout",
     "output_type": "stream",
     "text": [
      "Song not found - Angry Young Men (LP Version) by Randy Stonehill\n"
     ]
    },
    {
     "name": "stderr",
     "output_type": "stream",
     "text": [
      "2380it [55:45,  1.22s/it]"
     ]
    },
    {
     "name": "stdout",
     "output_type": "stream",
     "text": [
      "Song not found - Christina The Astonishing (2010 Digital Remaster) by Nick Cave & The Bad Seeds\n"
     ]
    },
    {
     "name": "stderr",
     "output_type": "stream",
     "text": [
      "2390it [56:08,  1.71s/it]"
     ]
    },
    {
     "name": "stdout",
     "output_type": "stream",
     "text": [
      "Song not found - Supermassive Black Hole (Album Version) by Muse\n"
     ]
    },
    {
     "name": "stderr",
     "output_type": "stream",
     "text": [
      "2395it [56:21,  1.84s/it]"
     ]
    },
    {
     "name": "stdout",
     "output_type": "stream",
     "text": [
      "Song not found - Love Ain't No Stranger (2003 Digital Remaster) by Whitesnake\n"
     ]
    },
    {
     "name": "stderr",
     "output_type": "stream",
     "text": [
      "2397it [56:24,  1.45s/it]"
     ]
    },
    {
     "name": "stdout",
     "output_type": "stream",
     "text": [
      "Song not found - Rainbow Country (Red Gold And Green Version) by Bob Marley & The Wailers\n"
     ]
    },
    {
     "name": "stderr",
     "output_type": "stream",
     "text": [
      "2402it [56:33,  1.51s/it]"
     ]
    },
    {
     "name": "stdout",
     "output_type": "stream",
     "text": [
      "Song not found - No Ordinary Love (Remastered LP Version) by Deftones\n"
     ]
    },
    {
     "name": "stderr",
     "output_type": "stream",
     "text": [
      "2421it [57:04,  2.36s/it]"
     ]
    },
    {
     "name": "stdout",
     "output_type": "stream",
     "text": [
      "Song not found - Make It Funky (Album Version) by Information Society\n"
     ]
    },
    {
     "name": "stderr",
     "output_type": "stream",
     "text": [
      "2427it [57:15,  1.86s/it]"
     ]
    },
    {
     "name": "stdout",
     "output_type": "stream",
     "text": [
      "Song not found - 2 Late 4 Goodbyes by Jeff Scott Soto\n"
     ]
    },
    {
     "name": "stderr",
     "output_type": "stream",
     "text": [
      "2430it [57:22,  1.76s/it]"
     ]
    },
    {
     "name": "stdout",
     "output_type": "stream",
     "text": [
      "Song not found - Out Of The Danger Zone (Degarmo And Key Album Version) by DeGarmo & Key\n"
     ]
    },
    {
     "name": "stderr",
     "output_type": "stream",
     "text": [
      "2452it [58:04,  1.19s/it]"
     ]
    },
    {
     "name": "stdout",
     "output_type": "stream",
     "text": [
      "Song not found - Lotion (LP Version) by Deftones\n"
     ]
    },
    {
     "name": "stderr",
     "output_type": "stream",
     "text": [
      "2456it [58:12,  1.57s/it]"
     ]
    },
    {
     "name": "stdout",
     "output_type": "stream",
     "text": [
      "Song not found - You (Demo) by Radiohead\n"
     ]
    },
    {
     "name": "stderr",
     "output_type": "stream",
     "text": [
      "2460it [58:17,  1.20s/it]"
     ]
    },
    {
     "name": "stdout",
     "output_type": "stream",
     "text": [
      "Song not found - I Love You More Than You'll Ever Know (LP Version) by Donny Hathaway\n"
     ]
    },
    {
     "name": "stderr",
     "output_type": "stream",
     "text": [
      "2472it [58:38,  1.51s/it]"
     ]
    },
    {
     "name": "stdout",
     "output_type": "stream",
     "text": [
      "Song not found - Trash (live Paris) by New York Dolls\n"
     ]
    },
    {
     "name": "stderr",
     "output_type": "stream",
     "text": [
      "2493it [59:16,  1.26s/it]"
     ]
    },
    {
     "name": "stdout",
     "output_type": "stream",
     "text": [
      "Song not found - Northern Downpour (Album Version) by Panic At The Disco\n"
     ]
    },
    {
     "name": "stderr",
     "output_type": "stream",
     "text": [
      "2499it [59:28,  1.45s/it]"
     ]
    },
    {
     "name": "stdout",
     "output_type": "stream",
     "text": [
      "Song not found - Ex's And Oh's (Instrumental Version) by Atreyu\n"
     ]
    },
    {
     "name": "stderr",
     "output_type": "stream",
     "text": [
      "2529it [1:00:19,  1.36s/it]"
     ]
    },
    {
     "name": "stdout",
     "output_type": "stream",
     "text": [
      "Song not found - Now It's My Turn (Aqualite Mix) by Berlin\n"
     ]
    },
    {
     "name": "stderr",
     "output_type": "stream",
     "text": [
      "2542it [1:00:37,  1.07s/it]"
     ]
    },
    {
     "name": "stdout",
     "output_type": "stream",
     "text": [
      "Song not found - Paper Aeroplane (Live From 'Drastic Fantastic' Tour) by KT Tunstall\n"
     ]
    },
    {
     "name": "stderr",
     "output_type": "stream",
     "text": [
      "2569it [1:01:21,  1.76s/it]"
     ]
    },
    {
     "name": "stdout",
     "output_type": "stream",
     "text": [
      "Song not found - Can't Even Get the Blues No More by Reba McEntire\n"
     ]
    },
    {
     "name": "stderr",
     "output_type": "stream",
     "text": [
      "2595it [1:01:50,  1.43s/it]\n"
     ]
    }
   ],
   "source": [
    "lyric_col=[]\n",
    "tryagain=[]\n",
    "art,title,mood=[],[],[]\n",
    "for i, r in tqdm(data.iterrows()):\n",
    "    try:\n",
    "        song = genius.search_song(r['Title'], r['Artist'])\n",
    "        if song==None:\n",
    "            print(f\"Song not found - {r['Title']} by {r['Artist']}\")\n",
    "            continue\n",
    "        lyrics=song.lyrics\n",
    "        if lyrics.count('-')>200:\n",
    "            print(f\"Song not found - {r['Title']} by {r['Artist']}\")\n",
    "            continue\n",
    "        verses=[]\n",
    "        for x in lyrics.split('Lyrics')[1][:-7].split('\\n'):\n",
    "            if '[' in list(x) or len(x)==0:\n",
    "                continue\n",
    "            verses.append(x.replace(\"\\'\",\"\"))\n",
    "        lyric_col.append(' '.join(verses))\n",
    "        art.append(r['Artist'])\n",
    "        title.append(r['Title'])\n",
    "        mood.append(r['Mood'])\n",
    "    except TimeoutError:\n",
    "        tryagain.append((r['Artist'],r['Title'],r['Mood']))\n",
    "    "
   ]
  },
  {
   "cell_type": "code",
   "execution_count": 92,
   "id": "ea24271e",
   "metadata": {},
   "outputs": [
    {
     "name": "stdout",
     "output_type": "stream",
     "text": [
      "Searching for \"Peace Of God\" by Tarralyn Ramsey...\n",
      "No results found for: 'Peace Of God Tarralyn Ramsey'\n"
     ]
    }
   ],
   "source": [
    "genius.verbose=True\n",
    "song = genius.search_song('Peace Of God', 'Tarralyn Ramsey')"
   ]
  },
  {
   "cell_type": "code",
   "execution_count": 121,
   "id": "a663aadb",
   "metadata": {},
   "outputs": [
    {
     "data": {
      "text/html": [
       "<div>\n",
       "<style scoped>\n",
       "    .dataframe tbody tr th:only-of-type {\n",
       "        vertical-align: middle;\n",
       "    }\n",
       "\n",
       "    .dataframe tbody tr th {\n",
       "        vertical-align: top;\n",
       "    }\n",
       "\n",
       "    .dataframe thead th {\n",
       "        text-align: right;\n",
       "    }\n",
       "</style>\n",
       "<table border=\"1\" class=\"dataframe\">\n",
       "  <thead>\n",
       "    <tr style=\"text-align: right;\">\n",
       "      <th></th>\n",
       "      <th>artist</th>\n",
       "      <th>title</th>\n",
       "      <th>mood</th>\n",
       "      <th>lyrics</th>\n",
       "    </tr>\n",
       "  </thead>\n",
       "  <tbody>\n",
       "    <tr>\n",
       "      <th>0</th>\n",
       "      <td>Usher</td>\n",
       "      <td>There Goes My Baby</td>\n",
       "      <td>relaxed</td>\n",
       "      <td>Yeah... right... Usher baby... okay, yeah man ...</td>\n",
       "    </tr>\n",
       "    <tr>\n",
       "      <th>1</th>\n",
       "      <td>Da'Ville</td>\n",
       "      <td>On My Mind</td>\n",
       "      <td>relaxed</td>\n",
       "      <td>Ahhhhhhhh Youre om my mind Yea Verse1 Im think...</td>\n",
       "    </tr>\n",
       "    <tr>\n",
       "      <th>2</th>\n",
       "      <td>Rihanna</td>\n",
       "      <td>Rockstar 101</td>\n",
       "      <td>relaxed</td>\n",
       "      <td>I told ya, I told ya I told ya baby, baby Uh, ...</td>\n",
       "    </tr>\n",
       "    <tr>\n",
       "      <th>3</th>\n",
       "      <td>J. Holiday</td>\n",
       "      <td>Bed</td>\n",
       "      <td>relaxed</td>\n",
       "      <td>J. Holiday Oo-oh, oo-oh (Ay-ay-ay, Ay, Ay-ay-a...</td>\n",
       "    </tr>\n",
       "    <tr>\n",
       "      <th>4</th>\n",
       "      <td>Morgan Heritage</td>\n",
       "      <td>Don't Haffi Dread</td>\n",
       "      <td>angry</td>\n",
       "      <td>Yeah, yeah, yeah - ragga so ragga You dont ha ...</td>\n",
       "    </tr>\n",
       "    <tr>\n",
       "      <th>...</th>\n",
       "      <td>...</td>\n",
       "      <td>...</td>\n",
       "      <td>...</td>\n",
       "      <td>...</td>\n",
       "    </tr>\n",
       "    <tr>\n",
       "      <th>2519</th>\n",
       "      <td>Slayer</td>\n",
       "      <td>Fight Till Death</td>\n",
       "      <td>angry</td>\n",
       "      <td>Metal and men clash once more to the end Warri...</td>\n",
       "    </tr>\n",
       "    <tr>\n",
       "      <th>2520</th>\n",
       "      <td>Anthrax</td>\n",
       "      <td>Among the Living</td>\n",
       "      <td>angry</td>\n",
       "      <td>Disease, disease! Spreading the disease With s...</td>\n",
       "    </tr>\n",
       "    <tr>\n",
       "      <th>2521</th>\n",
       "      <td>Opeth</td>\n",
       "      <td>Heir Apparent</td>\n",
       "      <td>sad</td>\n",
       "      <td>Long days, slow waste Sew lies, sow hate So ma...</td>\n",
       "    </tr>\n",
       "    <tr>\n",
       "      <th>2522</th>\n",
       "      <td>Sepultura</td>\n",
       "      <td>Territory</td>\n",
       "      <td>angry</td>\n",
       "      <td>Unknown man speaks to the world Sucking your t...</td>\n",
       "    </tr>\n",
       "    <tr>\n",
       "      <th>2523</th>\n",
       "      <td>Bing Crosby</td>\n",
       "      <td>Sweet Leilani</td>\n",
       "      <td>relaxed</td>\n",
       "      <td>Sweet Leilani Heavenly flower Nature fashioned...</td>\n",
       "    </tr>\n",
       "  </tbody>\n",
       "</table>\n",
       "<p>2524 rows × 4 columns</p>\n",
       "</div>"
      ],
      "text/plain": [
       "               artist               title     mood  \\\n",
       "0               Usher  There Goes My Baby  relaxed   \n",
       "1            Da'Ville          On My Mind  relaxed   \n",
       "2             Rihanna       Rockstar 101   relaxed   \n",
       "3          J. Holiday                 Bed  relaxed   \n",
       "4     Morgan Heritage   Don't Haffi Dread    angry   \n",
       "...               ...                 ...      ...   \n",
       "2519           Slayer    Fight Till Death    angry   \n",
       "2520          Anthrax    Among the Living    angry   \n",
       "2521            Opeth       Heir Apparent      sad   \n",
       "2522        Sepultura           Territory    angry   \n",
       "2523      Bing Crosby       Sweet Leilani  relaxed   \n",
       "\n",
       "                                                 lyrics  \n",
       "0     Yeah... right... Usher baby... okay, yeah man ...  \n",
       "1     Ahhhhhhhh Youre om my mind Yea Verse1 Im think...  \n",
       "2     I told ya, I told ya I told ya baby, baby Uh, ...  \n",
       "3     J. Holiday Oo-oh, oo-oh (Ay-ay-ay, Ay, Ay-ay-a...  \n",
       "4     Yeah, yeah, yeah - ragga so ragga You dont ha ...  \n",
       "...                                                 ...  \n",
       "2519  Metal and men clash once more to the end Warri...  \n",
       "2520  Disease, disease! Spreading the disease With s...  \n",
       "2521  Long days, slow waste Sew lies, sow hate So ma...  \n",
       "2522  Unknown man speaks to the world Sucking your t...  \n",
       "2523  Sweet Leilani Heavenly flower Nature fashioned...  \n",
       "\n",
       "[2524 rows x 4 columns]"
      ]
     },
     "execution_count": 121,
     "metadata": {},
     "output_type": "execute_result"
    }
   ],
   "source": [
    "newdf=pd.DataFrame()\n",
    "newdf['artist']=art\n",
    "newdf['title']=title\n",
    "newdf['mood']=mood\n",
    "newdf['lyrics']=lyric_col\n",
    "newdf"
   ]
  },
  {
   "cell_type": "code",
   "execution_count": 122,
   "id": "0a6a9be6",
   "metadata": {},
   "outputs": [],
   "source": [
    "newdf.to_csv('song-lyrics-mood.csv')"
   ]
  }
 ],
 "metadata": {
  "kernelspec": {
   "display_name": "Python 3 (ipykernel)",
   "language": "python",
   "name": "python3"
  },
  "language_info": {
   "codemirror_mode": {
    "name": "ipython",
    "version": 3
   },
   "file_extension": ".py",
   "mimetype": "text/x-python",
   "name": "python",
   "nbconvert_exporter": "python",
   "pygments_lexer": "ipython3",
   "version": "3.10.7"
  }
 },
 "nbformat": 4,
 "nbformat_minor": 5
}
