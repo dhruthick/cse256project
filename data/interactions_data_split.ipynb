{
  "nbformat": 4,
  "nbformat_minor": 0,
  "metadata": {
    "colab": {
      "provenance": [],
      "mount_file_id": "1Eo4HlggxKNOgckHJ0yuCTQaje4V92Up1",
      "authorship_tag": "ABX9TyMcSHa78bsmrMOcHyGuDzto",
      "include_colab_link": true
    },
    "kernelspec": {
      "name": "python3",
      "display_name": "Python 3"
    },
    "language_info": {
      "name": "python"
    }
  },
  "cells": [
    {
      "cell_type": "markdown",
      "metadata": {
        "id": "view-in-github",
        "colab_type": "text"
      },
      "source": [
        "<a href=\"https://colab.research.google.com/github/dhruthick/cse256project/blob/main/data/interactions_data_split.ipynb\" target=\"_parent\"><img src=\"https://colab.research.google.com/assets/colab-badge.svg\" alt=\"Open In Colab\"/></a>"
      ]
    },
    {
      "cell_type": "markdown",
      "source": [
        "## Imports"
      ],
      "metadata": {
        "id": "Mvb4V80s_APH"
      }
    },
    {
      "cell_type": "code",
      "execution_count": null,
      "metadata": {
        "id": "2v5FHB0L9o4v"
      },
      "outputs": [],
      "source": [
        "import pandas as pd\n",
        "import numpy as np\n",
        "\n",
        "from sklearn.model_selection import train_test_split"
      ]
    },
    {
      "cell_type": "markdown",
      "source": [
        "## Read data"
      ],
      "metadata": {
        "id": "plZbJoBt_CSo"
      }
    },
    {
      "cell_type": "code",
      "source": [
        "data_path='/content/drive/MyDrive/cse256/project/data/'\n",
        "# interactions=pd.read_csv(data_path+'interactions_with_trackslyrics.csv')"
      ],
      "metadata": {
        "id": "Bhjc28Db9tsV"
      },
      "execution_count": null,
      "outputs": []
    },
    {
      "cell_type": "code",
      "source": [
        "tracks=pd.read_csv(data_path+'tracks.csv').drop('tid',axis=1)\n",
        "interactions=interactions.join(tracks.set_index('track_uri'),on='track_uri',how='inner').reset_index(drop=True)\n"
      ],
      "metadata": {
        "id": "TbGtGSNYLi_j"
      },
      "execution_count": null,
      "outputs": []
    },
    {
      "cell_type": "markdown",
      "source": [
        "## Generate playlist ids and track ids"
      ],
      "metadata": {
        "id": "Wj97ukE6STcl"
      }
    },
    {
      "cell_type": "code",
      "source": [
        "pids=[]\n",
        "for pid, group in interactions.groupby('pid'):\n",
        "  if len(group)>5:\n",
        "    pids.append(pid)\n",
        "interactions=interactions[interactions.pid.isin(pids)]"
      ],
      "metadata": {
        "id": "-46vlfHuIVIt"
      },
      "execution_count": null,
      "outputs": []
    },
    {
      "cell_type": "code",
      "source": [
        "track_uri2tid={}\n",
        "tid=0\n",
        "for uri in np.unique(interactions.track_uri):\n",
        "  track_uri2tid[uri]=tid\n",
        "  tid+=1\n",
        "interactions['tid']=interactions.track_uri.apply(lambda x:track_uri2tid[x])"
      ],
      "metadata": {
        "id": "ble15X4VKH7A"
      },
      "execution_count": null,
      "outputs": []
    },
    {
      "cell_type": "code",
      "source": [
        "pid2gen_pid={}\n",
        "gen_pid=0\n",
        "for pid in np.unique(interactions.pid):\n",
        "  pid2gen_pid[pid]=gen_pid\n",
        "  gen_pid+=1\n",
        "interactions['gen_pid']=interactions.pid.apply(lambda x:pid2gen_pid[x])"
      ],
      "metadata": {
        "id": "uoNCaetyLAZt"
      },
      "execution_count": null,
      "outputs": []
    },
    {
      "cell_type": "markdown",
      "source": [
        "## Split interactions into train, val, and test sets"
      ],
      "metadata": {
        "id": "mS6ikC9ISXdI"
      }
    },
    {
      "cell_type": "code",
      "source": [
        "train,test=train_test_split(interactions, test_size=0.4, stratify=interactions['pid'])\n",
        "val,test=train_test_split(test, test_size=0.5, stratify=test['pid'])"
      ],
      "metadata": {
        "id": "REWgCJEEGK94"
      },
      "execution_count": null,
      "outputs": []
    },
    {
      "cell_type": "code",
      "source": [
        "l=[len(train),len(val),len(test)]\n",
        "l"
      ],
      "metadata": {
        "colab": {
          "base_uri": "https://localhost:8080/"
        },
        "id": "xrysRvwLpg-0",
        "outputId": "f30135f3-4837-415f-937a-2e2180517864"
      },
      "execution_count": null,
      "outputs": [
        {
          "output_type": "execute_result",
          "data": {
            "text/plain": [
              "[598734, 199578, 199578]"
            ]
          },
          "metadata": {},
          "execution_count": 6
        }
      ]
    },
    {
      "cell_type": "code",
      "source": [
        "train.to_csv(data_path+'interactions_train.csv',index=False)\n",
        "val.to_csv(data_path+'interactions_val.csv',index=False)\n",
        "test.to_csv(data_path+'interactions_test.csv',index=False)"
      ],
      "metadata": {
        "id": "Ydjk4bvbGy_M"
      },
      "execution_count": null,
      "outputs": []
    },
    {
      "cell_type": "code",
      "source": [
        " interactions.to_csv(data_path+'all_interactions.csv',index=False)"
      ],
      "metadata": {
        "id": "o7Uqb-z1Fiki"
      },
      "execution_count": null,
      "outputs": []
    }
  ]
}