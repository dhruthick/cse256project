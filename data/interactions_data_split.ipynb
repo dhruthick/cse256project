{
  "nbformat": 4,
  "nbformat_minor": 0,
  "metadata": {
    "colab": {
      "provenance": [],
      "mount_file_id": "1nDx-YW5UQWNhERcHYLdMcS6G1zudGKYP",
      "authorship_tag": "ABX9TyNsqv/4M+nXXPCT54zCaV2z",
      "include_colab_link": true
    },
    "kernelspec": {
      "name": "python3",
      "display_name": "Python 3"
    },
    "language_info": {
      "name": "python"
    }
  },
  "cells": [
    {
      "cell_type": "markdown",
      "metadata": {
        "id": "view-in-github",
        "colab_type": "text"
      },
      "source": [
        "<a href=\"https://colab.research.google.com/github/dhruthick/cse256project/blob/main/data/interactions_data_split.ipynb\" target=\"_parent\"><img src=\"https://colab.research.google.com/assets/colab-badge.svg\" alt=\"Open In Colab\"/></a>"
      ]
    },
    {
      "cell_type": "code",
      "execution_count": 1,
      "metadata": {
        "id": "wOKWDdkYojRr"
      },
      "outputs": [],
      "source": [
        "import pandas as pd\n",
        "import numpy as np\n",
        "from collections import defaultdict\n",
        "from tqdm import tqdm\n",
        "\n",
        "from sklearn.model_selection import train_test_split"
      ]
    },
    {
      "cell_type": "code",
      "source": [
        "interactions=pd.read_csv('/content/drive/MyDrive/cse256/project/data/interactions.csv', nrows=500000)[['pid','track_uri','position']]\n",
        "tracks=pd.read_csv('/content/drive/MyDrive/cse256/project/data/interactions_with_track_name.csv')[['track_name','track_uri','artist_name','duration','artist_uri','album_uri','album_name']]"
      ],
      "metadata": {
        "id": "NRFem_5FpbZu"
      },
      "execution_count": 2,
      "outputs": []
    },
    {
      "cell_type": "code",
      "source": [
        "interactions=interactions.join(tracks.set_index('track_uri'),on='track_uri',how='inner').reset_index(drop=True)"
      ],
      "metadata": {
        "id": "ANqKbx80AGbj"
      },
      "execution_count": 3,
      "outputs": []
    },
    {
      "cell_type": "code",
      "source": [
        "playlist_lengths=interactions.pid.value_counts().to_dict()\n",
        "drop_playlists=[p for p,l in playlist_lengths.items() if l<1]\n",
        "interactions = interactions[~interactions['pid'].isin(drop_playlists)]"
      ],
      "metadata": {
        "id": "DFaom7nRg9Ou"
      },
      "execution_count": 4,
      "outputs": []
    },
    {
      "cell_type": "code",
      "source": [
        "all_playlists=np.unique(interactions.pid)"
      ],
      "metadata": {
        "id": "IzUZd4B8SsWY"
      },
      "execution_count": 8,
      "outputs": []
    },
    {
      "cell_type": "code",
      "source": [
        "train,test_playlists=train_test_split(all_playlists,  test_size=0.15)\n",
        "train_playlists,val_playlists=train_test_split(train, test_size=0.176)\n",
        "\n",
        "print(f'Size of train, val and test sets: {len(train_playlists),len(val_playlists),len(test_playlists)}')"
      ],
      "metadata": {
        "colab": {
          "base_uri": "https://localhost:8080/"
        },
        "id": "YrX3ETudgPOE",
        "outputId": "9f2aad27-8f1d-4a01-fe8c-022e7ae51e55"
      },
      "execution_count": 9,
      "outputs": [
        {
          "output_type": "stream",
          "name": "stdout",
          "text": [
            "Size of train, val and test sets: (5235, 1119, 1122)\n"
          ]
        }
      ]
    },
    {
      "cell_type": "code",
      "source": [
        "interactions[interactions['pid'].isin(train_playlists)].reset_index(drop=True).to_csv('/content/drive/MyDrive/cse256/project/data/interactions_train.csv',index=False)\n",
        "interactions[interactions['pid'].isin(val_playlists)].reset_index(drop=True).to_csv('/content/drive/MyDrive/cse256/project/data/interactions_val.csv',index=False)\n",
        "interactions[interactions['pid'].isin(test_playlists)].reset_index(drop=True).to_csv('/content/drive/MyDrive/cse256/project/data/interactions_test.csv',index=False)"
      ],
      "metadata": {
        "id": "wpY2MZbPkLbX"
      },
      "execution_count": 11,
      "outputs": []
    }
  ]
}