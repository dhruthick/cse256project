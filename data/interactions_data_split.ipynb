{
  "nbformat": 4,
  "nbformat_minor": 0,
  "metadata": {
    "colab": {
      "provenance": [],
      "mount_file_id": "1nDx-YW5UQWNhERcHYLdMcS6G1zudGKYP",
      "authorship_tag": "ABX9TyOewDk/AViwDOKKJCIHQ7jf",
      "include_colab_link": true
    },
    "kernelspec": {
      "name": "python3",
      "display_name": "Python 3"
    },
    "language_info": {
      "name": "python"
    }
  },
  "cells": [
    {
      "cell_type": "markdown",
      "metadata": {
        "id": "view-in-github",
        "colab_type": "text"
      },
      "source": [
        "<a href=\"https://colab.research.google.com/github/dhruthick/cse256project/blob/main/data/interactions_data_split.ipynb\" target=\"_parent\"><img src=\"https://colab.research.google.com/assets/colab-badge.svg\" alt=\"Open In Colab\"/></a>"
      ]
    },
    {
      "cell_type": "code",
      "execution_count": 3,
      "metadata": {
        "id": "wOKWDdkYojRr"
      },
      "outputs": [],
      "source": [
        "import pandas as pd\n",
        "import numpy as np\n",
        "from collections import defaultdict\n",
        "from tqdm import tqdm\n",
        "\n",
        "from sklearn.model_selection import train_test_split"
      ]
    },
    {
      "cell_type": "code",
      "source": [
        "interactions=pd.read_csv('/content/drive/MyDrive/cse256/project/data/interactions.csv', nrows=500000)[['pid','track_uri','position']]\n",
        "tracks=pd.read_csv('/content/drive/MyDrive/cse256/project/data/interactions_with_track_name.csv')[['track_name','track_uri','artist_name','duration','artist_uri','album_uri','album_name']]"
      ],
      "metadata": {
        "id": "NRFem_5FpbZu"
      },
      "execution_count": 45,
      "outputs": []
    },
    {
      "cell_type": "code",
      "source": [
        "interactions=interactions.join(tracks.set_index('track_uri'),on='track_uri',how='inner').reset_index(drop=True)"
      ],
      "metadata": {
        "id": "ANqKbx80AGbj"
      },
      "execution_count": 49,
      "outputs": []
    },
    {
      "cell_type": "code",
      "source": [
        "playlist_lengths=interactions.pid.value_counts().to_dict()\n",
        "drop_playlists=[p for p,l in playlist_lengths.items() if l<1]\n",
        "interactions = interactions[~interactions['pid'].isin(drop_playlists)]"
      ],
      "metadata": {
        "id": "DFaom7nRg9Ou"
      },
      "execution_count": 50,
      "outputs": []
    },
    {
      "cell_type": "code",
      "source": [
        "train,test=train_test_split(interactions,  test_size=0.15, stratify=interactions['pid'])\n",
        "train,val=train_test_split(train, test_size=0.176, stratify=train['pid'])\n",
        "\n",
        "print(f'Size of train, val and test sets: {len(train),len(val),len(test)}')"
      ],
      "metadata": {
        "colab": {
          "base_uri": "https://localhost:8080/"
        },
        "id": "YrX3ETudgPOE",
        "outputId": "955964af-a167-40fb-b4de-519515d61ba8"
      },
      "execution_count": 51,
      "outputs": [
        {
          "output_type": "stream",
          "name": "stdout",
          "text": [
            "Size of train, val and test sets: (350200, 74800, 75000)\n"
          ]
        }
      ]
    },
    {
      "cell_type": "code",
      "source": [
        "train.reset_index(drop=True).to_csv('/content/drive/MyDrive/cse256/project/data/interactions_train.csv',index=False)\n",
        "val.reset_index(drop=True).to_csv('/content/drive/MyDrive/cse256/project/data/interactions_val.csv',index=False)\n",
        "test.reset_index(drop=True).to_csv('/content/drive/MyDrive/cse256/project/data/interactions_test.csv',index=False)"
      ],
      "metadata": {
        "id": "wpY2MZbPkLbX"
      },
      "execution_count": 52,
      "outputs": []
    }
  ]
}