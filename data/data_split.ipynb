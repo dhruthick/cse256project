{
  "nbformat": 4,
  "nbformat_minor": 0,
  "metadata": {
    "colab": {
      "provenance": [],
      "mount_file_id": "1cM0h4zQ1Lv2nNEVO15azzX5H2O3CA2Jl",
      "authorship_tag": "ABX9TyO1HpM5Ykc6ACpd98PwInyn",
      "include_colab_link": true
    },
    "kernelspec": {
      "name": "python3",
      "display_name": "Python 3"
    },
    "language_info": {
      "name": "python"
    }
  },
  "cells": [
    {
      "cell_type": "markdown",
      "metadata": {
        "id": "view-in-github",
        "colab_type": "text"
      },
      "source": [
        "<a href=\"https://colab.research.google.com/github/dhruthick/cse256project/blob/main/data/data_split.ipynb\" target=\"_parent\"><img src=\"https://colab.research.google.com/assets/colab-badge.svg\" alt=\"Open In Colab\"/></a>"
      ]
    },
    {
      "cell_type": "markdown",
      "source": [
        "# Data Split"
      ],
      "metadata": {
        "id": "4wZ01g-z9Gt8"
      }
    },
    {
      "cell_type": "markdown",
      "source": [
        "## Imports"
      ],
      "metadata": {
        "id": "5HeRzvk39Ejj"
      }
    },
    {
      "cell_type": "code",
      "execution_count": 34,
      "metadata": {
        "id": "91oVmhah4kFf"
      },
      "outputs": [],
      "source": [
        "import pandas as pd\n",
        "import numpy as np\n",
        "\n",
        "from sklearn.preprocessing import LabelEncoder\n",
        "from sklearn.model_selection import train_test_split"
      ]
    },
    {
      "cell_type": "markdown",
      "source": [
        "## Read and Split Data"
      ],
      "metadata": {
        "id": "jGfZW3Gl9LQB"
      }
    },
    {
      "cell_type": "code",
      "source": [
        "data=pd.read_csv('/content/drive/MyDrive/cse256/project/data/song-lyrics-mood.csv')"
      ],
      "metadata": {
        "id": "z-Jte_lu5a7T"
      },
      "execution_count": 35,
      "outputs": []
    },
    {
      "cell_type": "code",
      "source": [
        "data=data.dropna(subset=['lyrics']).copy()"
      ],
      "metadata": {
        "id": "GWnjotwv6RfG"
      },
      "execution_count": 36,
      "outputs": []
    },
    {
      "cell_type": "code",
      "source": [
        "label_encoder=LabelEncoder()\n",
        "data['mood_encoded']=label_encoder.fit_transform(data['mood'])"
      ],
      "metadata": {
        "id": "UidIZ43AANVP"
      },
      "execution_count": 37,
      "outputs": []
    },
    {
      "cell_type": "code",
      "source": [
        "train, test = train_test_split(data, test_size=0.2, random_state=42, shuffle=True, stratify=data['mood'])\n",
        "test, val = train_test_split(test, test_size=0.5, random_state=42, shuffle=True, stratify=test['mood'])"
      ],
      "metadata": {
        "id": "o6pW_yEB532i"
      },
      "execution_count": 38,
      "outputs": []
    },
    {
      "cell_type": "code",
      "source": [
        "print(f'Number of examples in train set: {len(train)}')\n",
        "print(f'Number of examples in validation set: {len(val)}')\n",
        "print(f'Number of examples in test set: {len(test)}')"
      ],
      "metadata": {
        "colab": {
          "base_uri": "https://localhost:8080/"
        },
        "id": "FZCU5L-c-e52",
        "outputId": "b23a39a2-ba59-4526-f400-39320a4c1c14"
      },
      "execution_count": 39,
      "outputs": [
        {
          "output_type": "stream",
          "name": "stdout",
          "text": [
            "Number of examples in train set: 2018\n",
            "Number of examples in validation set: 253\n",
            "Number of examples in test set: 252\n"
          ]
        }
      ]
    },
    {
      "cell_type": "markdown",
      "source": [
        "## Write data"
      ],
      "metadata": {
        "id": "bB-MpjIg-Np2"
      }
    },
    {
      "cell_type": "code",
      "source": [
        "train.to_csv('/content/drive/MyDrive/cse256/project/data/train.csv',index=False)\n",
        "val.to_csv('/content/drive/MyDrive/cse256/project/data/validation.csv',index=False)\n",
        "test.to_csv('/content/drive/MyDrive/cse256/project/data/test.csv',index=False)"
      ],
      "metadata": {
        "id": "_IKqdhIU5__o"
      },
      "execution_count": 40,
      "outputs": []
    },
    {
      "cell_type": "code",
      "source": [],
      "metadata": {
        "id": "2HSEwhdJ_vzX"
      },
      "execution_count": null,
      "outputs": []
    }
  ]
}